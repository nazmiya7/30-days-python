{
 "cells": [
  {
   "cell_type": "code",
   "execution_count": 156,
   "id": "d0df95c8",
   "metadata": {},
   "outputs": [
    {
     "name": "stdout",
     "output_type": "stream",
     "text": [
      "Requirement already satisfied: pandas in /home/nazmiya/.local/share/virtualenvs/day_26-4rVtl_Wa/lib/python3.7/site-packages (1.2.4)\n",
      "Requirement already satisfied: sqlalchemy in /home/nazmiya/.local/share/virtualenvs/day_26-4rVtl_Wa/lib/python3.7/site-packages (1.4.18)\n",
      "Collecting sqlacodegen\n",
      "  Downloading sqlacodegen-2.3.0-py2.py3-none-any.whl (13 kB)\n",
      "Requirement already satisfied: pytz>=2017.3 in /home/nazmiya/.local/share/virtualenvs/day_26-4rVtl_Wa/lib/python3.7/site-packages (from pandas) (2021.1)\n",
      "Requirement already satisfied: python-dateutil>=2.7.3 in /home/nazmiya/.local/share/virtualenvs/day_26-4rVtl_Wa/lib/python3.7/site-packages (from pandas) (2.8.1)\n",
      "Requirement already satisfied: numpy>=1.16.5 in /home/nazmiya/.local/share/virtualenvs/day_26-4rVtl_Wa/lib/python3.7/site-packages (from pandas) (1.20.3)\n",
      "Requirement already satisfied: six>=1.5 in /home/nazmiya/.local/share/virtualenvs/day_26-4rVtl_Wa/lib/python3.7/site-packages (from python-dateutil>=2.7.3->pandas) (1.16.0)\n",
      "Requirement already satisfied: importlib-metadata in /home/nazmiya/.local/share/virtualenvs/day_26-4rVtl_Wa/lib/python3.7/site-packages (from sqlalchemy) (4.5.0)\n",
      "Requirement already satisfied: greenlet!=0.4.17 in /home/nazmiya/.local/share/virtualenvs/day_26-4rVtl_Wa/lib/python3.7/site-packages (from sqlalchemy) (1.1.0)\n",
      "Collecting inflect>=0.2.0\n",
      "  Downloading inflect-5.3.0-py3-none-any.whl (32 kB)\n",
      "Requirement already satisfied: zipp>=0.5 in /home/nazmiya/.local/share/virtualenvs/day_26-4rVtl_Wa/lib/python3.7/site-packages (from importlib-metadata->sqlalchemy) (3.4.1)\n",
      "Requirement already satisfied: typing-extensions>=3.6.4 in /home/nazmiya/.local/share/virtualenvs/day_26-4rVtl_Wa/lib/python3.7/site-packages (from importlib-metadata->sqlalchemy) (3.10.0.0)\n",
      "Installing collected packages: inflect, sqlacodegen\n",
      "Successfully installed inflect-5.3.0 sqlacodegen-2.3.0\n"
     ]
    }
   ],
   "source": [
    "!pip install pandas sqlalchemy sqlacodegen"
   ]
  },
  {
   "cell_type": "code",
   "execution_count": 94,
   "id": "7da00b5e",
   "metadata": {},
   "outputs": [],
   "source": [
    "import pickle\n",
    "import pandas as pd"
   ]
  },
  {
   "cell_type": "code",
   "execution_count": 95,
   "id": "2c9b0757",
   "metadata": {},
   "outputs": [],
   "source": [
    "data=[{\"name\":\"abi\"}]\n",
    "\n",
    "with open(\"users.pkl\",'wb') as f:\n",
    "    pickle.dump(data,f) #pickle.dump"
   ]
  },
  {
   "cell_type": "code",
   "execution_count": 96,
   "id": "250ffcab",
   "metadata": {},
   "outputs": [
    {
     "name": "stdout",
     "output_type": "stream",
     "text": [
      "[{'name': 'abi'}] <class 'list'>\n"
     ]
    }
   ],
   "source": [
    "data_from_pkl=pickle.load(open('users.pkl','rb'))#pickle.loads -> pickle.load\n",
    "print(data_from_pkl,type(data_from_pkl))"
   ]
  },
  {
   "cell_type": "code",
   "execution_count": 97,
   "id": "376da54c",
   "metadata": {},
   "outputs": [
    {
     "data": {
      "text/html": [
       "<div>\n",
       "<style scoped>\n",
       "    .dataframe tbody tr th:only-of-type {\n",
       "        vertical-align: middle;\n",
       "    }\n",
       "\n",
       "    .dataframe tbody tr th {\n",
       "        vertical-align: top;\n",
       "    }\n",
       "\n",
       "    .dataframe thead th {\n",
       "        text-align: right;\n",
       "    }\n",
       "</style>\n",
       "<table border=\"1\" class=\"dataframe\">\n",
       "  <thead>\n",
       "    <tr style=\"text-align: right;\">\n",
       "      <th></th>\n",
       "      <th>name</th>\n",
       "    </tr>\n",
       "  </thead>\n",
       "  <tbody>\n",
       "    <tr>\n",
       "      <th>0</th>\n",
       "      <td>abi</td>\n",
       "    </tr>\n",
       "  </tbody>\n",
       "</table>\n",
       "</div>"
      ],
      "text/plain": [
       "  name\n",
       "0  abi"
      ]
     },
     "execution_count": 97,
     "metadata": {},
     "output_type": "execute_result"
    }
   ],
   "source": [
    "df=pd.DataFrame(data)\n",
    "df.head()\n"
   ]
  },
  {
   "cell_type": "code",
   "execution_count": 98,
   "id": "8f095600",
   "metadata": {},
   "outputs": [
    {
     "data": {
      "text/plain": [
       "name    object\n",
       "dtype: object"
      ]
     },
     "execution_count": 98,
     "metadata": {},
     "output_type": "execute_result"
    }
   ],
   "source": [
    "\n",
    "\n",
    "df.to_pickle(\"df_pkl\")\n",
    "df.dtypes"
   ]
  },
  {
   "cell_type": "code",
   "execution_count": 99,
   "id": "11c214f4",
   "metadata": {},
   "outputs": [
    {
     "data": {
      "text/html": [
       "<div>\n",
       "<style scoped>\n",
       "    .dataframe tbody tr th:only-of-type {\n",
       "        vertical-align: middle;\n",
       "    }\n",
       "\n",
       "    .dataframe tbody tr th {\n",
       "        vertical-align: top;\n",
       "    }\n",
       "\n",
       "    .dataframe thead th {\n",
       "        text-align: right;\n",
       "    }\n",
       "</style>\n",
       "<table border=\"1\" class=\"dataframe\">\n",
       "  <thead>\n",
       "    <tr style=\"text-align: right;\">\n",
       "      <th></th>\n",
       "      <th>name</th>\n",
       "    </tr>\n",
       "  </thead>\n",
       "  <tbody>\n",
       "    <tr>\n",
       "      <th>0</th>\n",
       "      <td>abi</td>\n",
       "    </tr>\n",
       "  </tbody>\n",
       "</table>\n",
       "</div>"
      ],
      "text/plain": [
       "  name\n",
       "0  abi"
      ]
     },
     "execution_count": 99,
     "metadata": {},
     "output_type": "execute_result"
    }
   ],
   "source": [
    "df2=pd.read_pickle(\"df_pkl\")\n",
    "df2.head()"
   ]
  },
  {
   "cell_type": "code",
   "execution_count": 100,
   "id": "58b705e6",
   "metadata": {},
   "outputs": [
    {
     "data": {
      "text/plain": [
       "name    object\n",
       "dtype: object"
      ]
     },
     "execution_count": 100,
     "metadata": {},
     "output_type": "execute_result"
    }
   ],
   "source": [
    "df2.dtypes\n",
    "\n"
   ]
  },
  {
   "cell_type": "code",
   "execution_count": 101,
   "id": "8fdbe4c4",
   "metadata": {},
   "outputs": [],
   "source": [
    "df.to_csv(\"my_df.csv\",index=False)"
   ]
  },
  {
   "cell_type": "markdown",
   "id": "84201667",
   "metadata": {},
   "source": [
    "###SQLAlchamy"
   ]
  },
  {
   "cell_type": "code",
   "execution_count": 102,
   "id": "1250a34f",
   "metadata": {},
   "outputs": [],
   "source": [
    "from dataclasses import dataclass\n",
    "\n",
    "@dataclass\n",
    "class Movie:\n",
    "    name:str='Unknown'\n",
    "    genre:str='Action'\n",
    "    year:int=None    "
   ]
  },
  {
   "cell_type": "code",
   "execution_count": 103,
   "id": "c466a588",
   "metadata": {},
   "outputs": [
    {
     "data": {
      "text/plain": [
       "'interstellar'"
      ]
     },
     "execution_count": 103,
     "metadata": {},
     "output_type": "execute_result"
    }
   ],
   "source": [
    "movie_obj=Movie(name='interstellar',genre='Sci-Fi')\n",
    "movie_obj.name"
   ]
  },
  {
   "cell_type": "code",
   "execution_count": 104,
   "id": "3010c8a0",
   "metadata": {},
   "outputs": [],
   "source": [
    "data=[{\n",
    "    \"name\":\"intersellar\",\n",
    "    \"genre\": \"Sci-Fi\"\n",
    "},\n",
    "{\n",
    "    \"name\":\"The Martian\",\n",
    "    \"genre\": \"Sci-Fi\"\n",
    "},\n",
    "{\n",
    "    \"name\":\"Arrival\",\n",
    "    \"genre\": \"Sci-Fi\"\n",
    "}\n",
    "]"
   ]
  },
  {
   "cell_type": "code",
   "execution_count": 106,
   "id": "5c209652",
   "metadata": {},
   "outputs": [
    {
     "data": {
      "text/html": [
       "<div>\n",
       "<style scoped>\n",
       "    .dataframe tbody tr th:only-of-type {\n",
       "        vertical-align: middle;\n",
       "    }\n",
       "\n",
       "    .dataframe tbody tr th {\n",
       "        vertical-align: top;\n",
       "    }\n",
       "\n",
       "    .dataframe thead th {\n",
       "        text-align: right;\n",
       "    }\n",
       "</style>\n",
       "<table border=\"1\" class=\"dataframe\">\n",
       "  <thead>\n",
       "    <tr style=\"text-align: right;\">\n",
       "      <th></th>\n",
       "      <th>name</th>\n",
       "      <th>genre</th>\n",
       "    </tr>\n",
       "  </thead>\n",
       "  <tbody>\n",
       "    <tr>\n",
       "      <th>0</th>\n",
       "      <td>intersellar</td>\n",
       "      <td>Sci-Fi</td>\n",
       "    </tr>\n",
       "    <tr>\n",
       "      <th>1</th>\n",
       "      <td>The Martian</td>\n",
       "      <td>Sci-Fi</td>\n",
       "    </tr>\n",
       "    <tr>\n",
       "      <th>2</th>\n",
       "      <td>Arrival</td>\n",
       "      <td>Sci-Fi</td>\n",
       "    </tr>\n",
       "  </tbody>\n",
       "</table>\n",
       "</div>"
      ],
      "text/plain": [
       "          name   genre\n",
       "0  intersellar  Sci-Fi\n",
       "1  The Martian  Sci-Fi\n",
       "2      Arrival  Sci-Fi"
      ]
     },
     "execution_count": 106,
     "metadata": {},
     "output_type": "execute_result"
    }
   ],
   "source": [
    "df=pd.DataFrame(data)\n",
    "df.head()"
   ]
  },
  {
   "cell_type": "code",
   "execution_count": 107,
   "id": "126fabd3",
   "metadata": {},
   "outputs": [],
   "source": [
    "import sqlalchemy\n",
    "from sqlalchemy import Column,Integer,String\n",
    "from sqlalchemy import create_engine,Column,String,Integer\n",
    "from sqlalchemy.orm import sessionmaker"
   ]
  },
  {
   "cell_type": "code",
   "execution_count": 108,
   "id": "199c78e5",
   "metadata": {},
   "outputs": [],
   "source": [
    "engine=create_engine(\"sqlite:///app.db\") #mysql,postgres"
   ]
  },
  {
   "cell_type": "code",
   "execution_count": 109,
   "id": "5c64aa94",
   "metadata": {},
   "outputs": [],
   "source": [
    "session =sessionmaker(bind=engine)\n",
    "my_sess=session()"
   ]
  },
  {
   "cell_type": "code",
   "execution_count": 110,
   "id": "3aac939a",
   "metadata": {},
   "outputs": [],
   "source": [
    "from sqlalchemy.ext.declarative import declarative_base\n",
    "\n",
    "Base=declarative_base()"
   ]
  },
  {
   "cell_type": "code",
   "execution_count": 111,
   "id": "2d76c811",
   "metadata": {},
   "outputs": [],
   "source": [
    "\n",
    "class Movie(Base): #table\n",
    "    __tablename__=\"movies\"\n",
    "    \n",
    "    id=Column(Integer,primary_key=True)\n",
    "    name=Column(String)#'Unknown'#col\n",
    "    genre=Column(String)#'Action'#col\n",
    "    description=Column(String)\n",
    "    year=Column(Integer,nullable=True) #None #col\n",
    "    \n",
    "    \n",
    "    def __repr__(self):\n",
    "        return f\"<movie name={self.name}>\"\n",
    "    \n",
    "# save instance=row    "
   ]
  },
  {
   "cell_type": "code",
   "execution_count": 112,
   "id": "cd122c2f",
   "metadata": {},
   "outputs": [],
   "source": [
    "#Add table to database\n",
    "Base.metadata.create_all(engine)"
   ]
  },
  {
   "cell_type": "code",
   "execution_count": 113,
   "id": "2f38d226",
   "metadata": {},
   "outputs": [
    {
     "name": "stdout",
     "output_type": "stream",
     "text": [
      "Interstellar\n"
     ]
    }
   ],
   "source": [
    "movie_obj=Movie(name='Interstellar',genre='Sci-Fi')\n",
    "print(movie_obj.name)"
   ]
  },
  {
   "cell_type": "code",
   "execution_count": 114,
   "id": "14c3f061",
   "metadata": {},
   "outputs": [],
   "source": [
    "movie_obj.id"
   ]
  },
  {
   "cell_type": "code",
   "execution_count": 115,
   "id": "f9a34d50",
   "metadata": {},
   "outputs": [],
   "source": [
    "my_sess.add(movie_obj) # prepare to save\n",
    "my_sess.commit() #save"
   ]
  },
  {
   "cell_type": "code",
   "execution_count": 116,
   "id": "8ce272cd",
   "metadata": {},
   "outputs": [
    {
     "name": "stdout",
     "output_type": "stream",
     "text": [
      "1 None\n"
     ]
    }
   ],
   "source": [
    "print(movie_obj.id,movie_obj.description)"
   ]
  },
  {
   "cell_type": "code",
   "execution_count": 117,
   "id": "060c115d",
   "metadata": {},
   "outputs": [
    {
     "name": "stdout",
     "output_type": "stream",
     "text": [
      "The Martain None\n"
     ]
    }
   ],
   "source": [
    "movie_obj2=Movie(name='The Martain',genre='Sci-Fi')\n",
    "print(movie_obj2.name,movie_obj2.id)"
   ]
  },
  {
   "cell_type": "code",
   "execution_count": 118,
   "id": "48c635f5",
   "metadata": {},
   "outputs": [],
   "source": [
    "my_sess.add(movie_obj2)"
   ]
  },
  {
   "cell_type": "code",
   "execution_count": 119,
   "id": "4bf3522c",
   "metadata": {},
   "outputs": [
    {
     "name": "stdout",
     "output_type": "stream",
     "text": [
      "Inception None\n"
     ]
    }
   ],
   "source": [
    "movie_obj3=Movie(name='Inception',genre='Sci-Fi')\n",
    "print(movie_obj3.name,movie_obj3.id)"
   ]
  },
  {
   "cell_type": "code",
   "execution_count": 120,
   "id": "ab757d37",
   "metadata": {},
   "outputs": [],
   "source": [
    "my_sess.add(movie_obj3)"
   ]
  },
  {
   "cell_type": "code",
   "execution_count": 121,
   "id": "b92d9cc1",
   "metadata": {},
   "outputs": [],
   "source": [
    "my_sess.commit()"
   ]
  },
  {
   "cell_type": "code",
   "execution_count": 122,
   "id": "69e89841",
   "metadata": {},
   "outputs": [
    {
     "name": "stdout",
     "output_type": "stream",
     "text": [
      "2 3\n"
     ]
    }
   ],
   "source": [
    "print(movie_obj2.id,movie_obj3.id)"
   ]
  },
  {
   "cell_type": "markdown",
   "id": "de5e8526",
   "metadata": {},
   "source": [
    "###CRUD insqlalchemy\n"
   ]
  },
  {
   "cell_type": "code",
   "execution_count": 126,
   "id": "2491fd31",
   "metadata": {},
   "outputs": [],
   "source": [
    "Session=sessionmaker(bind=engine)\n",
    "session=session()"
   ]
  },
  {
   "cell_type": "code",
   "execution_count": 131,
   "id": "30efc4d1",
   "metadata": {},
   "outputs": [],
   "source": [
    "#create \n",
    "movie=Movie(name='Guaridans of the Galaxy')\n",
    "session.add(movie)\n",
    "session.commit()"
   ]
  },
  {
   "cell_type": "code",
   "execution_count": 136,
   "id": "6408b972",
   "metadata": {},
   "outputs": [
    {
     "name": "stdout",
     "output_type": "stream",
     "text": [
      "5 Guaridans of the Galaxy\n"
     ]
    }
   ],
   "source": [
    "\n",
    "# reteive\n",
    "\n",
    "#get 1 item\n",
    "movie_a=session.query(Movie).get(5)\n",
    "print(movie_a.id,movie_a.name)"
   ]
  },
  {
   "cell_type": "code",
   "execution_count": 137,
   "id": "f955e50e",
   "metadata": {},
   "outputs": [
    {
     "name": "stdout",
     "output_type": "stream",
     "text": [
      "[<movie name=Interstellar>, <movie name=The Martain>, <movie name=Inception>, <movie name=Guaridans of the Galaxy>, <movie name=Guaridans of the Galaxy>]\n"
     ]
    }
   ],
   "source": [
    "# List \n",
    "\n",
    "qs=session.query(Movie).all()\n",
    "print(qs)"
   ]
  },
  {
   "cell_type": "code",
   "execution_count": 142,
   "id": "a5faa565",
   "metadata": {},
   "outputs": [
    {
     "data": {
      "text/plain": [
       "[<movie name=Guaridans of the Galaxy>, <movie name=Guaridans of the Galaxy>]"
      ]
     },
     "execution_count": 142,
     "metadata": {},
     "output_type": "execute_result"
    }
   ],
   "source": [
    "# List & Filter \n",
    "qs=session.query(Movie).filter_by(name='Guaridans of the Galaxy').all()\n",
    "qs"
   ]
  },
  {
   "cell_type": "code",
   "execution_count": 143,
   "id": "ce753d90",
   "metadata": {},
   "outputs": [
    {
     "data": {
      "text/plain": [
       "[<movie name=Guaridans of the Galaxy>, <movie name=Guaridans of the Galaxy>]"
      ]
     },
     "execution_count": 143,
     "metadata": {},
     "output_type": "execute_result"
    }
   ],
   "source": [
    "# List & Filter by column value cotaining something\n",
    "qs=session.query(Movie).filter(Movie.name.contains(\"Guaridans\")).all()\n",
    "qs"
   ]
  },
  {
   "cell_type": "code",
   "execution_count": 145,
   "id": "3b44821e",
   "metadata": {},
   "outputs": [
    {
     "name": "stdout",
     "output_type": "stream",
     "text": [
      "What are you looking for?matrix\n",
      "[<movie name=Guaridans of the Galaxy>, <movie name=Guaridans of the Galaxy>]\n"
     ]
    }
   ],
   "source": [
    "# List & Filter by column value cotaining something\n",
    "my_query=input(\"What are you looking for?\") or \"Unknow\"\n",
    "qs=session.query(Movie).filter(Movie.name.contains(\"Guaridans\")).all()\n",
    "print(qs)"
   ]
  },
  {
   "cell_type": "code",
   "execution_count": 148,
   "id": "cfb6c752",
   "metadata": {},
   "outputs": [
    {
     "name": "stdout",
     "output_type": "stream",
     "text": [
      "5 Guaridans of the Galaxy A dream within a dream\n"
     ]
    }
   ],
   "source": [
    "#Update\n",
    "\n",
    "movie_a=session.query(Movie).get(5)\n",
    "movie_a.description=\"A dream within a dream\"\n",
    "print(movie_a.id,movie_a.name,movie_a.description)\n",
    "session.commit()"
   ]
  },
  {
   "cell_type": "code",
   "execution_count": 149,
   "id": "143bb19b",
   "metadata": {},
   "outputs": [
    {
     "name": "stdout",
     "output_type": "stream",
     "text": [
      "A dream within a dream\n"
     ]
    }
   ],
   "source": [
    "movie_a=session.query(Movie).get(5)\n",
    "print(movie_a.description)"
   ]
  },
  {
   "cell_type": "code",
   "execution_count": 152,
   "id": "4303b51c",
   "metadata": {},
   "outputs": [],
   "source": [
    "qs=session.query(Movie).filter(Movie.name.contains(\"Guaridans\")).all()\n",
    "for movie_obj in qs:\n",
    "    movie_obj.name=\"Guaridans of the Galaxy\"\n",
    "session.commit()    "
   ]
  },
  {
   "cell_type": "code",
   "execution_count": 153,
   "id": "2c1ea344",
   "metadata": {},
   "outputs": [
    {
     "data": {
      "text/plain": [
       "[<movie name=Guaridans of the Galaxy>, <movie name=Guaridans of the Galaxy>]"
      ]
     },
     "execution_count": 153,
     "metadata": {},
     "output_type": "execute_result"
    }
   ],
   "source": [
    "qs=session.query(Movie).filter(Movie.name.contains(\"Guaridans\")).all()\n",
    "qs"
   ]
  },
  {
   "cell_type": "code",
   "execution_count": 154,
   "id": "ad175004",
   "metadata": {},
   "outputs": [],
   "source": [
    "#Delete\n",
    "movie_a=session.query(Movie).get(1)\n",
    "session.delete(movie_a)\n",
    "session.commit()"
   ]
  },
  {
   "cell_type": "code",
   "execution_count": 155,
   "id": "779b1753",
   "metadata": {},
   "outputs": [],
   "source": [
    "session.flush()"
   ]
  },
  {
   "cell_type": "markdown",
   "id": "e411fab2",
   "metadata": {},
   "source": [
    "###sql"
   ]
  },
  {
   "cell_type": "code",
   "execution_count": 157,
   "id": "7e7da0fe",
   "metadata": {},
   "outputs": [
    {
     "name": "stdout",
     "output_type": "stream",
     "text": [
      "# coding: utf-8\r\n",
      "from sqlalchemy import Column, Integer, String\r\n",
      "from sqlalchemy.ext.declarative import declarative_base\r\n",
      "\r\n",
      "Base = declarative_base()\r\n",
      "metadata = Base.metadata\r\n",
      "\r\n",
      "\r\n",
      "class Movie(Base):\r\n",
      "    __tablename__ = 'movies'\r\n",
      "\r\n",
      "    id = Column(Integer, primary_key=True)\r\n",
      "    name = Column(String)\r\n",
      "    genre = Column(String)\r\n",
      "    year = Column(Integer)\r\n"
     ]
    }
   ],
   "source": [
    "!sqlacodegen sqlite:///app2.db"
   ]
  },
  {
   "cell_type": "code",
   "execution_count": 159,
   "id": "636eeeb1",
   "metadata": {},
   "outputs": [],
   "source": [
    "engine=create_engine(\"sqlite:///app2.db\")\n",
    "Session=sessionmaker(bind=engine)\n",
    "session=Session()"
   ]
  },
  {
   "cell_type": "code",
   "execution_count": 160,
   "id": "9c9293fb",
   "metadata": {},
   "outputs": [],
   "source": [
    "# coding: utf-8\n",
    "from sqlalchemy import Column, Integer, String\n",
    "from sqlalchemy.ext.declarative import declarative_base\n",
    "\n",
    "Base = declarative_base()\n",
    "metadata = Base.metadata\n",
    "\n",
    "\n",
    "class MovieApp2(Base):\n",
    "    __tablename__ = 'movies'\n",
    "\n",
    "    id = Column(Integer, primary_key=True)\n",
    "    name = Column(String)\n",
    "    genre = Column(String)\n",
    "    year = Column(Integer)\n",
    "    \n",
    "    def __repr__(self):\n",
    "        return f\"<Movie name={self.name}>\""
   ]
  },
  {
   "cell_type": "code",
   "execution_count": 161,
   "id": "5df4f72f",
   "metadata": {},
   "outputs": [
    {
     "name": "stdout",
     "output_type": "stream",
     "text": [
      "[<Movie name=Interstellar>]\n"
     ]
    }
   ],
   "source": [
    "qs=session.query(MovieApp2).all()\n",
    "print(qs)"
   ]
  },
  {
   "cell_type": "code",
   "execution_count": 164,
   "id": "efc1d955",
   "metadata": {},
   "outputs": [
    {
     "name": "stdout",
     "output_type": "stream",
     "text": [
      "Interstellar\n"
     ]
    }
   ],
   "source": [
    "for old_obj in qs:\n",
    "\n",
    "    movie_obj=Movie(name=old_obj.name,genre=old_obj.genre,year=old_obj.year)\n",
    "    print(movie_obj.name)\n",
    "    my_sess.add(movie_obj)\n",
    "my_sess.commit()    "
   ]
  },
  {
   "cell_type": "code",
   "execution_count": 165,
   "id": "fbd0df8f",
   "metadata": {},
   "outputs": [
    {
     "data": {
      "text/html": [
       "<div>\n",
       "<style scoped>\n",
       "    .dataframe tbody tr th:only-of-type {\n",
       "        vertical-align: middle;\n",
       "    }\n",
       "\n",
       "    .dataframe tbody tr th {\n",
       "        vertical-align: top;\n",
       "    }\n",
       "\n",
       "    .dataframe thead th {\n",
       "        text-align: right;\n",
       "    }\n",
       "</style>\n",
       "<table border=\"1\" class=\"dataframe\">\n",
       "  <thead>\n",
       "    <tr style=\"text-align: right;\">\n",
       "      <th></th>\n",
       "      <th>id</th>\n",
       "      <th>name</th>\n",
       "      <th>genre</th>\n",
       "      <th>year</th>\n",
       "    </tr>\n",
       "  </thead>\n",
       "  <tbody>\n",
       "    <tr>\n",
       "      <th>0</th>\n",
       "      <td>1</td>\n",
       "      <td>Interstellar</td>\n",
       "      <td>Sci-Fi</td>\n",
       "      <td>None</td>\n",
       "    </tr>\n",
       "  </tbody>\n",
       "</table>\n",
       "</div>"
      ],
      "text/plain": [
       "   id          name   genre  year\n",
       "0   1  Interstellar  Sci-Fi  None"
      ]
     },
     "execution_count": 165,
     "metadata": {},
     "output_type": "execute_result"
    }
   ],
   "source": [
    "old_engine=create_engine(\"sqlite:///app2.db\")\n",
    "old_df=pd.read_sql_table(\"movies\",old_engine)\n",
    "old_df.head()"
   ]
  },
  {
   "cell_type": "code",
   "execution_count": 166,
   "id": "ac93a294",
   "metadata": {},
   "outputs": [
    {
     "data": {
      "text/html": [
       "<div>\n",
       "<style scoped>\n",
       "    .dataframe tbody tr th:only-of-type {\n",
       "        vertical-align: middle;\n",
       "    }\n",
       "\n",
       "    .dataframe tbody tr th {\n",
       "        vertical-align: top;\n",
       "    }\n",
       "\n",
       "    .dataframe thead th {\n",
       "        text-align: right;\n",
       "    }\n",
       "</style>\n",
       "<table border=\"1\" class=\"dataframe\">\n",
       "  <thead>\n",
       "    <tr style=\"text-align: right;\">\n",
       "      <th></th>\n",
       "      <th>id</th>\n",
       "      <th>name</th>\n",
       "      <th>genre</th>\n",
       "      <th>description</th>\n",
       "      <th>year</th>\n",
       "    </tr>\n",
       "  </thead>\n",
       "  <tbody>\n",
       "    <tr>\n",
       "      <th>0</th>\n",
       "      <td>2</td>\n",
       "      <td>The Martain</td>\n",
       "      <td>Sci-Fi</td>\n",
       "      <td>None</td>\n",
       "      <td>None</td>\n",
       "    </tr>\n",
       "    <tr>\n",
       "      <th>1</th>\n",
       "      <td>3</td>\n",
       "      <td>Inception</td>\n",
       "      <td>Sci-Fi</td>\n",
       "      <td>None</td>\n",
       "      <td>None</td>\n",
       "    </tr>\n",
       "    <tr>\n",
       "      <th>2</th>\n",
       "      <td>4</td>\n",
       "      <td>Guaridans of the Galaxy</td>\n",
       "      <td>None</td>\n",
       "      <td>None</td>\n",
       "      <td>None</td>\n",
       "    </tr>\n",
       "    <tr>\n",
       "      <th>3</th>\n",
       "      <td>5</td>\n",
       "      <td>Guaridans of the Galaxy</td>\n",
       "      <td>None</td>\n",
       "      <td>A dream within a dream</td>\n",
       "      <td>None</td>\n",
       "    </tr>\n",
       "    <tr>\n",
       "      <th>4</th>\n",
       "      <td>6</td>\n",
       "      <td>Interstellar</td>\n",
       "      <td>Sci-Fi</td>\n",
       "      <td>None</td>\n",
       "      <td>None</td>\n",
       "    </tr>\n",
       "  </tbody>\n",
       "</table>\n",
       "</div>"
      ],
      "text/plain": [
       "   id                     name   genre             description  year\n",
       "0   2              The Martain  Sci-Fi                    None  None\n",
       "1   3                Inception  Sci-Fi                    None  None\n",
       "2   4  Guaridans of the Galaxy    None                    None  None\n",
       "3   5  Guaridans of the Galaxy    None  A dream within a dream  None\n",
       "4   6             Interstellar  Sci-Fi                    None  None"
      ]
     },
     "execution_count": 166,
     "metadata": {},
     "output_type": "execute_result"
    }
   ],
   "source": [
    "current_engine=create_engine(\"sqlite:///app.db\")\n",
    "current_df=pd.read_sql_table(\"movies\",current_engine)\n",
    "current_df.head()"
   ]
  },
  {
   "cell_type": "code",
   "execution_count": 167,
   "id": "def5c255",
   "metadata": {},
   "outputs": [
    {
     "data": {
      "text/html": [
       "<div>\n",
       "<style scoped>\n",
       "    .dataframe tbody tr th:only-of-type {\n",
       "        vertical-align: middle;\n",
       "    }\n",
       "\n",
       "    .dataframe tbody tr th {\n",
       "        vertical-align: top;\n",
       "    }\n",
       "\n",
       "    .dataframe thead th {\n",
       "        text-align: right;\n",
       "    }\n",
       "</style>\n",
       "<table border=\"1\" class=\"dataframe\">\n",
       "  <thead>\n",
       "    <tr style=\"text-align: right;\">\n",
       "      <th></th>\n",
       "      <th>id</th>\n",
       "      <th>name</th>\n",
       "      <th>genre</th>\n",
       "      <th>description</th>\n",
       "      <th>year</th>\n",
       "    </tr>\n",
       "  </thead>\n",
       "  <tbody>\n",
       "    <tr>\n",
       "      <th>0</th>\n",
       "      <td>2</td>\n",
       "      <td>The Martain</td>\n",
       "      <td>Sci-Fi</td>\n",
       "      <td>None</td>\n",
       "      <td>None</td>\n",
       "    </tr>\n",
       "    <tr>\n",
       "      <th>1</th>\n",
       "      <td>3</td>\n",
       "      <td>Inception</td>\n",
       "      <td>Sci-Fi</td>\n",
       "      <td>None</td>\n",
       "      <td>None</td>\n",
       "    </tr>\n",
       "    <tr>\n",
       "      <th>2</th>\n",
       "      <td>4</td>\n",
       "      <td>Guaridans of the Galaxy</td>\n",
       "      <td>None</td>\n",
       "      <td>None</td>\n",
       "      <td>None</td>\n",
       "    </tr>\n",
       "    <tr>\n",
       "      <th>3</th>\n",
       "      <td>5</td>\n",
       "      <td>Guaridans of the Galaxy</td>\n",
       "      <td>None</td>\n",
       "      <td>A dream within a dream</td>\n",
       "      <td>None</td>\n",
       "    </tr>\n",
       "    <tr>\n",
       "      <th>4</th>\n",
       "      <td>6</td>\n",
       "      <td>Interstellar</td>\n",
       "      <td>Sci-Fi</td>\n",
       "      <td>None</td>\n",
       "      <td>None</td>\n",
       "    </tr>\n",
       "    <tr>\n",
       "      <th>0</th>\n",
       "      <td>1</td>\n",
       "      <td>Interstellar</td>\n",
       "      <td>Sci-Fi</td>\n",
       "      <td>NaN</td>\n",
       "      <td>None</td>\n",
       "    </tr>\n",
       "  </tbody>\n",
       "</table>\n",
       "</div>"
      ],
      "text/plain": [
       "   id                     name   genre             description  year\n",
       "0   2              The Martain  Sci-Fi                    None  None\n",
       "1   3                Inception  Sci-Fi                    None  None\n",
       "2   4  Guaridans of the Galaxy    None                    None  None\n",
       "3   5  Guaridans of the Galaxy    None  A dream within a dream  None\n",
       "4   6             Interstellar  Sci-Fi                    None  None\n",
       "0   1             Interstellar  Sci-Fi                     NaN  None"
      ]
     },
     "execution_count": 167,
     "metadata": {},
     "output_type": "execute_result"
    }
   ],
   "source": [
    "final_df=pd.concat([current_df,old_df])\n",
    "final_df.head(n=20)"
   ]
  },
  {
   "cell_type": "code",
   "execution_count": 168,
   "id": "45772d4e",
   "metadata": {},
   "outputs": [
    {
     "data": {
      "text/html": [
       "<div>\n",
       "<style scoped>\n",
       "    .dataframe tbody tr th:only-of-type {\n",
       "        vertical-align: middle;\n",
       "    }\n",
       "\n",
       "    .dataframe tbody tr th {\n",
       "        vertical-align: top;\n",
       "    }\n",
       "\n",
       "    .dataframe thead th {\n",
       "        text-align: right;\n",
       "    }\n",
       "</style>\n",
       "<table border=\"1\" class=\"dataframe\">\n",
       "  <thead>\n",
       "    <tr style=\"text-align: right;\">\n",
       "      <th></th>\n",
       "      <th>name</th>\n",
       "      <th>genre</th>\n",
       "      <th>description</th>\n",
       "      <th>year</th>\n",
       "    </tr>\n",
       "  </thead>\n",
       "  <tbody>\n",
       "    <tr>\n",
       "      <th>0</th>\n",
       "      <td>The Martain</td>\n",
       "      <td>Sci-Fi</td>\n",
       "      <td>None</td>\n",
       "      <td>None</td>\n",
       "    </tr>\n",
       "    <tr>\n",
       "      <th>1</th>\n",
       "      <td>Inception</td>\n",
       "      <td>Sci-Fi</td>\n",
       "      <td>None</td>\n",
       "      <td>None</td>\n",
       "    </tr>\n",
       "    <tr>\n",
       "      <th>2</th>\n",
       "      <td>Guaridans of the Galaxy</td>\n",
       "      <td>None</td>\n",
       "      <td>None</td>\n",
       "      <td>None</td>\n",
       "    </tr>\n",
       "    <tr>\n",
       "      <th>3</th>\n",
       "      <td>Guaridans of the Galaxy</td>\n",
       "      <td>None</td>\n",
       "      <td>A dream within a dream</td>\n",
       "      <td>None</td>\n",
       "    </tr>\n",
       "    <tr>\n",
       "      <th>4</th>\n",
       "      <td>Interstellar</td>\n",
       "      <td>Sci-Fi</td>\n",
       "      <td>None</td>\n",
       "      <td>None</td>\n",
       "    </tr>\n",
       "    <tr>\n",
       "      <th>5</th>\n",
       "      <td>Interstellar</td>\n",
       "      <td>Sci-Fi</td>\n",
       "      <td>NaN</td>\n",
       "      <td>None</td>\n",
       "    </tr>\n",
       "  </tbody>\n",
       "</table>\n",
       "</div>"
      ],
      "text/plain": [
       "                      name   genre             description  year\n",
       "0              The Martain  Sci-Fi                    None  None\n",
       "1                Inception  Sci-Fi                    None  None\n",
       "2  Guaridans of the Galaxy    None                    None  None\n",
       "3  Guaridans of the Galaxy    None  A dream within a dream  None\n",
       "4             Interstellar  Sci-Fi                    None  None\n",
       "5             Interstellar  Sci-Fi                     NaN  None"
      ]
     },
     "execution_count": 168,
     "metadata": {},
     "output_type": "execute_result"
    }
   ],
   "source": [
    "final_df=final_df[['name','genre','description','year']]\n",
    "final_df.reset_index(inplace=True,drop=True)\n",
    "final_df.head(n=20)"
   ]
  },
  {
   "cell_type": "code",
   "execution_count": 172,
   "id": "569964f9",
   "metadata": {},
   "outputs": [],
   "source": [
    "final_df.to_sql(\n",
    "      \"movies\",\n",
    "      current_engine,\n",
    "    if_exists='replace',\n",
    "      dtype={\n",
    "          \"name\":String,\n",
    "          \"genre\":String,\n",
    "          \"year\":Integer,\n",
    "          \"description\":String,\n",
    "      }\n",
    ")"
   ]
  },
  {
   "cell_type": "code",
   "execution_count": 173,
   "id": "32538cc3",
   "metadata": {},
   "outputs": [
    {
     "name": "stdout",
     "output_type": "stream",
     "text": [
      "# coding: utf-8\r\n",
      "from sqlalchemy import BigInteger, Column, Integer, MetaData, String, Table\r\n",
      "\r\n",
      "metadata = MetaData()\r\n",
      "\r\n",
      "\r\n",
      "t_movies = Table(\r\n",
      "    'movies', metadata,\r\n",
      "    Column('index', BigInteger, index=True),\r\n",
      "    Column('name', String),\r\n",
      "    Column('genre', String),\r\n",
      "    Column('description', String),\r\n",
      "    Column('year', Integer)\r\n",
      ")\r\n",
      "\r\n",
      "\r\n",
      "t_movies_2 = Table(\r\n",
      "    'movies_2', metadata,\r\n",
      "    Column('index', BigInteger, index=True),\r\n",
      "    Column('name', String),\r\n",
      "    Column('genre', String),\r\n",
      "    Column('description', String),\r\n",
      "    Column('year', Integer)\r\n",
      ")\r\n"
     ]
    }
   ],
   "source": [
    "!sqlacodegen sqlite:///app.db"
   ]
  },
  {
   "cell_type": "code",
   "execution_count": 176,
   "id": "132a8f57",
   "metadata": {},
   "outputs": [
    {
     "data": {
      "text/html": [
       "<div>\n",
       "<style scoped>\n",
       "    .dataframe tbody tr th:only-of-type {\n",
       "        vertical-align: middle;\n",
       "    }\n",
       "\n",
       "    .dataframe tbody tr th {\n",
       "        vertical-align: top;\n",
       "    }\n",
       "\n",
       "    .dataframe thead th {\n",
       "        text-align: right;\n",
       "    }\n",
       "</style>\n",
       "<table border=\"1\" class=\"dataframe\">\n",
       "  <thead>\n",
       "    <tr style=\"text-align: right;\">\n",
       "      <th></th>\n",
       "      <th>index</th>\n",
       "      <th>name</th>\n",
       "      <th>genre</th>\n",
       "      <th>description</th>\n",
       "      <th>year</th>\n",
       "    </tr>\n",
       "  </thead>\n",
       "  <tbody>\n",
       "    <tr>\n",
       "      <th>0</th>\n",
       "      <td>0</td>\n",
       "      <td>The Martain</td>\n",
       "      <td>Sci-Fi</td>\n",
       "      <td>None</td>\n",
       "      <td>None</td>\n",
       "    </tr>\n",
       "    <tr>\n",
       "      <th>1</th>\n",
       "      <td>1</td>\n",
       "      <td>Inception</td>\n",
       "      <td>Sci-Fi</td>\n",
       "      <td>None</td>\n",
       "      <td>None</td>\n",
       "    </tr>\n",
       "    <tr>\n",
       "      <th>2</th>\n",
       "      <td>2</td>\n",
       "      <td>Guaridans of the Galaxy</td>\n",
       "      <td>None</td>\n",
       "      <td>None</td>\n",
       "      <td>None</td>\n",
       "    </tr>\n",
       "    <tr>\n",
       "      <th>3</th>\n",
       "      <td>3</td>\n",
       "      <td>Guaridans of the Galaxy</td>\n",
       "      <td>None</td>\n",
       "      <td>A dream within a dream</td>\n",
       "      <td>None</td>\n",
       "    </tr>\n",
       "    <tr>\n",
       "      <th>4</th>\n",
       "      <td>4</td>\n",
       "      <td>Interstellar</td>\n",
       "      <td>Sci-Fi</td>\n",
       "      <td>None</td>\n",
       "      <td>None</td>\n",
       "    </tr>\n",
       "  </tbody>\n",
       "</table>\n",
       "</div>"
      ],
      "text/plain": [
       "   index                     name   genre             description  year\n",
       "0      0              The Martain  Sci-Fi                    None  None\n",
       "1      1                Inception  Sci-Fi                    None  None\n",
       "2      2  Guaridans of the Galaxy    None                    None  None\n",
       "3      3  Guaridans of the Galaxy    None  A dream within a dream  None\n",
       "4      4             Interstellar  Sci-Fi                    None  None"
      ]
     },
     "execution_count": 176,
     "metadata": {},
     "output_type": "execute_result"
    }
   ],
   "source": [
    "import sqlite3\n",
    "\n",
    "\n",
    "conx=sqlite3.connect('app.db')\n",
    "conx2=create_engine(\"sqlite:///app.db\")\n",
    "\n",
    "df=pd.read_sql_query(\"SELECT * FROM movies\",conx)\n",
    "df.head()"
   ]
  },
  {
   "cell_type": "code",
   "execution_count": 177,
   "id": "386c9c52",
   "metadata": {},
   "outputs": [],
   "source": [
    "#cfe.sh/youtube"
   ]
  },
  {
   "cell_type": "code",
   "execution_count": null,
   "id": "45509486",
   "metadata": {},
   "outputs": [],
   "source": []
  }
 ],
 "metadata": {
  "kernelspec": {
   "display_name": "Python 3",
   "language": "python",
   "name": "python3"
  },
  "language_info": {
   "codemirror_mode": {
    "name": "ipython",
    "version": 3
   },
   "file_extension": ".py",
   "mimetype": "text/x-python",
   "name": "python",
   "nbconvert_exporter": "python",
   "pygments_lexer": "ipython3",
   "version": "3.7.3"
  }
 },
 "nbformat": 4,
 "nbformat_minor": 5
}
