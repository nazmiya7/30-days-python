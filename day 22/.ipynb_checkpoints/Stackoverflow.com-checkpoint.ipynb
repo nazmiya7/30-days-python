{
 "cells": [
  {
   "cell_type": "code",
   "execution_count": 91,
   "id": "722ea868",
   "metadata": {},
   "outputs": [
    {
     "name": "stdout",
     "output_type": "stream",
     "text": [
      "Requirement already satisfied: requests-html in /home/nazmiya/.local/share/virtualenvs/day_22-9yys-Z20/lib/python3.7/site-packages (0.10.0)\n",
      "Requirement already satisfied: requests in /home/nazmiya/.local/share/virtualenvs/day_22-9yys-Z20/lib/python3.7/site-packages (2.25.1)\n",
      "Requirement already satisfied: pandas in /home/nazmiya/.local/share/virtualenvs/day_22-9yys-Z20/lib/python3.7/site-packages (1.2.4)\n",
      "Requirement already satisfied: parse in /home/nazmiya/.local/share/virtualenvs/day_22-9yys-Z20/lib/python3.7/site-packages (from requests-html) (1.19.0)\n",
      "Requirement already satisfied: pyppeteer>=0.0.14 in /home/nazmiya/.local/share/virtualenvs/day_22-9yys-Z20/lib/python3.7/site-packages (from requests-html) (0.2.5)\n",
      "Requirement already satisfied: w3lib in /home/nazmiya/.local/share/virtualenvs/day_22-9yys-Z20/lib/python3.7/site-packages (from requests-html) (1.22.0)\n",
      "Requirement already satisfied: bs4 in /home/nazmiya/.local/share/virtualenvs/day_22-9yys-Z20/lib/python3.7/site-packages (from requests-html) (0.0.1)\n",
      "Requirement already satisfied: fake-useragent in /home/nazmiya/.local/share/virtualenvs/day_22-9yys-Z20/lib/python3.7/site-packages (from requests-html) (0.1.11)\n",
      "Requirement already satisfied: pyquery in /home/nazmiya/.local/share/virtualenvs/day_22-9yys-Z20/lib/python3.7/site-packages (from requests-html) (1.4.3)\n",
      "Requirement already satisfied: websockets<9.0,>=8.1 in /home/nazmiya/.local/share/virtualenvs/day_22-9yys-Z20/lib/python3.7/site-packages (from pyppeteer>=0.0.14->requests-html) (8.1)\n",
      "Requirement already satisfied: urllib3<2.0.0,>=1.25.8 in /home/nazmiya/.local/share/virtualenvs/day_22-9yys-Z20/lib/python3.7/site-packages (from pyppeteer>=0.0.14->requests-html) (1.26.5)\n",
      "Requirement already satisfied: importlib-metadata<3.0.0,>=2.1.1 in /home/nazmiya/.local/share/virtualenvs/day_22-9yys-Z20/lib/python3.7/site-packages (from pyppeteer>=0.0.14->requests-html) (2.1.1)\n",
      "Requirement already satisfied: tqdm<5.0.0,>=4.42.1 in /home/nazmiya/.local/share/virtualenvs/day_22-9yys-Z20/lib/python3.7/site-packages (from pyppeteer>=0.0.14->requests-html) (4.61.1)\n",
      "Requirement already satisfied: appdirs<2.0.0,>=1.4.3 in /home/nazmiya/.local/share/virtualenvs/day_22-9yys-Z20/lib/python3.7/site-packages (from pyppeteer>=0.0.14->requests-html) (1.4.4)\n",
      "Requirement already satisfied: pyee<9.0.0,>=8.1.0 in /home/nazmiya/.local/share/virtualenvs/day_22-9yys-Z20/lib/python3.7/site-packages (from pyppeteer>=0.0.14->requests-html) (8.1.0)\n",
      "Requirement already satisfied: zipp>=0.5 in /home/nazmiya/.local/share/virtualenvs/day_22-9yys-Z20/lib/python3.7/site-packages (from importlib-metadata<3.0.0,>=2.1.1->pyppeteer>=0.0.14->requests-html) (3.4.1)\n",
      "Requirement already satisfied: idna<3,>=2.5 in /home/nazmiya/.local/share/virtualenvs/day_22-9yys-Z20/lib/python3.7/site-packages (from requests) (2.10)\n",
      "Requirement already satisfied: chardet<5,>=3.0.2 in /home/nazmiya/.local/share/virtualenvs/day_22-9yys-Z20/lib/python3.7/site-packages (from requests) (4.0.0)\n",
      "Requirement already satisfied: certifi>=2017.4.17 in /home/nazmiya/.local/share/virtualenvs/day_22-9yys-Z20/lib/python3.7/site-packages (from requests) (2021.5.30)\n",
      "Requirement already satisfied: numpy>=1.16.5 in /home/nazmiya/.local/share/virtualenvs/day_22-9yys-Z20/lib/python3.7/site-packages (from pandas) (1.20.3)\n",
      "Requirement already satisfied: python-dateutil>=2.7.3 in /home/nazmiya/.local/share/virtualenvs/day_22-9yys-Z20/lib/python3.7/site-packages (from pandas) (2.8.1)\n",
      "Requirement already satisfied: pytz>=2017.3 in /home/nazmiya/.local/share/virtualenvs/day_22-9yys-Z20/lib/python3.7/site-packages (from pandas) (2021.1)\n",
      "Requirement already satisfied: six>=1.5 in /home/nazmiya/.local/share/virtualenvs/day_22-9yys-Z20/lib/python3.7/site-packages (from python-dateutil>=2.7.3->pandas) (1.16.0)\n",
      "Requirement already satisfied: beautifulsoup4 in /home/nazmiya/.local/share/virtualenvs/day_22-9yys-Z20/lib/python3.7/site-packages (from bs4->requests-html) (4.9.3)\n",
      "Requirement already satisfied: soupsieve>1.2 in /home/nazmiya/.local/share/virtualenvs/day_22-9yys-Z20/lib/python3.7/site-packages (from beautifulsoup4->bs4->requests-html) (2.2.1)\n",
      "Requirement already satisfied: lxml>=2.1 in /home/nazmiya/.local/share/virtualenvs/day_22-9yys-Z20/lib/python3.7/site-packages (from pyquery->requests-html) (4.6.3)\n",
      "Requirement already satisfied: cssselect>0.7.9 in /home/nazmiya/.local/share/virtualenvs/day_22-9yys-Z20/lib/python3.7/site-packages (from pyquery->requests-html) (1.1.0)\n"
     ]
    }
   ],
   "source": [
    "!pip install requests-html requests pandas"
   ]
  },
  {
   "cell_type": "code",
   "execution_count": 92,
   "id": "8f4ed5ab",
   "metadata": {},
   "outputs": [],
   "source": [
    "import requests\n",
    "from requests_html import HTML\n",
    "import time\n",
    "import pandas as pd"
   ]
  },
  {
   "cell_type": "code",
   "execution_count": 93,
   "id": "885e27bd",
   "metadata": {},
   "outputs": [
    {
     "data": {
      "text/plain": [
       "'https://stackoverflow.com/questions/tagged/python?tab=Votes'"
      ]
     },
     "execution_count": 93,
     "metadata": {},
     "output_type": "execute_result"
    }
   ],
   "source": [
    "base_url='https://stackoverflow.com/questions/tagged/'\n",
    "tag=\"python\"\n",
    "query_filter=\"Votes\"\n",
    "url=f\"{base_url}{tag}?tab={query_filter}\"\n",
    "url"
   ]
  },
  {
   "cell_type": "code",
   "execution_count": 94,
   "id": "5987bdb3",
   "metadata": {},
   "outputs": [],
   "source": [
    "r=requests.get(url)\n",
    "html_str=r.text\n",
    "html=HTML(html=html_str)"
   ]
  },
  {
   "cell_type": "code",
   "execution_count": 95,
   "id": "e49f031e",
   "metadata": {},
   "outputs": [],
   "source": [
    "#html=HTML(html=html_str)"
   ]
  },
  {
   "cell_type": "code",
   "execution_count": 96,
   "id": "c9c8e8f6",
   "metadata": {},
   "outputs": [
    {
     "name": "stdout",
     "output_type": "stream",
     "text": [
      "[<Element 'div' class=('question-summary',) id='question-summary-231767'>, <Element 'div' class=('question-summary',) id='question-summary-419163'>, <Element 'div' class=('question-summary',) id='question-summary-394809'>, <Element 'div' class=('question-summary',) id='question-summary-100003'>, <Element 'div' class=('question-summary',) id='question-summary-82831'>, <Element 'div' class=('question-summary',) id='question-summary-38987'>, <Element 'div' class=('question-summary',) id='question-summary-89228'>, <Element 'div' class=('question-summary',) id='question-summary-273192'>, <Element 'div' class=('question-summary',) id='question-summary-522563'>, <Element 'div' class=('question-summary',) id='question-summary-952914'>, <Element 'div' class=('question-summary',) id='question-summary-136097'>, <Element 'div' class=('question-summary',) id='question-summary-509211'>, <Element 'div' class=('question-summary',) id='question-summary-176918'>, <Element 'div' class=('question-summary',) id='question-summary-3437059'>, <Element 'div' class=('question-summary',) id='question-summary-3294889'>, <Element 'div' class=('question-summary',) id='question-summary-3207219'>, <Element 'div' class=('question-summary',) id='question-summary-613183'>, <Element 'div' class=('question-summary',) id='question-summary-423379'>, <Element 'div' class=('question-summary',) id='question-summary-415511'>, <Element 'div' class=('question-summary',) id='question-summary-53513'>, <Element 'div' class=('question-summary',) id='question-summary-6470428'>, <Element 'div' class=('question-summary',) id='question-summary-252703'>, <Element 'div' class=('question-summary',) id='question-summary-1436703'>, <Element 'div' class=('question-summary',) id='question-summary-1024847'>, <Element 'div' class=('question-summary',) id='question-summary-1720421'>, <Element 'div' class=('question-summary',) id='question-summary-123198'>, <Element 'div' class=('question-summary',) id='question-summary-510348'>, <Element 'div' class=('question-summary',) id='question-summary-739654'>, <Element 'div' class=('question-summary',) id='question-summary-606191'>, <Element 'div' class=('question-summary',) id='question-summary-986006'>, <Element 'div' class=('question-summary',) id='question-summary-1132941'>, <Element 'div' class=('question-summary',) id='question-summary-2612802'>, <Element 'div' class=('question-summary',) id='question-summary-16476924'>, <Element 'div' class=('question-summary',) id='question-summary-576169'>, <Element 'div' class=('question-summary',) id='question-summary-448271'>, <Element 'div' class=('question-summary',) id='question-summary-36901'>, <Element 'div' class=('question-summary',) id='question-summary-1602934'>, <Element 'div' class=('question-summary',) id='question-summary-4750806'>, <Element 'div' class=('question-summary',) id='question-summary-312443'>, <Element 'div' class=('question-summary',) id='question-summary-17071871'>, <Element 'div' class=('question-summary',) id='question-summary-2052390'>, <Element 'div' class=('question-summary',) id='question-summary-6996603'>, <Element 'div' class=('question-summary',) id='question-summary-332289'>, <Element 'div' class=('question-summary',) id='question-summary-5137497'>, <Element 'div' class=('question-summary',) id='question-summary-287871'>, <Element 'div' class=('question-summary',) id='question-summary-4906977'>, <Element 'div' class=('question-summary',) id='question-summary-379906'>, <Element 'div' class=('question-summary',) id='question-summary-466345'>, <Element 'div' class=('question-summary',) id='question-summary-30081275'>, <Element 'div' class=('question-summary',) id='question-summary-930397'>]\n"
     ]
    }
   ],
   "source": [
    "question_summaries =html.find(\".question-summary\")  #selenium\n",
    "print(question_summaries)"
   ]
  },
  {
   "cell_type": "code",
   "execution_count": 97,
   "id": "ae639c11",
   "metadata": {},
   "outputs": [
    {
     "data": {
      "text/plain": [
       "\"11215\\nvotes\\n40answers\\n2.5m views\\nWhat does the “yield” keyword do?\\nWhat is the use of the yield keyword in Python? What does it do? For example, I'm trying to understand this code1: def _get_child_candidates(self, distance, min_dist, max_dist): if self._leftchild ...\\npython iterator generator yield coroutine\\nasked Oct 23 '08 at 22:21\\nAlex. S.\\n127k1616 gold badges5050 silver badges6161 bronze badges\""
      ]
     },
     "execution_count": 97,
     "metadata": {},
     "output_type": "execute_result"
    }
   ],
   "source": [
    "question_summaries[0].text"
   ]
  },
  {
   "cell_type": "code",
   "execution_count": 98,
   "id": "92f2bee1",
   "metadata": {},
   "outputs": [],
   "source": [
    "columns=['vote','vote_title','num_answers','views','question','short_disc','tags','date','user','user_details']"
   ]
  },
  {
   "cell_type": "code",
   "execution_count": 99,
   "id": "e6ebfcdc",
   "metadata": {},
   "outputs": [],
   "source": [
    "# this_row =list(question_summaries[0].text.split(\"\\n\"))\n",
    "# this_row"
   ]
  },
  {
   "cell_type": "code",
   "execution_count": 100,
   "id": "6185e5cb",
   "metadata": {},
   "outputs": [],
   "source": [
    "# len(this_row)==len(columns)"
   ]
  },
  {
   "cell_type": "code",
   "execution_count": 101,
   "id": "ea34a4e7",
   "metadata": {},
   "outputs": [],
   "source": [
    "# row_data=dict(zip(columns,this_row))\n",
    "# row_data"
   ]
  },
  {
   "cell_type": "code",
   "execution_count": 102,
   "id": "7e0417f2",
   "metadata": {},
   "outputs": [
    {
     "name": "stdout",
     "output_type": "stream",
     "text": [
      "vote 11215\n",
      "vote_title votes\n",
      "num_answers 40answers\n",
      "views 2.5m views\n",
      "question What does the “yield” keyword do?\n",
      "short_disc What is the use of the yield keyword in Python? What does it do? For example, I'm trying to understand this code1: def _get_child_candidates(self, distance, min_dist, max_dist): if self._leftchild ...\n",
      "tags python iterator generator yield coroutine\n",
      "date asked Oct 23 '08 at 22:21\n",
      "user Alex. S.\n",
      "user_details 127k1616 gold badges5050 silver badges6161 bronze badges\n"
     ]
    }
   ],
   "source": [
    "for column,row_v in zip(columns,this_row):\n",
    "    print(column,row_v)"
   ]
  },
  {
   "cell_type": "code",
   "execution_count": 103,
   "id": "a1b8a30d",
   "metadata": {},
   "outputs": [
    {
     "data": {
      "text/plain": [
       "'11215'"
      ]
     },
     "execution_count": 103,
     "metadata": {},
     "output_type": "execute_result"
    }
   ],
   "source": [
    "key_names=['question','votes','tags']\n",
    "classes_needed=['.question-hyperlink','.vote','.tags']\n",
    "this_question_element=question_summaries[0]\n",
    "this_question_element.find('.question-hyperlink',first=True).text\n",
    "this_question_element.find('.vote',first=True).text.replace('\\nvotes','')"
   ]
  },
  {
   "cell_type": "code",
   "execution_count": 104,
   "id": "6bb482a6",
   "metadata": {},
   "outputs": [],
   "source": [
    "def clean_scraped_data(text,keyname=None):\n",
    "    if keyname=='votes':\n",
    "        return text.replace('\\nvotes','')\n",
    "    return text"
   ]
  },
  {
   "cell_type": "code",
   "execution_count": 105,
   "id": "193d6747",
   "metadata": {},
   "outputs": [],
   "source": [
    "datas=[]\n",
    "\n",
    "for q_el in question_summaries:\n",
    "    question_data={}\n",
    "    for i, _class in enumerate(classes_needed):\n",
    "        sub_el=q_el.find(_class,first=True)\n",
    "        keyname=key_names[i]\n",
    "        question_data[keyname]=clean_scraped_data(sub_el.text,keyname=keyname)\n",
    "    datas.append(question_data)"
   ]
  },
  {
   "cell_type": "code",
   "execution_count": 106,
   "id": "802f65dc",
   "metadata": {},
   "outputs": [],
   "source": [
    "def parse_tagged_page(html):\n",
    "    question_summaries =html.find(\".question-summary\")\n",
    "    key_names=['question','votes','tags']\n",
    "    classes_needed=['.question-hyperlink','.vote','.tags']\n",
    "    datas=[]\n",
    "\n",
    "    for q_el in question_summaries:\n",
    "        question_data={}\n",
    "        for i, _class in enumerate(classes_needed):\n",
    "            sub_el=q_el.find(_class,first=True)\n",
    "            keyname=key_names[i]\n",
    "            question_data[keyname]=clean_scraped_data(sub_el.text,keyname=keyname)\n",
    "        datas.append(question_data)\n",
    "    return datas    \n"
   ]
  },
  {
   "cell_type": "code",
   "execution_count": 107,
   "id": "e74bd94d",
   "metadata": {},
   "outputs": [],
   "source": [
    "def extract_data_from_url(url):\n",
    "    r=requests.get(url)\n",
    "    if r.status_code not in range(200,299):\n",
    "        return []\n",
    "    html_str=r.text\n",
    "    html=HTML(html=html_str)\n",
    "    datas=parse_tagged_page(html)\n",
    "    return datas"
   ]
  },
  {
   "cell_type": "code",
   "execution_count": 108,
   "id": "da0cc982",
   "metadata": {},
   "outputs": [],
   "source": [
    "def scrape_tag(tag=\"javascript\",query_filter=\"Votes\",max_pages=50,pagesize=25):\n",
    "    base_url='https://stackoverflow.com/questions/tagged/'\n",
    "    datas=[]\n",
    "    for p in range(max_pages):\n",
    "        page_num=p+1\n",
    "        url=f\"{base_url}{tag}?tab={query_filter}&page={page_num}&pagesize={pagesize}\"\n",
    "        datas+= extract_data_from_url(url)\n",
    "        time.sleep(1.2)\n",
    "    return datas"
   ]
  },
  {
   "cell_type": "code",
   "execution_count": 111,
   "id": "6b6cd526",
   "metadata": {},
   "outputs": [],
   "source": [
    "datas=scrape_tag(tag='python')"
   ]
  },
  {
   "cell_type": "code",
   "execution_count": 112,
   "id": "9220d481",
   "metadata": {},
   "outputs": [
    {
     "data": {
      "text/plain": [
       "2500"
      ]
     },
     "execution_count": 112,
     "metadata": {},
     "output_type": "execute_result"
    }
   ],
   "source": [
    "len(datas)"
   ]
  },
  {
   "cell_type": "code",
   "execution_count": 113,
   "id": "1703f0f4",
   "metadata": {},
   "outputs": [
    {
     "data": {
      "text/html": [
       "<div>\n",
       "<style scoped>\n",
       "    .dataframe tbody tr th:only-of-type {\n",
       "        vertical-align: middle;\n",
       "    }\n",
       "\n",
       "    .dataframe tbody tr th {\n",
       "        vertical-align: top;\n",
       "    }\n",
       "\n",
       "    .dataframe thead th {\n",
       "        text-align: right;\n",
       "    }\n",
       "</style>\n",
       "<table border=\"1\" class=\"dataframe\">\n",
       "  <thead>\n",
       "    <tr style=\"text-align: right;\">\n",
       "      <th></th>\n",
       "      <th>question</th>\n",
       "      <th>votes</th>\n",
       "      <th>tags</th>\n",
       "    </tr>\n",
       "  </thead>\n",
       "  <tbody>\n",
       "    <tr>\n",
       "      <th>0</th>\n",
       "      <td>What does the “yield” keyword do?</td>\n",
       "      <td>11215</td>\n",
       "      <td>python iterator generator yield coroutine</td>\n",
       "    </tr>\n",
       "    <tr>\n",
       "      <th>1</th>\n",
       "      <td>What does if __name__ == “__main__”: do?</td>\n",
       "      <td>6848</td>\n",
       "      <td>python namespaces main python-module idioms</td>\n",
       "    </tr>\n",
       "    <tr>\n",
       "      <th>2</th>\n",
       "      <td>Does Python have a ternary conditional operator?</td>\n",
       "      <td>6706</td>\n",
       "      <td>python operators ternary-operator conditional-...</td>\n",
       "    </tr>\n",
       "    <tr>\n",
       "      <th>3</th>\n",
       "      <td>What are metaclasses in Python?</td>\n",
       "      <td>6204</td>\n",
       "      <td>python oop metaclass python-class python-datam...</td>\n",
       "    </tr>\n",
       "    <tr>\n",
       "      <th>4</th>\n",
       "      <td>How do I check whether a file exists without e...</td>\n",
       "      <td>6176</td>\n",
       "      <td>python file file-exists</td>\n",
       "    </tr>\n",
       "  </tbody>\n",
       "</table>\n",
       "</div>"
      ],
      "text/plain": [
       "                                            question  votes  \\\n",
       "0                  What does the “yield” keyword do?  11215   \n",
       "1           What does if __name__ == “__main__”: do?   6848   \n",
       "2   Does Python have a ternary conditional operator?   6706   \n",
       "3                    What are metaclasses in Python?   6204   \n",
       "4  How do I check whether a file exists without e...   6176   \n",
       "\n",
       "                                                tags  \n",
       "0          python iterator generator yield coroutine  \n",
       "1        python namespaces main python-module idioms  \n",
       "2  python operators ternary-operator conditional-...  \n",
       "3  python oop metaclass python-class python-datam...  \n",
       "4                            python file file-exists  "
      ]
     },
     "execution_count": 113,
     "metadata": {},
     "output_type": "execute_result"
    }
   ],
   "source": [
    "df=pd.DataFrame(datas)\n",
    "df.head()"
   ]
  },
  {
   "cell_type": "code",
   "execution_count": 114,
   "id": "83074fe2",
   "metadata": {},
   "outputs": [
    {
     "data": {
      "text/plain": [
       "(2500, 3)"
      ]
     },
     "execution_count": 114,
     "metadata": {},
     "output_type": "execute_result"
    }
   ],
   "source": [
    "df.shape"
   ]
  },
  {
   "cell_type": "code",
   "execution_count": 115,
   "id": "eb152b04",
   "metadata": {},
   "outputs": [],
   "source": [
    "df.to_csv(\"python.csv\",index=False)"
   ]
  },
  {
   "cell_type": "code",
   "execution_count": null,
   "id": "9a988ac9",
   "metadata": {},
   "outputs": [],
   "source": [
    "# auto-tagging question bot"
   ]
  }
 ],
 "metadata": {
  "kernelspec": {
   "display_name": "Python 3",
   "language": "python",
   "name": "python3"
  },
  "language_info": {
   "codemirror_mode": {
    "name": "ipython",
    "version": 3
   },
   "file_extension": ".py",
   "mimetype": "text/x-python",
   "name": "python",
   "nbconvert_exporter": "python",
   "pygments_lexer": "ipython3",
   "version": "3.7.3"
  }
 },
 "nbformat": 4,
 "nbformat_minor": 5
}
