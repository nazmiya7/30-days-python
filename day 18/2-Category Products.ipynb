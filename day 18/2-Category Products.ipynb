{
 "cells": [
  {
   "cell_type": "code",
   "execution_count": 36,
   "id": "95a76bea",
   "metadata": {},
   "outputs": [],
   "source": [
    "import requests\n",
    "import time\n",
    "from requests_html import HTML\n",
    "from selenium import webdriver\n",
    "from selenium.webdriver.chrome.options import Options"
   ]
  },
  {
   "cell_type": "code",
   "execution_count": 37,
   "id": "fba110a1",
   "metadata": {},
   "outputs": [],
   "source": [
    "options=Options()\n",
    "options.add_argument(\"--headless\")\n",
    "\n",
    "driver =webdriver.Chrome(options=options)"
   ]
  },
  {
   "cell_type": "code",
   "execution_count": 38,
   "metadata": {},
   "outputs": [],
   "source": [
    "catogories=[\n",
    "    \"https://www.amazon.in/gp/bestsellers/books/\"\n",
    "    \"https://www.amazon.in/gp/bestsellers/gift-cards/\"\n",
    "]\n"
   ]
  },
  {
   "cell_type": "code",
   "execution_count": 39,
   "metadata": {},
   "outputs": [
    {
     "output_type": "execute_result",
     "data": {
      "text/plain": [
       "['https://www.amazon.in/gp/bestsellers/books/https://www.amazon.in/gp/bestsellers/gift-cards/']"
      ]
     },
     "metadata": {},
     "execution_count": 39
    }
   ],
   "source": [
    "catogories"
   ]
  },
  {
   "cell_type": "code",
   "execution_count": 40,
   "metadata": {},
   "outputs": [],
   "source": [
    "first_url=catogories[0]"
   ]
  },
  {
   "cell_type": "code",
   "execution_count": 41,
   "metadata": {},
   "outputs": [],
   "source": [
    "driver.get(first_url)"
   ]
  },
  {
   "cell_type": "code",
   "execution_count": 64,
   "metadata": {},
   "outputs": [],
   "source": [
    "body_el=driver.find_element_by_css_selector(\"body\")\n",
    "html_str=body_el.get_attribute(\"innerHTML\")"
   ]
  },
  {
   "cell_type": "code",
   "execution_count": 65,
   "metadata": {},
   "outputs": [],
   "source": [
    "html_obj=HTML(html=html_str)"
   ]
  },
  {
   "cell_type": "code",
   "execution_count": 66,
   "metadata": {},
   "outputs": [],
   "source": [
    "new_links=[x for x in html_obj.links if x.startswith(\"/\")]\n",
    "new_links=[x for x in new_links if \"product-reviews/\" not in x]"
   ]
  },
  {
   "cell_type": "code",
   "execution_count": 67,
   "metadata": {},
   "outputs": [],
   "source": [
    "page_links=[f\"https://www.amazon.in{x}\" for x in new_links]"
   ]
  },
  {
   "cell_type": "code",
   "execution_count": 68,
   "metadata": {},
   "outputs": [
    {
     "output_type": "execute_result",
     "data": {
      "text/plain": [
       "['https://www.amazon.in/gp/product/0007208022/ref=dbs_a_def_rwt_hsch_vamf_tkin_p1_i11',\n",
       " 'https://www.amazon.in/b/?node=6637738031&ref_=nav_cs_amazonbasics_7b323e02d64042408aefc605ff4f5baf',\n",
       " 'https://www.amazon.in/gp/product/B07NP6Y6BB/ref=dbs_a_def_rwt_hsch_vapi_tkin_p1_i3',\n",
       " 'https://www.amazon.in/gp/product/152471187X/ref=dbs_a_def_rwt_hsch_vamf_tkin_p1_i2',\n",
       " 'https://www.amazon.in/s?ie=UTF8&field-author=Margaret+Jull+Costa&text=Margaret+Jull+Costa&sort=relevancerank&search-alias=digital-text&ref=dbs_a_def_rwt_hsch_vu00_tkin_p1_i6',\n",
       " 'https://www.amazon.in/health-and-personal-care/b/?ie=UTF8&node=1350384031&ref_=nav_cs_hpc_a024fc7ba9174802831aed18bbebb33d',\n",
       " 'https://www.amazon.in/gp/product/B06X99L7W7/ref=dbs_a_def_rwt_hsch_vamf_tkin_p1_i0',\n",
       " 'https://www.amazon.in/Paulo-Coelho/e/B000AQ3HB8?ref=dbs_a_def_rwt_hsch_vu00_tkin_p1_i2',\n",
       " 'https://www.amazon.in/gp/product/0553476580/ref=dbs_a_def_rwt_hsch_vamf_tkin_p1_i0',\n",
       " 'https://www.amazon.in/gp/help/customer/display.html?nodeId=202075050&ref_=footer_iba',\n",
       " 'https://www.amazon.in/Paulo-Coelho/e/B000AQ3HB8?ref=dbs_a_def_rwt_hsch_vu00_tkin_p1_i7',\n",
       " 'https://www.amazon.in/gp/bestsellers/digital-text/1634753031/?ie=UTF8&ref_=sv_kinc_6',\n",
       " 'https://www.amazon.in/gp/digital/fiona/manage/?ie=UTF8&ref_=sv_kinc_10',\n",
       " 'https://www.amazon.in/gp/BIT/theamazonapp/ref=footer_assistant_download_copy',\n",
       " 'https://www.amazon.in/Baby/b/?ie=UTF8&node=1571274031&ref_=nav_cs_baby_b2a01e91bb824bf1875698a9cdcacb29',\n",
       " 'https://www.amazon.in/gp/browse.html?node=8872558031&ref_=footer_cares',\n",
       " 'https://www.amazon.in/gp/product/0008173575/ref=dbs_a_def_rwt_hsch_vamf_tkin_p1_i6',\n",
       " 'https://www.amazon.in/gp/product/B004XOZ9IW/ref=dbs_a_def_rwt_bibl_vppi_i11',\n",
       " 'https://www.amazon.in/gp/product/8184006098/ref=dbs_a_def_rwt_hsch_vamf_tkin_p1_i8',\n",
       " 'https://www.amazon.in/gp/product/B004XYX4WU/ref=dbs_a_def_rwt_hsch_vapi_tkin_p1_i6',\n",
       " 'https://www.amazon.in/hz/mycd/myx?ref_=nav_AccountFlyout_myk',\n",
       " 'https://www.amazon.in/gp/product/B01MD0P7Z5/ref=dbs_a_def_rwt_bibl_vppi_i7',\n",
       " 'https://www.amazon.in/gp/help/customer/display.html?nodeId=200507590&ref_=nav_cs_help_79404a52982a4d9d973cf256c713999e',\n",
       " 'https://www.amazon.in/gp/product/0060825219/ref=dbs_a_def_rwt_hsch_vamf_tkin_p1_i11',\n",
       " 'https://www.amazon.in/gp/product/0007166036/ref=dbs_a_def_rwt_hsch_vamf_tkin_p1_i6',\n",
       " 'https://www.amazon.in/kindle-dbs/ku2/?_encoding=UTF8&ref_=sv_kinc_3',\n",
       " 'https://www.amazon.in/gp/help/customer/display.html/?ie=UTF8&nodeId=200127470&ref_=sv_kinc_11',\n",
       " 'https://www.amazon.in/gp/css/returns/homepage.html?ref_=footer_hy_f_4',\n",
       " 'https://www.amazon.in/gp/new-releases/?ref_=nav_cs_newreleases_b9144c00866c4016b948d9b5b5215b45',\n",
       " 'https://www.amazon.in/gp/product/B07YLVXXQN/ref=dbs_a_def_rwt_bibl_vppi_i5',\n",
       " 'https://www.amazon.in/gp/product/0670095206/ref=dbs_a_def_rwt_hsch_vamf_tkin_p1_i2',\n",
       " 'https://www.amazon.in/gp/product/B08H8T8593/ref=dbs_a_def_rwt_hsch_vapi_tkin_p1_i1',\n",
       " 'https://www.amazon.in/gp/product/B08MV19P19/ref=dbs_a_def_rwt_hsch_vapi_tkin_p1_i2',\n",
       " 'https://www.amazon.in/gp/product/0091958873/ref=dbs_a_def_rwt_hsch_vamf_tkin_p1_i8',\n",
       " 'https://www.amazon.in/gp/css/order-history?ref_=nav_AccountFlyout_orders',\n",
       " 'https://www.amazon.in/gp/css/order-history?ref_=nav_orders_first',\n",
       " 'https://www.amazon.in/gp/product/0694524441/ref=dbs_a_def_rwt_hsch_vamf_tkin_p1_i0',\n",
       " 'https://www.amazon.in/gp/product/0061672556/ref=dbs_a_def_rwt_hsch_vamf_tkin_p1_i9',\n",
       " 'https://www.amazon.in/Gourmet-Specialty-Foods/b/?ie=UTF8&node=2454178031&ref_=nav_cs_grocery_aaabc3a9e1214048a9a0a73dcc968167',\n",
       " 'https://www.amazon.in/gp/product/0008144222/ref=dbs_a_def_rwt_hsch_vamf_tkin_p1_i0',\n",
       " 'https://www.amazon.in/Books/b/?ie=UTF8&node=976389031&ref_=nav_cs_books_bc600d0d124d40a3909f96904182b45f',\n",
       " 'https://www.amazon.in/Car-Motorbike-Store/b/?ie=UTF8&node=4772060031&ref_=nav_cs_automotive_75137ca568f6495387a781885869ac30',\n",
       " 'https://www.amazon.in/discover/?ref_=nav_ListFlyout_sbl',\n",
       " 'https://www.amazon.in/gp/product/000723578X/ref=dbs_a_def_rwt_hsch_vamf_tkin_p1_i10',\n",
       " 'https://www.amazon.in/gp/product/0007220855/ref=dbs_a_def_rwt_hsch_vamf_tkin_p1_i11',\n",
       " 'https://www.amazon.in/gp/product/B07NP6Y6BB/ref=dbs_a_def_rwt_bibl_vppi_i3',\n",
       " 'https://www.amazon.in/gp/product/B01KB088SE/ref=dbs_a_def_rwt_hsch_vamf_tkin_p1_i11',\n",
       " 'https://www.amazon.in/Kindle-eBooks/b/?ie=UTF8&node=1634753031&ref_=sv_kinc_2',\n",
       " 'https://www.amazon.in/Don-Miguel-Ruiz/e/B001JP23NM?ref=dbs_a_def_rwt_sims_vu00_r0_c1',\n",
       " 'https://www.amazon.in/gp/product/B004XOZ9DC/ref=dbs_a_def_rwt_bibl_vppi_i4',\n",
       " 'https://www.amazon.in/mobile-phones/b/?ie=UTF8&node=1389401031&ref_=nav_cs_mobiles_9292c6cb7b394d30b2467b8f631090a7',\n",
       " 'https://www.amazon.in/gp/product/B004XYX4WU/ref=dbs_a_def_rwt_bibl_vppi_i6',\n",
       " 'https://www.amazon.in/showroom?ref_=nav_ListFlyout_srm_your_desk_wl_in',\n",
       " 'https://www.amazon.in/gp/product/B079WXQX7Y/ref=dbs_a_def_rwt_hsch_vamf_tkin_p1_i4',\n",
       " 'https://www.amazon.in/Paulo-Coelho/e/B000AQ3HB8?ref=dbs_a_def_rwt_hsch_vu00_tkin_p1_i5',\n",
       " 'https://www.amazon.in/gp/help/customer/display.html?nodeId=200545940&ref_=footer_cou',\n",
       " 'https://www.amazon.in/gp/sva/dashboard?ref_=nav_cs_apay_fe0c735739554ca1a7cccf7c41941f2f',\n",
       " 'https://www.amazon.in/gp/help/customer/display.html?nodeId=200507590&ref_=footer_gw_m_b_he',\n",
       " 'https://www.amazon.in/Sports/b/?ie=UTF8&node=1984443031&ref_=nav_cs_sports_8a31b13c38f84bfba386a5c9d1b7615e',\n",
       " 'https://www.amazon.in/gp/product/B00MN5LYQE/ref=dbs_a_def_rwt_hsch_vapi_tkin_p1_i8',\n",
       " 'https://www.amazon.in/kindle-dbs/entity/author/B000AQ3HB8?_encoding=UTF8&offset=0&pageSize=12&searchAlias=stripbooks&sort=author-sidecar-rank&page=2&langFilter=default#formatSelectorHeader',\n",
       " 'https://www.amazon.in/gp/help/customer/display.html?nodeId=201083470&ref_=footer_swc',\n",
       " 'https://www.amazon.in/gp/product/B004XOZ9HS/ref=dbs_a_def_rwt_bibl_vppi_i10',\n",
       " 'https://www.amazon.in/kindle-dbs/entity/author/B000AQ3HB8?_encoding=UTF8&offset=0&pageSize=12&searchAlias=stripbooks&sort=author-sidecar-rank&page=3&langFilter=default#formatSelectorHeader',\n",
       " 'https://www.amazon.in/gp/product/B00MN5LYQE/ref=dbs_a_def_rwt_bibl_vppi_i8',\n",
       " 'https://www.amazon.in/gp/product/0061578932/ref=dbs_a_def_rwt_hsch_vamf_tkin_p1_i9',\n",
       " 'https://www.amazon.in/Paulo-Coelho/e/B000AQ3HB8?ref=dbs_a_def_rwt_hsch_vu00_tkin_p1_i10',\n",
       " 'https://www.amazon.in/business?ref=footer_aingw',\n",
       " 'https://www.amazon.in/gp/customer-preferences/select-language/ref=topnav_lang?preferencesReturnUrl=%2FPaulo-Coelho%2Fe%2FB000AQ3HB8%2Fref%3Dzg_bs_books_bl_9%2F257-3132279-8890842%3F_encoding%3DUTF8%26refRID%3DMTJSP4T4VKRYG0TQJSSC',\n",
       " 'https://www.amazon.in/gp/browse.html?node=6648217031&ref_=nav_cs_fashion_ad6f81eb5d474066bc9e5788a3c19a28',\n",
       " 'https://www.amazon.in/gp/goldbox?ref_=nav_cs_gb_5bf06ae8328043a2beb2754f40a54c84',\n",
       " 'https://www.amazon.in/gp/product/B08H8T8593/ref=dbs_a_def_rwt_bibl_vppi_i1',\n",
       " 'https://www.amazon.in/gp/product/B004XOZ9DC/ref=dbs_a_def_rwt_hsch_vapi_tkin_p1_i4',\n",
       " 'https://www.amazon.in/b/?node=2838698031&ld=AZINSOANavDesktopFooter&ref_=nav_footer_sell',\n",
       " 'https://www.amazon.in/ref=footer_logo',\n",
       " 'https://www.amazon.in/music/prime?ref=footer_apm',\n",
       " 'https://www.amazon.in/gp/product/9390085195/ref=dbs_a_def_rwt_hsch_vamf_tkin_p1_i1',\n",
       " 'https://www.amazon.in/gp/product/0553546295/ref=dbs_a_def_rwt_hsch_vamf_tkin_p1_i8',\n",
       " 'https://www.amazon.in/gp/registry/wishlist?triggerElementID=createList&ref_=nav_ListFlyout_gno_createwl',\n",
       " 'https://www.amazon.in/gp/product/B00U6SFUSS/ref=dbs_a_def_rwt_hsch_vapi_tkin_p1_i0',\n",
       " 'https://www.amazon.in/Antoine-de-Saint-Exup%C3%A9ry/e/B010MJ8OFQ?ref=dbs_a_def_rwt_sims_vu00_r3_c0',\n",
       " 'https://www.amazon.in/s?ie=UTF8&field-author=Margaret+Jull+Costa&text=Margaret+Jull+Costa&sort=relevancerank&search-alias=digital-text&ref=dbs_a_def_rwt_hsch_vu00_tkin_p1_i4',\n",
       " 'https://www.amazon.in/gp/product/B004Z5POYI/ref=dbs_a_def_rwt_hsch_vapi_tkin_p1_i9',\n",
       " 'https://www.amazon.in/kindle-dbs/entity/author/B000AQ3HB8?_encoding=UTF8&node=976389031&offset=0&pageSize=12&searchAlias=stripbooks&sort=author-sidecar-rank&page=1&langFilter=default#formatSelectorHeader',\n",
       " 'https://www.amazon.in/video-games/b/?ie=UTF8&node=976460031&ref_=nav_cs_video_games_6da073eac80d4cc188a31f2330c92387',\n",
       " 'https://www.amazon.in/gp/yourstore?ref_=nav_AccountFlyout_recs',\n",
       " 'https://www.amazon.in/gp/product/B07B6QMCYR/ref=dbs_a_def_rwt_hsch_vamf_tkin_p1_i6',\n",
       " 'https://www.amazon.in/Paulo-Coelho/e/B000AQ3HB8?ref=dbs_a_def_rwt_hsch_vu00_tkin_p1_i1',\n",
       " 'https://www.amazon.in/amazon-coupons/b/?_encoding=UTF8&node=10465704031&ref_=nav_cs_coupons_ce0af682243a4823874ce6cde7afb33e',\n",
       " 'https://www.amazon.in/baby-reg/homepage?ref_=nav_ListFlyout_gno_listpop_br',\n",
       " 'https://www.amazon.in/gp/product/B07B64H41P/ref=dbs_a_def_rwt_hsch_vamf_tkin_p1_i11',\n",
       " 'https://www.amazon.in/gp/product/0060828110/ref=dbs_a_def_rwt_hsch_vamf_tkin_p1_i11',\n",
       " 'https://www.amazon.in/auto-deliveries/landing?ref_=nav_cs_sns_c630ba0feebb4081b3e5fbd2df39d065',\n",
       " 'https://www.amazon.in/Rhonda-Byrne/e/B001ILM8OQ?ref=dbs_a_def_rwt_sims_vu00_r3_c1',\n",
       " 'https://www.amazon.in/kindle-dbs/entity/author/B000AQ3HB8?_encoding=UTF8&node=16042423031&offset=0&pageSize=12&searchAlias=stripbooks&sort=author-sidecar-rank&page=1&langFilter=default#formatSelectorHeader',\n",
       " 'https://www.amazon.in/prime?ref_=nav_cs_primelink_nonmember_2860122b63884a8688052dc445e46bd9',\n",
       " 'https://www.amazon.in/gp/product/B08MV19P19/ref=dbs_a_def_rwt_bibl_vppi_i2',\n",
       " 'https://www.amazon.in/kindle-dbs/entity/author/B000AQ3HB8?_encoding=UTF8&node=1318377031&offset=0&pageSize=12&searchAlias=stripbooks&sort=author-sidecar-rank&page=1&langFilter=default#formatSelectorHeader',\n",
       " 'https://www.amazon.in/s?ie=UTF8&field-author=Madan+Soni&text=Madan+Soni&sort=relevancerank&search-alias=digital-text&ref=dbs_a_def_rwt_hsch_vu00_tkin_p1_i1',\n",
       " 'https://www.amazon.in/hz5/yourmembershipsandsubscriptions?ref_=nav_AccountFlyout_digital_subscriptions',\n",
       " 'https://www.amazon.in/kindle-dbs/hz/bookshelf/prime/?_encoding=UTF8&ref_=sv_kinc_4',\n",
       " 'https://www.amazon.in/gp/product/B07PZ89TZS/ref=dbs_a_def_rwt_hsch_vamf_tkin_p1_i1',\n",
       " 'https://www.amazon.in/gp/css/homepage.html?ref_=footer_ya',\n",
       " 'https://www.amazon.in/gp/browse.html?node=6967393031&ref_=footer_mobapp',\n",
       " 'https://www.amazon.in/gp/product/0007190123/ref=dbs_a_def_rwt_hsch_vamf_tkin_p1_i6',\n",
       " 'https://www.amazon.in/gp/product/0060196122/ref=dbs_a_def_rwt_hsch_vamf_tkin_p1_i4',\n",
       " 'https://www.amazon.in/wishlist/universal?ref_=nav_ListFlyout_gno_listpop_uwl',\n",
       " 'https://www.amazon.in/Jos%C3%A9-Antonio-Al%C3%ADas-Garc%C3%ADa/e/B00J5SR510?ref=dbs_a_def_rwt_sims_vu00_r2_c1',\n",
       " 'https://www.amazon.in/b/?ie=UTF8&node=1637249031&ref_=sv_kinc_8',\n",
       " 'https://www.amazon.in/gp/product/9389143470/ref=dbs_a_def_rwt_hsch_vamf_tkin_p1_i5',\n",
       " 'https://www.amazon.in/Eckhart-Tolle/e/B001H6GZ5K?ref=dbs_a_def_rwt_sims_vu00_r4_c1',\n",
       " 'https://www.amazon.in/Paulo-Coelho/e/B000AQ3HB8?ref=dbs_a_def_rwt_hsch_vu00_tkin_p1_i11',\n",
       " 'https://www.amazon.in/gp/product/0008343586/ref=dbs_a_def_rwt_hsch_vamf_tkin_p1_i6',\n",
       " 'https://www.amazon.in/indian-language-ebooks/b/?ie=UTF8&node=10837926031&ref_=sv_kinc_7',\n",
       " 'https://www.amazon.in/Paulo-Coelho/e/B000AQ3HB8?ref=dbs_a_def_rwt_hsch_vu00_tkin_p1_i4',\n",
       " 'https://www.amazon.in/kindle-dbs/fd/kcp/?_encoding=UTF8&ref_=sv_kinc_1',\n",
       " 'https://www.amazon.in/kindle-dbs/entity/author/B000AQ3HB8?_encoding=UTF8&offset=0&pageSize=12&searchAlias=stripbooks&sort=author-sidecar-rank&page=13&langFilter=default#formatSelectorHeader',\n",
       " 'https://www.amazon.in/gp/browse.html?node=3704992031&ref_=nav_cs_hi_b183765d90844c95b998beab0377167a',\n",
       " 'https://www.amazon.in/Janet-Mills/e/B001JP0T9W?ref=dbs_a_def_rwt_sims_vu00_r1_c1',\n",
       " 'https://www.amazon.in/gp/product/0061762709/ref=dbs_a_def_rwt_hsch_vamf_tkin_p1_i9',\n",
       " 'https://www.amazon.in/gift-card-store/b/?ie=UTF8&node=3704982031&ref_=nav_cs_gc_35a9db0a7db34350a3d3cb851062984e',\n",
       " 'https://www.amazon.in/gp/product/0061015016/ref=dbs_a_def_rwt_hsch_vamf_tkin_p1_i4',\n",
       " 'https://www.amazon.in/Gabriel-Garc%C3%ADa-M%C3%A1rquez/e/B000AQ1JWC?ref=dbs_a_def_rwt_sims_vu00_r1_c0',\n",
       " 'https://www.amazon.in/gp/bestsellers/?ref_=nav_cs_bestsellers_17d44cb01bd144359b81b1c10b84dd98',\n",
       " 'https://www.amazon.in/gp/product/B00QJDOEAO/?ie=UTF8&ref_=topnav_storetab_kinc',\n",
       " 'https://www.amazon.in/b/?node=2838698031&ld=AZINSOANavDesktop&ref_=nav_cs_sell_22c5725860ed46a593b5f97a935ef723',\n",
       " 'https://www.amazon.in/ref=nav_logo',\n",
       " 'https://www.amazon.in/gp/help/customer/display.html?nodeId=200534380&ref_=footer_privacy',\n",
       " 'https://www.amazon.in/gp/redirect.html?location=https%3A%2F%2Fwww.primevideo.com%2F%3Fref_%3D_apv&source=nav_linktree&token=D5EEB0C0114928CFC52D857E86945760B3FC9523',\n",
       " 'https://www.amazon.in/b/?_encoding=UTF8&node=6967393031&ref_=nav_swm_IN_swm_appdownload&pf_rd_p=0d65970b-5da5-4844-baf7-0019c3c6bbb5&pf_rd_s=nav-sitewide-msg&pf_rd_t=4201&pf_rd_i=navbar-4201&pf_rd_m=A21TJRUUN4KGV&pf_rd_r=J0KZFNAB227MK8T9FXSH',\n",
       " 'https://www.amazon.in/b/?ie=UTF8&node=16060087031&ref_=sv_kinc_5',\n",
       " 'https://www.amazon.in/Paulo-Coelho/e/B000AQ3HB8?ref=dbs_a_def_rwt_hsch_vu00_tkin_p1_i9',\n",
       " 'https://www.amazon.in/gp/product/9351224317/ref=dbs_a_def_rwt_hsch_vamf_tkin_p1_i7',\n",
       " 'https://www.amazon.in/b/?node=2838698031&ld=AZINSOAYAFlyout&ref_=nav_AccountFlyout_sell',\n",
       " 'https://www.amazon.in/Home-Kitchen/b/?ie=UTF8&node=976442031&ref_=nav_cs_home_5f0a1657ec2a4557a8233992829feaf3',\n",
       " 'https://www.amazon.in/gp/customer-preferences/select-language/ref=footer_lang?ie=UTF8&preferencesReturnUrl=%2FPaulo-Coelho%2Fe%2FB000AQ3HB8%2Fref%3Dzg_bs_books_bl_9%2F257-3132279-8890842%3F_encoding%3DUTF8%26refRID%3DMTJSP4T4VKRYG0TQJSSC',\n",
       " 'https://www.amazon.in/beauty/b/?ie=UTF8&node=1355016031&ref_=nav_cs_beauty_6ef19712270447e593a9ddf9a03604d8',\n",
       " 'https://www.amazon.in/gp/browse.html?node=21102587031&ref_=nav_ya_flyout_b2b_reg',\n",
       " 'https://www.amazon.in/gp/registry/search.html?type=wishlist&ref_=nav_ListFlyout_gno_listpop_find',\n",
       " 'https://www.amazon.in/computers-and-accessories/b/?ie=UTF8&node=976392031&ref_=nav_cs_pc_d99b175b1db64d5b968b67ba6e5a72a3',\n",
       " 'https://www.amazon.in/gp/registry/wishlist?requiresSignIn=1&ref_=nav_AccountFlyout_wl',\n",
       " 'https://www.amazon.in/Toys-Games/b/?ie=UTF8&node=1350380031&ref_=nav_cs_toys_614bf387c5974fcdb69fb40fa2f95252',\n",
       " 'https://www.amazon.in/Robin-Sharma/e/B000APEZCE?ref=dbs_a_def_rwt_sims_vu00_r0_c0',\n",
       " 'https://www.amazon.in/gp/product/B07CLFWKFF/ref=dbs_a_def_rwt_hsch_vamf_tkin_p1_i8',\n",
       " 'https://www.amazon.in/gp/product/B08SLCJB64/ref=dbs_a_def_rwt_hsch_vamf_tkin_p1_i0',\n",
       " 'https://www.amazon.in/gp/product/0062355309/ref=dbs_a_def_rwt_hsch_vamf_tkin_p1_i0',\n",
       " 'https://www.amazon.in/Paulo-Coelho/e/B000AQ3HB8?ref=dbs_a_def_rwt_hsch_vu00_tkin_p1_i6',\n",
       " 'https://www.amazon.in/Kindle-Store/b/?ie=UTF8&node=1571277031&ref_=nav_cs_kindle_books_fbe4f5e5a26f403a91203de3fe5ab05d',\n",
       " 'https://www.amazon.in/gp/profile/follows//ref=dbs_a_r_rf_followrecommendations',\n",
       " 'https://www.amazon.in/gp/primecentral?ref_=nav_AccountFlyout_prime',\n",
       " 'https://www.amazon.in/b/?ie=UTF8&node=15358196031&ref_=sv_kinc_9',\n",
       " 'https://www.amazon.in/gp/product/B004XOZ9IW/ref=dbs_a_def_rwt_hsch_vapi_tkin_p1_i11',\n",
       " 'https://www.amazon.in/gp/product/B072F5TD2R/ref=dbs_a_def_rwt_hsch_vamf_tkin_p1_i9',\n",
       " 'https://www.amazon.in/kindle-dbs/entity/author/B000AQ3HB8?_encoding=UTF8&offset=0&pageSize=12&searchAlias=stripbooks&sort=author-sidecar-rank&page=1&langFilter=default#formatSelectorHeader',\n",
       " 'https://www.amazon.in/Paulo-Coelho/e/B000AQ3HB8?ref=dbs_a_def_rwt_hsch_vu00_tkin_p1_i8',\n",
       " 'https://www.amazon.in/now?ref=footer_amznow',\n",
       " 'https://www.amazon.in/electronics/b/?ie=UTF8&node=976419031&ref_=nav_cs_electronics_c5b70a82461a484189e700166599ce9f',\n",
       " 'https://www.amazon.in/Billy-Graham/e/B000AQ2W2S?ref=dbs_a_def_rwt_sims_vu00_r4_c0',\n",
       " 'https://www.amazon.in/Isabel-Allende/e/B000APY7B8?ref=dbs_a_def_rwt_sims_vu00_r2_c0',\n",
       " 'https://www.amazon.in/kindle-dbs/entity/author/B000AQ3HB8?_encoding=UTF8&node=1634951031&offset=0&pageSize=12&searchAlias=stripbooks&sort=author-sidecar-rank&page=1&langFilter=default#formatSelectorHeader',\n",
       " 'https://www.amazon.in/gp/browse.html?node=4594605031&ref_=footer_smile',\n",
       " 'https://www.amazon.in/gp/product/B004Z5POYI/ref=dbs_a_def_rwt_bibl_vppi_i9',\n",
       " 'https://www.amazon.in/gp/product/B07YLVXXQN/ref=dbs_a_def_rwt_hsch_vapi_tkin_p1_i5',\n",
       " 'https://www.amazon.in/Paulo-Coelho/e/B000AQ3HB8?ref=dbs_a_def_rwt_hsch_vu00_tkin_p1_i0',\n",
       " 'https://www.amazon.in/gcx/-/gfhz/?ref_=nav_cs_giftfinder_58f3a96b9747402884d8f629e69ebd28',\n",
       " 'https://www.amazon.in/auto-deliveries?ref_=nav_AccountFlyout_sns',\n",
       " 'https://www.amazon.in/gp/product/B004XOZ9HS/ref=dbs_a_def_rwt_hsch_vapi_tkin_p1_i10',\n",
       " 'https://www.amazon.in/gp/product/9388241452/ref=dbs_a_def_rwt_hsch_vamf_tkin_p1_i3',\n",
       " 'https://www.amazon.in/gp/product/B00U6SFUSS/ref=dbs_a_def_rwt_bibl_vppi_i0',\n",
       " 'https://www.amazon.in/gp/product/9381351007/ref=dbs_a_def_rwt_hsch_vamf_tkin_p1_i10',\n",
       " 'https://www.amazon.in/gp/help/customer/display.html?nodeId=GDFU3JS5AL6SYHRD&ref_=footer_covid',\n",
       " 'https://www.amazon.in/Pet-Supplies/b/?ie=UTF8&node=2454181031&ref_=nav_cs_pets_57065eb9748646eb8c04675172dd0001',\n",
       " 'https://www.amazon.in/gp/css/homepage.html?ref_=nav_AccountFlyout_ya',\n",
       " 'https://www.amazon.in/gp/product/0060955775/ref=dbs_a_def_rwt_hsch_vamf_tkin_p1_i4',\n",
       " 'https://www.amazon.in/Paulo-Coelho/e/B000AQ3HB8?ref=dbs_a_def_rwt_hsch_vu00_tkin_p1_i3',\n",
       " 'https://www.amazon.in/gp/product/B01MD0P7Z5/ref=dbs_a_def_rwt_hsch_vapi_tkin_p1_i7']"
      ]
     },
     "metadata": {},
     "execution_count": 68
    }
   ],
   "source": [
    "page_links"
   ]
  },
  {
   "cell_type": "code",
   "execution_count": 61,
   "metadata": {},
   "outputs": [],
   "source": [
    "def scrape_product_page(url,title_lookup=\"#productTitle\",price_lookup=\"#priceblock_ourprice\"):\n",
    "\n",
    "    driver.get(url)\n",
    "    time.sleep(1.2)\n",
    "    body_el=driver.find_element_by_css_selector(\"body\")\n",
    "    html_str=body_el.get_attribute(\"innerHTML\")\n",
    "    print(html_str)\n",
    "    html_obj=HTML(html=html_str)\n",
    "    product_title=html_obj.find(title_lookup,first=True)\n",
    "    product_price=html_obj.find(price_lookup,first=True)\n",
    "    return product_title,product_price\n"
   ]
  },
  {
   "cell_type": "code",
   "execution_count": 62,
   "metadata": {},
   "outputs": [
    {
     "output_type": "execute_result",
     "data": {
      "text/plain": [
       "'https://www.amazon.in/b/?node=6637738031&ref_=nav_cs_amazonbasics_7b323e02d64042408aefc605ff4f5baf'"
      ]
     },
     "metadata": {},
     "execution_count": 62
    }
   ],
   "source": [
    "first_product_link=page_links[0]\n",
    "first_product_link"
   ]
  },
  {
   "cell_type": "code",
   "execution_count": 63,
   "metadata": {
    "tags": [
     "outputPrepend"
    ]
   },
   "outputs": [
    {
     "output_type": "stream",
     "name": "stdout",
     "text": [
      "m()}catch(e){}}!function(){var e=function(){var e=p(\"cdn-rid\");if(e)return{r:e,s:\"cdn\"}}()||function(){if(r.store(o+a))return{r:r.UUID().toUpperCase().replace(/-/g,\"\").slice(0,20),s:\"device\"}}()||{},n=e.r,c=e.s;if(!!n){var t=p(\"session-id\");!function(e,n,c,t){f(\"setEntity\",{page:{pageSource:\"cache\",requestId:e,cacheRequestId:a,cacheSource:t},session:{id:c}})}(n,0,t,c),\"device\"===c&&l(\"log\",{schemaId:\"<ns>.CacheImpression.1\"},{ent:\"all\"}),i&&i(n,t,c)}}(),n(o+a,d.now()+36e5),r.once(\"$load\",function(){var c=d.now();t(function(e,n){return 0==e.indexOf(o)&&parseInt(n)<c})})});csa.plugin(function(u){var i,t=\"Content\",e=\"MutationObserver\",n=\"addedNodes\",a=\"querySelectorAll\",s=\"matches\",r=\"getAttributeNames\",o=\"getAttribute\",f=\"dataset\",c=\"widget\",l=\"producerId\",d={ent:{element:1,page:[\"pageType\",\"subPageType\",\"requestId\"]}},h=5,g=u.config[t+\".BubbleUp.SearchDepth\"]||20,m=\"csaC\",p=m+\"Id\",y={},v=u.config,b=v[t+\".Selectors\"]||[],E=v[t+\".WhitelistedAttributes\"]||{href:1,class:1},I=v[t+\".EnableContentEntities\"],w=u.global,C=w.document||{},A=C.documentElement,U=w.HTMLElement,k={},L=[],N=function(t,e,n,i){var r=this,o=u(\"Events\",{producerId:t||\"csa\"});e.type=e.type||c,r.id=e.id,r.l=o,r.e=e,r.el=n,r.rt=i,r.dlo=d,r.log=function(t,e){o(\"log\",t,e||d)},e.id&&o(\"setEntity\",{element:e})},O=N.prototype;function D(t){var e=(t=t||{}).element,n=t.target;return e?function(t,e){var n;n=t instanceof U?B(t)||$(e[l],t,H,u.time()):k[t.id]||_(e[l],0,t,u.time());return n}(e,t):n?S(n):u.error(\"No element or target argument provided.\")}function S(t){var e=function(t){var e=null,n=0;for(;t&&n<g;){if(n++,T(t,p)){e=t;break}t=t.parentElement}return e}(t);return e?B(e):new N(\"csa\",{id:null},null,u.time())}function T(t,e){if(t&&t.dataset)return t.dataset[e]}function j(t,e,n){L.push({n:n,e:t,t:e}),x()}function q(){for(var t=u.time(),e=0;0<L.length;){var n=L.shift();if(y[n.n](n.e,n.t),++e%10==0&&u.time()-t>h)break}i=0,L.length&&x()}function x(){i=i||u.raf(q)}function M(t,e,n){return{n:t,e:e,t:n}}function $(t,e,n,i){var r=u.UUID(),o={id:r},c=S(e);return e[f][p]=r,n(o,e),c.id&&(o.parentId=c.id),_(t,e,o,i)}function _(t,e,n,i){I&&(n.schemaId=\"<ns>.ContentEntity.2\"),n.id=n.id||u.UUID();var r=new N(t,n,e,i);return I&&r.log({schemaId:\"<ns>.ContentRender.1\",timestamp:i}),u.emit(\"$content.register\",r),k[n.id]=r}function B(t){return k[(t[f]||{})[p]]}function H(t,e){r in e&&(function(n,i){Object.keys(n[f]).forEach(function(t){if(!t.indexOf(m)&&m.length<t.length){var e=function(t){return(t[0]||\"\").toLowerCase()+t.slice(1)}(t.slice(m.length));i[e]=n[f][t]}})}(e,t),function(e,n){(e[r]()||[]).forEach(function(t){t in E&&(n[t]=e[o](t))})}(e,t))}A&&C[a]&&w[e]&&(b.push({selector:\"*[data-csa-c-type]\",entity:H}),b.push({selector:\".celwidget\",entity:function(t,e){H(t,e),t.slotId=t.slotId||e[o](\"cel_widget_id\")||e.id,t.type=t.type||c}}),y[1]=function(t,e){t.forEach(function(t){t[n]&&t[n].constructor&&\"NodeList\"===t[n].constructor.name&&Array.prototype.forEach.call(t[n],function(t){L.unshift(M(2,t,e))})})},y[2]=function(o,c){a in o&&s in o&&b.forEach(function(t){for(var e=t.selector,n=o[s](e),i=o[a](e),r=i.length-1;0<=r;r--)L.unshift(M(3,{e:i[r],s:t},c));n&&L.unshift(M(3,{e:o,s:t},c))})},y[3]=function(t,e){var n=t.e;B(n)||$(\"csa\",n,t.s.entity,e)},y[4]=function(){u.register(t,{instance:D})},new w[e](function(t){j(t,u.time(),1)}).observe(A,{childList:!0,subtree:!0}),j(A,u.time(),2),j(null,u.time(),4),u.on(\"$content.export\",function(e){Object.keys(e).forEach(function(t){O[t]=e[t]})}))});csa.plugin(function(n){var i,t=\"ContentImpressions\",e=\"KillSwitch.\",o=\"IntersectionObserver\",r=\"getAttribute\",s=\"dataset\",c=\"intersectionRatio\",a=\"csaCId\",m=1e3,l=n.global,f=n.config,u=f[e+t],g=f[e+t+\".ContentViews\"],v=((l.performance||{}).timing||{}).navigationStart||n.time(),d={};function h(t){t&&(t.v=1,function(t){t.vt=n.time(),t.el.log({schemaId:\"<ns>.ContentView.3\",timeToViewed:t.vt-t.el.rt,pageFirstPaintToElementViewed:t.vt-v})}(t))}function I(t){t&&!t.it&&(t.i=n.time()-t.is>m,function(t){t.it=n.time(),t.el.log({schemaId:\"<ns>.ContentImpressed.2\",timeToImpressed:t.it-t.el.rt,pageFirstPaintToElementImpressed:t.it-v})}(t))}!u&&l[o]&&(i=new l[o](function(t){t.forEach(function(t){var e=function(t){if(t&&t[r])return d[t[s][a]]}(t.target);if(e){var i=t.intersectionRect;t.isIntersecting&&0<i.width&&0<i.height&&(g||e.v||h(e),.5<=t[c]&&!e.is&&(e.is=n.time(),e.timer=n.timeout(function(){I(e)},m))),t[c]<.5&&!e.it&&e.timer&&(l.clearTimeout(e.timer),e.is=0,e.timer=0)}})},{threshold:[0,.5]}),n.on(\"$content.register\",function(t){var e=t.el;e&&(d[t.id]={el:t,v:0,i:0,is:0,vt:0,it:0},i.observe(e))}))});csa.plugin(function(e){e.config[\"KillSwitch.ContentLatency\"]||e.emit(\"$content.export\",{mark:function(t,n){var o=this;o.t||(o.t=e(\"Timers\",{logger:o.l,schemaId:\"<ns>.ContentLatency.1\",logOptions:o.dlo})),o.t(\"mark\",t,n)}})});csa.plugin(function(d){var t,i=\"normal\",s=\"reload\",n=\"history\",o=\"new-tab\",e=\"ajax\",a=1,r=2,c=\"lastActive\",u=\"lastInteraction\",l=\"used\",f=\"csa-tabbed-browsing\",p=\"visibilityState\",g={\"back-memory-cache\":1,\"tab-switch\":1,\"history-navigation-page-cache\":1},v=\"<ns>.TabbedBrowsing.2\",b=\"visible\",m=d.global,y=d(\"Events\",{producerId:\"csa\"}),I=m.location||{},h=m.document,T=m.JSON,w=((m.performance||{}).navigation||{}).type,z=d.store,P=d.on,S=d.storageSupport(),k=!1,x={},A={},C={},O={},$=!1,j=!1,q=!1;function B(i){try{return T.parse(z(f,void 0,{session:i})||\"{}\")||{}}catch(i){d.error('Could not parse storage value for key \"'+f+'\": '+i)}return{}}function E(i,t){z(f,T.stringify(t||{}),{session:i})}function J(i){var t=A.tid||i.id,n=x[c]||{};n.tid===t&&(n.pid=i.id),O={pid:i.id,tid:t,lastInteraction:A[u]||{},initialized:!0},C={lastActive:n,lastInteraction:x[u]||{},time:d.time()}}function N(i){var t=i===o,n=h.referrer,e=!(n&&n.length)||!~n.indexOf(I.origin||\"\"),a=t&&e,r={type:i,toTabId:O.tid,toPageId:O.pid,transitTime:d.time()-x.time||null};a||function(i,t,n){var e=i===s,a=t?x[c]||{}:A,r=x[u]||{},d=A[u]||{},o=t?r:d;n.fromTabId=a.tid,n.fromPageId=a.pid,e||!o.id||o[l]||(n.interactionId=o.id||null,r.id===o.id&&(r[l]=!0),d.id===o.id&&(d[l]=!0))}(i,t,r),y(\"log\",{navigation:r,schemaId:v},{ent:{page:[\"pageType\",\"subPageType\",\"requestId\"]}})}function D(i){q=function(i){return i&&i in g}(i.transitionType),function(){x=B(!1),A=B(!0);var i=x[u],t=A[u],n=!1,e=!1;i&&t&&i.id===t.id&&i[l]!==t[l]&&(n=!i[l],e=!t[l],t[l]=i[l]=!0,n&&E(!1,x),e&&E(!0,A))}(),J(i),$=!0,function(i){var t,n;t=G(),n=H(),(t||n)&&J(i)}(i)}function F(){k&&!q?N(e):(k=!0,N(w===r||q?n:w===a?A.initialized?s:o:A.initialized?i:o))}function G(){return!(!$||!t)&&(A[u]={id:t.messageId,used:!(x[u]={id:t.messageId,used:!1})},!(t=null))}function H(){var i=!1;if(j=h[p]===b,$){var t=x[c]||{};i=function(i,t,n){var e=!1,a=i[c];return j?a&&a.tid===O.tid&&a[b]&&a.pid===n||(i[c]={visible:!0,pid:n,tid:t},e=!0):a&&a.tid===O.tid&&a[b]&&(e=!(a[b]=!1)),e}(x,A.tid||t.tid||O.tid,A.pid||t.pid||O.pid)}return i}S.local&&S.session&&T&&h&&p in h&&(P(\"$pageChange\",function(i){D(i),F(),E(!1,C),E(!0,O),A=O,x=C},{buffered:1}),P(\"$content.interaction\",function(i){t=i,G()&&(E(!1,x),E(!0,A))}),P(h,\"visibilitychange\",function(){H()&&E(!1,x)},{capture:!1,passive:!0}))});csa.plugin(function(c){var e=c(\"Metrics\",{producerId:\"csa\"});c.on(c.global,\"pageshow\",function(c){c&&c.persisted&&e(\"recordMetric\",\"bfCache\",1)})});\n",
      "if (window.ue && window.ue.uels) {\n",
      "    ue.uels(\"https://c.amazon-adsystem.com/bao-csm/forensics/a9-tq-forensics-incremental.min.js\");\n",
      "}\n",
      "\n",
      "\n",
      "}\n",
      "/* ◬ */\n",
      "</script>\n",
      "\n",
      "</div>\n",
      "\n",
      "<noscript>\n",
      "    <img height=\"1\" width=\"1\" style='display:none;visibility:hidden;' src='//fls-eu.amazon.in/1/batch/1/OP/A21TJRUUN4KGV:257-3132279-8890842:J0KZFNAB227MK8T9FXSH$uedata=s:%2Frd%2Fuedata%3Fnoscript%26id%3DJ0KZFNAB227MK8T9FXSH:0' alt=\"\"/>\n",
      "</noscript>\n",
      "\n",
      "<script>window.ue && ue.count && ue.count('CSMLibrarySize', 53498)</script>\n",
      "</div>\n",
      "<!--       _\n",
      "       .__(.)< (MEOW)\n",
      "        \\___)   \n",
      " ~~~~~~~~~~~~~~~~~~-->\n",
      "<!-- sp:eh:IB16ut1stb4ciB48pKRPhYSDM0uElJyZeyZUbYHgkkauwhxAdo8MADtUm1UMG1qSbM+F24F/c6f6qW3HjUKRBmzbA7hHW3q7XNdZOMOJnNvpRfByM+4+C6mpDI8= -->\n",
      "<div id=\"a-popover-root\" style=\"z-index:-1;position:absolute;\"></div><script type=\"text/html\" id=\"s-suggestion\"><div id=\"<#= suggestionId #>\"class=\"s-suggestion\"data-alias=\"<#= alias #>\"data-keyword=\"<#= keyword #>\"data-store=\"<#= store #>\"data-isSc=\"<#= isSpellCorrected #>\"data-isFb=\"<#= isFallback #>\"data-type=\"<#= type #>\"data-nid=\"<#= browseNodeId #>\"data-reftag=\"<#= refTag #>\"data-crid=\"<#= completionResponseId #>\"><# if (!skipDisplay) { for (var i = 0; i < highlightFragments.length; i++) {if (!highlightFragments[i].isHit) { #><span class=\"s-heavy\"><# } #><#= highlightFragments[i].text #><# if (!highlightFragments[i].isHit) { #></span><# } #><# } #><# } #><# if (typeof storeHtml === \"string\") { #> <#= storeHtml #><# } #></div></script><script type=\"text/html\" id=\"suggestions-template\"><div id=\"suggestions-template\"><# if (typeof suggestionTitle !== \"undefined\") { #><div id=\"suggestion-title\"><#= suggestionTitle #></div><# } #><# if (typeof biaTitle !== \"undefined\") { #><a href=\"<#= biaWidgetUrl #>\" style=\"text-decoration: none !important;\"><p class=\"s-bia-suggestion\"><strong><#= biaTitle #></strong></p></a><# } #><div id=\"suggestions\" dir=\"auto\"><# if (typeof suggestions !== \"undefined\") {for(var i=0; i < suggestions.length; i++) {var displayString = suggestions[i].display; #><#= displayString #><# }} #></div></div></script><script type=\"text/html\" id=\"promoted-suggestion\"><div class=\"s-suggestion s-suggestion-link-template\"><a href=\"<#= widgetItems[0].metadata.link_url #>\"><#for (var i = 0; i < highlightFragments.length; i++) {if (highlightFragments[i].isHighlight) { #><span class=\"s-heavy\"><# } #><#= highlightFragments[i].text #><# if (highlightFragments[i].isHighlight) { #></span><# } #><# } #></a></div></script><script type=\"text/html\" id=\"s-recentSearch\"><div id=\"<#= suggestionId #>\" class=\"s-suggestion s-recentSearch s-recentSearchDistinct\" data-alias=\"<#= alias #>\" data-keyword=\"<#= keyword #>\" data-store=\"<#= store #>\" data-isSc=\"false\" data-isFb=\"false\" data-type=\"<#= type #>\"><span class=\"s-heavy\"><#= bprefix #></span><#= prefix #><span class=\"s-heavy\"><#= suffix #></span><# if (typeof storeHtml === \"string\") { #> <#= storeHtml #><# } #><span id=\"delete-<#= suggestionId #>\" class=\"s-suggestion-deleteDistinct\"><i id=\"delete-icon-<#= suggestionId #>\" class=\"a-icon a-icon-remove\"></i></span> </div></script><script type=\"text/html\" id=\"s-separator\"><div id=\"s-separator\"><div class=\"s-separator\"></div></div></script><script type=\"text/html\" id=\"s-option\"><option value=\"<#= value #>\"><#= store #></option></script><script type=\"text/html\" id=\"s-minimal\"><div class=\"s-suggestion s-custom\" data-url=\"<#= url #>\"><#= bprefix #><span class=\"s-heavy\"><#= prefix #></span><#= suffix #></div></script><script type=\"text/html\" id=\"s-storeText\"><span class=\"<#= cssClasses #>\"><#= store #></span></script><script type=\"text/html\" id=\"s-nextSearch\"><div id=\"<#= suggestionId #>\" <# if (nextSearchTemplateType === \"T2\") { #>class=\"s-suggestion s-nextSearch s-nextSearch-block s-nextSearch-cell\" <# } else { #>class=\"s-suggestion s-nextSearch\" <# } #>data-alias=\"<#= alias #>\" data-keyword=\"<#= keywords #>\" data-isSc=\"false\" data-isFb=\"false\" data-type=\"<#= type #>\"><#= keywords #></div></script><script type=\"text/html\" id=\"s-qu-suggestion\"><div id=\"<#= suggestionId #>\"class=\"s-suggestion s-qu-suggestion\"data-keyword=\"<#= keyword #>\"data-store=\"<#= store #>\"data-isSc=\"<#= isSpellCorrected #>\"data-type=\"<#= type #>\"data-qu-type=\"<#= qu.type #>\"data-qu-value=\"<#= qu.value #>\"data-crid=\"<#= completionResponseId #>\"><span class=\"s-qu-display-string\"><#= qu.displayString  #></span></div></script><script type=\"text/html\" id=\"asin\"><div class=\"s-asin-suggestion s-suggestion\"><a class=\"s-asin-sug-link\" href=\"<#= widgetItems[0].metadata.link_url #>\"><div class=\"s-asin-sug-left\"><div class=\"s-asin-image-container\" style=\"opacity: 1;\"><img class=\"s-asin-image\" src=\"<#= widgetItems[0].metadata.image_url #>\"></div></div><div class=\"s-asin-sug-right\"><div class=\"s-size-mini s-sug-pp-caption\"><#= widgetItems[0].metadata.asin_header #></div><div class=\"s-asin-title\"><#= widgetItems[0].metadata.asin_title #></div></div></a></div></script><script type=\"text/html\" id=\"storefront\"><hr class=\"s-line-separator\"><div class=\"s-storefront-suggestion s-suggestion\"><a class=\"s-storefront-sug-link\" href=\"<#= widgetItems[0].metadata.link_url #>\"><div class=\"s-storefront-sug-left\"><div class=\"s-storefront-image-container\" style=\"opacity: 1;\"><img class=\"s-storefront-image\" src=\"<#= widgetItems[0].metadata.image_url #>\"></div></div><div class=\"s-storefront-sug-right\"><div class=\"s-size-mini s-sug-sf-caption\"><#= widgetItems[0].metadata.storefront_header #></div><div class=\"s-storefront-title\"><#= widgetItems[0].metadata.storefront_caption #></div></div></a></div></script><script type=\"text/html\" id=\"keywords-link\"><div class=\"s-suggestion s-suggestion-link-template\"><a href=\"<#= widgetItems[0].metadata.link_url #>\"><#for (var i = 0; i < highlightFragments.length; i++) {if (highlightFragments[i].isHighlight) { #><span class=\"s-heavy\"><# } #><#= highlightFragments[i].text #><# if (highlightFragments[i].isHighlight) { #></span><# } #><# } #></a></div></script><script type=\"text/html\" id=\"keywords-badge-link\"><div class=\"s-suggestion s-suggestion-link-template\"><a href=\"<#= widgetItems[0].metadata.link_url #>\"><#for (var i = 0; i < highlightFragments.length; i++) {if (highlightFragments[i].isHighlight) { #><span class=\"s-heavy\"><# } #><#= highlightFragments[i].text #><# if (highlightFragments[i].isHighlight) { #></span><# } #><# } #><# if (widgetItems[0].metadata.badge_type === \"PRIME\") { #><i class=\"a-icon a-icon-prime a-icon-medium\" role=\"img\" aria-label=\"Amazon Prime\"></i><# } #></a></div></script><script type=\"text/html\" id=\"pre-search-suggestion\"><div id=\"pre-search-suggestion\"><div class=\"s-suggestion pss-dropdown-title\"><#=metadata[language]#></div><# for(var i=0; i < widgetItems.length; i++) {var keywords = widgetItems[i].metadata.keywords; #><div class=\"s-suggestion s-heavy\" data-alias=\"<#= alias #>\" data-keyword=\"<#= keywords #>\" data-type=\"a9\" data-crid=\"<#= completionResponseId #>\" data-reftag=\"<#= refTag #>\"><#= keywords #></div><#} #></div></script><script type=\"text/html\" id=\"discover-top-grey\"><div id=\"discover-suggestion\"><#= metadata.header #><span class=\"s-heavy\"><#= metadata.headerSuffix #></span><div class=\"discover-sug-container-top discover-widget-carousel-container\"><# for(var i=0; i < widgetItems.length; i++) {var itemData = widgetItems[i].metadata; #><div class=\"discover-sug-column\"><div class=\"discover-sug-card  discover-widget-suggestion s-suggestion\"><a class=\"discover-sug-link\" href=\"<#= itemData.link_url #>\"><# if (itemData.image_url) { #><div class=\"discover-sug-image-container\"><img class=\"discover-sug-image\" src=\"<#= itemData.image_url #>\"><div class=\"discover-sug-image-background discover-sug-image-grey-shield\"></div></div><div class=\"discover-sug-text\"><#= itemData.text #></div><# } else { #><div class=\"discover-sug-image-container-empty\"><div class=\"discover-sug-image-background discover-sug-image-grey-shield\"></div><div class=\"discover-sug-text\"><#= itemData.text #></div></div><# } #></a></div></div><#} #><# var arrowImgSrc = \"https://m.media-amazon.com/images/G/01/shopbylook/shoppable-images/next_tab_control._CB416468320_.svg\"; #><div class=\"discover-widget-carousel-control discover-widget-carousel-control-left discover-widget-prevent-close\"><img alt=\"\" class=\"discover-widget-carousel-control-left discover-widget-prevent-close\" src=\"<#= arrowImgSrc #>\"></div><div class=\"discover-widget-carousel-control discover-widget-carousel-control-right discover-widget-prevent-close\"><img alt=\"\" class=\"discover-widget-carousel-control-right discover-widget-prevent-close\" src=\"<#= arrowImgSrc #>\"></div></div><hr class=\"discover-hr\"></div></script><script type=\"text/html\" id=\"discover-bot-grey\"><div id=\"s-suggestion discover-suggestion\"><hr class=\"discover-hr\"><div class=\"discover-sug-container-bot\"><# for(var i=0; i < widgetItems.length; i++) {var metadata = widgetItems[i].metadata; #><div class=\"discover-sug-column\"><div class=\"discover-sug-card\"><a class=\"discover-sug-link\" href=\"<#= metadata.link_url #>\"><div class=\"discover-sug-image-container\"><img class=\"discover-sug-image\" src=\"<#= metadata.image_url #>\"><div class=\"discover-sug-image-background discover-sug-image-grey-shield\"></div></div><div class=\"discover-sug-text\"><#= metadata.text #></div></a></div></div><#} #></div></div></script><script type=\"text/html\" id=\"discover-top-clear\"><div id=\"s-suggestion discover-suggestion\"><div class=\"discover-sug-container-top\"><# for(var i=0; i < widgetItems.length; i++) {var metadata = widgetItems[i].metadata; #><div class=\"discover-sug-column\"><div class=\"discover-sug-card\"><a class=\"discover-sug-link\" href=\"<#= metadata.link_url #>\"><div class=\"discover-sug-image-container\"><img class=\"discover-sug-image\" src=\"<#= metadata.image_url #>\"><div class=\"discover-sug-image-background\"></div></div><div class=\"discover-sug-text\"><#= metadata.text #></div></a></div></div><#} #></div><hr class=\"discover-hr\"></div></script><script type=\"text/html\" id=\"discover-bot-clear\"><div id=\"s-suggestion discover-suggestion\"><hr class=\"discover-hr\"><div class=\"discover-sug-container-bot\"><# for(var i=0; i < widgetItems.length; i++) {var metadata = widgetItems[i].metadata; #><div class=\"discover-sug-column\"><div class=\"discover-sug-card\"><a class=\"discover-sug-link\" href=\"<#= metadata.link_url #>\"><div class=\"discover-sug-image-container\"><img class=\"discover-sug-image\" src=\"<#= metadata.image_url #>\"><div class=\"discover-sug-image-background\"></div></div><div class=\"discover-sug-text\"><#= metadata.text #></div></a></div></div><#} #></div></div></script><script type=\"text/html\" id=\"discover-top-refinement-desktop-top\"><div class=\"discover-tr \"><#= metadata.header #><span class=\"s-heavy\"><#= metadata.headerSuffix #></span><ol class=\"discover-tr-carousel-container discover-widget-carousel-container \"><# for (var i = 0; i < widgetItems.length; i++) {var itemMetadata = widgetItems[i].metadata; #><li class=\"discover-tr-carousel-card discover-textnav-pill\"><div class=\"discover-textnav-pill\"><div data-keyword=\"<#= metadata.header #>\" class=\"s-suggestion discover-tr-suggestion discover-widget-suggestion\"><a href=\"<#= itemMetadata.link_url #>\"><#= itemMetadata.text #></a></div></div></li><#} #></ol><# var arrowImgSrc = \"https://m.media-amazon.com/images/G/01/shopbylook/shoppable-images/next_tab_control._CB416468320_.svg\"; #><div class=\"discover-widget-carousel-control discover-widget-carousel-control-left discover-widget-prevent-close\"><img alt=\"\" class=\"discover-widget-carousel-control-left discover-widget-prevent-close\" src=\"<#= arrowImgSrc #>\"></div><div class=\"discover-widget-carousel-control discover-widget-carousel-control-right discover-widget-prevent-close\"><img alt=\"\" class=\"discover-widget-carousel-control-right discover-widget-prevent-close\" src=\"<#= arrowImgSrc #>\"></div></div><hr class=\"discover-hr\"></script><script type=\"text/html\" id=\"stores\"><# var metadata = widgetItems[0].metadata; #><div class=\"s-suggestion s-store-suggestion\" data-keyword=\"<#= metadata.text #>\"><a class=\"s-store-sug-link\" aria-label=\"<#= metadata.text #>\" href=\"<#= metadata.link_url #>\"><div class=\"s-store-sug-logo-container\" style=\"opacity: 1;\"><img class=\"s-store-sug-logo\" alt=\"<#= metadata.text #>\" src=\"<#= metadata.image_url #>\"></div><div class=\"s-store-sug-text-container\"><div class=\"s-store-sug-text\"><# for (var i = 0; i < highlightFragments.length; i++) { #><# if (highlightFragments[i].isHighlight) { #><span class=\"s-heavy\"><# } #><#= highlightFragments[i].text #><# if (highlightFragments[i].isHighlight) { #></span><# } #><# } #></div></div></a></div></script><iframe id=\"jtm1ymismrk\" height=\"5px\" width=\"5px\" src=\"javascript:'1'\" style=\"position: absolute; top: -10000px; left: -10000px; visibility: hidden; opacity: 0;\"></iframe>\n"
     ]
    }
   ],
   "source": [
    "for link in page_links:\n",
    "    title,price=(None,None)\n",
    "    try:\n",
    "        title,price=scrape_product_page(link)\n",
    "    except:\n",
    "        pass\n",
    "    if title!=None and price !=None:\n",
    "        print(link,title,price)    \n",
    "\n"
   ]
  },
  {
   "cell_type": "code",
   "execution_count": null,
   "metadata": {},
   "outputs": [],
   "source": []
  }
 ],
 "metadata": {
  "kernelspec": {
   "name": "python3",
   "display_name": "Python 3.7.3 64-bit ('day_18-1uvO5Ufl': venv)",
   "metadata": {
    "interpreter": {
     "hash": "f15f667a057972559824eccfa2e7752223e60cd77777e9836baf4a40faab3101"
    }
   }
  },
  "language_info": {
   "codemirror_mode": {
    "name": "ipython",
    "version": 3
   },
   "file_extension": ".py",
   "mimetype": "text/x-python",
   "name": "python",
   "nbconvert_exporter": "python",
   "pygments_lexer": "ipython3",
   "version": "3.7.3"
  }
 },
 "nbformat": 4,
 "nbformat_minor": 5
}