{
 "cells": [
  {
   "cell_type": "code",
   "execution_count": 12,
   "id": "95a76bea",
   "metadata": {},
   "outputs": [],
   "source": [
    "import requests\n",
    "from requests_html import HTML\n",
    "from selenium import webdriver\n",
    "from selenium.webdriver.chrome.options import Options"
   ]
  },
  {
   "cell_type": "code",
   "execution_count": 13,
   "id": "fba110a1",
   "metadata": {},
   "outputs": [],
   "source": [
    "options=Options()\n",
    "options.add_argument(\"--headless\")\n",
    "\n",
    "driver =webdriver.Chrome(options=options)"
   ]
  },
  {
   "cell_type": "code",
   "execution_count": 22,
   "id": "24b3a9f2",
   "metadata": {},
   "outputs": [],
   "source": [
    "url=\"https://www.amazon.com/Portable-Relaxing-Soothing-Charging-Auto-Off/dp/B00A2JBMRE/ref=sr_1_2?dchild=1&qid=1623326195&s=kitchen-intl-ship&sr=1-2\"\n",
    "title_lookup=\"#productTitle\"\n",
    "price_lookup=\"#priceblock_ourprice\""
   ]
  },
  {
   "cell_type": "code",
   "execution_count": 23,
   "id": "246e33af",
   "metadata": {},
   "outputs": [],
   "source": [
    "# requests is not working\n",
    "# r=requests.get(url)\n",
    "# html_str=r.text"
   ]
  },
  {
   "cell_type": "code",
   "execution_count": 6,
   "id": "5d4ea1cf",
   "metadata": {},
   "outputs": [
    {
     "output_type": "stream",
     "name": "stdout",
     "text": [
      "\n\n<!--\n        To discuss automated access to Amazon data please contact api-services-support@amazon.com.\n        For information about migrating to our APIs refer to our Marketplace APIs at https://developer.amazonservices.com/ref=rm_c_sv, or our Product Advertising API at https://affiliate-program.amazon.com/gp/advertising/api/detail/main.html/ref=rm_c_ac for advertising use cases.\n-->\n\n<!--\nCorreios.DoNotSend\n-->\n\n<div class=\"a-container a-padding-double-large\" style=\"min-width:350px;padding:44px 0 !important\">\n\n    <div class=\"a-row a-spacing-double-large\" style=\"width: 350px; margin: 0 auto\">\n\n        <div class=\"a-row a-spacing-medium a-text-center\"><i class=\"a-icon a-logo\"></i></div>\n\n        <div class=\"a-box a-alert a-alert-info a-spacing-base\">\n            <div class=\"a-box-inner\">\n                <i class=\"a-icon a-icon-alert\"></i>\n                <h4>Enter the characters you see below</h4>\n                <p class=\"a-last\">Sorry, we just need to make sure you're not a robot. For best results, please make sure your browser is accepting cookies.</p>\n                </div>\n            </div>\n\n            <div class=\"a-section\">\n\n                <div class=\"a-box a-color-offset-background\">\n                    <div class=\"a-box-inner a-padding-extra-large\">\n\n                        <form method=\"get\" action=\"/errors/validateCaptcha\" name=\"\">\n                            <input type=\"hidden\" name=\"amzn\" value=\"sdwNtGn+wkvcSlwyvj4gjA==\"><input type=\"hidden\" name=\"amzn-r\" value=\"/Band-Aid-Flexible-Adhesive-Bandages-Assorted/dp/B00B6A6XOK/ref=sr_1_1?dchild=1&amp;fst=as%3Aoff&amp;pf_rd_i=16225014011&amp;pf_rd_m=ATVPDKIKX0DER&amp;pf_rd_p=a3460e00-9eac-4cab-9814-093998a3f6d8&amp;pf_rd_r=GZ75CJSE0T265Q6RBS6J&amp;pf_rd_s=merchandised-search-4&amp;pf_rd_t=101&amp;qid=1623324219&amp;rnid=16225014011&amp;s=sporting-goods&amp;sr=1-1&amp;th=1\">\n                            <div class=\"a-row a-spacing-large\">\n                                <div class=\"a-box\">\n                                    <div class=\"a-box-inner\">\n                                        <h4>Type the characters you see in this image:</h4>\n                                        <div class=\"a-row a-text-center\">\n                                            <img src=\"https://images-na.ssl-images-amazon.com/captcha/bcxmjlko/Captcha_papbepmowz.jpg\">\n                                        </div>\n                                        <div class=\"a-row a-spacing-base\">\n                                            <div class=\"a-row\">\n                                                <div class=\"a-column a-span6\">\n                                                </div>\n                                                <div class=\"a-column a-span6 a-span-last a-text-right\">\n                                                    <a onclick=\"window.location.reload()\">Try different image</a>\n                                                </div>\n                                            </div>\n                                            <input autocomplete=\"off\" spellcheck=\"false\" placeholder=\"Type characters\" id=\"captchacharacters\" name=\"field-keywords\" class=\"a-span12\" autocapitalize=\"off\" autocorrect=\"off\" type=\"text\">\n                                        </div>\n                                    </div>\n                                </div>\n                            </div>\n\n                            <div class=\"a-section a-spacing-extra-large\">\n\n                                <div class=\"a-row\">\n                                    <span class=\"a-button a-button-primary a-span12\">\n                                        <span class=\"a-button-inner\">\n                                            <button type=\"submit\" class=\"a-button-text\">Continue shopping</button>\n                                        </span>\n                                    </span>\n                                </div>\n\n                            </div>\n                        </form>\n\n                    </div>\n                </div>\n\n            </div>\n\n        </div>\n\n        <div class=\"a-divider a-divider-section\"><div class=\"a-divider-inner\"></div></div>\n\n        <div class=\"a-text-center a-spacing-small a-size-mini\">\n            <a href=\"https://www.amazon.com/gp/help/customer/display.html/ref=footer_cou?ie=UTF8&amp;nodeId=508088\">Conditions of Use</a>\n            <span class=\"a-letter-space\"></span>\n            <span class=\"a-letter-space\"></span>\n            <span class=\"a-letter-space\"></span>\n            <span class=\"a-letter-space\"></span>\n            <a href=\"https://www.amazon.com/gp/help/customer/display.html/ref=footer_privacy?ie=UTF8&amp;nodeId=468496\">Privacy Policy</a>\n        </div>\n        <div class=\"a-text-center a-size-mini a-color-secondary\">\n          © 1996-2014, Amazon.com, Inc. or its affiliates\n          <script>\n           if (true === true) {\n             document.write('<img src=\"https://fls-na.amaz'+'on.com/'+'1/oc-csi/1/OP/requestId=2TJEZK3QGEEEAB5MYFQY&js=1\" />');\n           };\n          </script><img src=\"https://fls-na.amazon.com/1/oc-csi/1/OP/requestId=2TJEZK3QGEEEAB5MYFQY&amp;js=1\">\n          <noscript>\n            <img src=\"https://fls-na.amazon.com/1/oc-csi/1/OP/requestId=2TJEZK3QGEEEAB5MYFQY&js=0\" />\n          </noscript>\n        </div>\n    </div>\n    <script>\n    if (true === true) {\n        var head = document.getElementsByTagName('head')[0],\n            prefix = \"https://images-na.ssl-images-amazon.com/images/G/01/csminstrumentation/\",\n            elem = document.createElement(\"script\");\n        elem.src = prefix + \"csm-captcha-instrumentation.min.js\";\n        head.appendChild(elem);\n\n        elem = document.createElement(\"script\");\n        elem.src = prefix + \"rd-script-6d68177fa6061598e9509dc4b5bdd08d.js\";\n        head.appendChild(elem);\n    }\n    </script>\n\n\n"
     ]
    }
   ],
   "source": [
    "# print(html_str)\n",
    "driver.get(url)\n",
    "body_el=driver.find_element_by_css_selector(\"body\")\n",
    "html_str=body_el.get_attribute(\"innerHTML\")\n",
    "print(html_str)"
   ]
  },
  {
   "cell_type": "code",
   "execution_count": 24,
   "id": "f12e0f3f",
   "metadata": {},
   "outputs": [],
   "source": [
    "html_obj=HTML(html=html_str)"
   ]
  },
  {
   "cell_type": "code",
   "execution_count": 25,
   "id": "7f441073",
   "metadata": {},
   "outputs": [],
   "source": [
    "product_title=html_obj.find(title_lookup,first=True)"
   ]
  },
  {
   "cell_type": "code",
   "execution_count": 26,
   "id": "5f251881",
   "metadata": {},
   "outputs": [],
   "source": [
    "product_price=html_obj.find(price_lookup,first=True)"
   ]
  },
  {
   "cell_type": "code",
   "execution_count": 27,
   "metadata": {},
   "outputs": [
    {
     "output_type": "stream",
     "name": "stdout",
     "text": [
      "None None\n"
     ]
    }
   ],
   "source": [
    "print(product_title,product_price)"
   ]
  },
  {
   "cell_type": "code",
   "execution_count": null,
   "metadata": {},
   "outputs": [],
   "source": []
  }
 ],
 "metadata": {
  "kernelspec": {
   "name": "python3",
   "display_name": "Python 3.7.3 64-bit ('day_18-1uvO5Ufl': venv)",
   "metadata": {
    "interpreter": {
     "hash": "f15f667a057972559824eccfa2e7752223e60cd77777e9836baf4a40faab3101"
    }
   }
  },
  "language_info": {
   "codemirror_mode": {
    "name": "ipython",
    "version": 3
   },
   "file_extension": ".py",
   "mimetype": "text/x-python",
   "name": "python",
   "nbconvert_exporter": "python",
   "pygments_lexer": "ipython3",
   "version": "3.7.3"
  }
 },
 "nbformat": 4,
 "nbformat_minor": 5
}