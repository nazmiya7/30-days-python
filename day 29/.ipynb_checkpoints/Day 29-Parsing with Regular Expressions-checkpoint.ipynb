{
 "cells": [
  {
   "cell_type": "code",
   "execution_count": 1,
   "id": "bd20955a",
   "metadata": {},
   "outputs": [],
   "source": [
    "my_phone_number=\"555-334-4357\""
   ]
  },
  {
   "cell_type": "code",
   "execution_count": 2,
   "id": "90b067ae",
   "metadata": {},
   "outputs": [
    {
     "data": {
      "text/plain": [
       "'5553344357'"
      ]
     },
     "execution_count": 2,
     "metadata": {},
     "output_type": "execute_result"
    }
   ],
   "source": [
    "numbers=[]\n",
    "for char in my_phone_number:\n",
    "    number_val=None\n",
    "    try:\n",
    "        number_val=int(char)\n",
    "    except:\n",
    "        pass\n",
    "    if number_val !=None:\n",
    "        numbers.append(number_val)\n",
    "        \n",
    "numbers_as_str=\"\".join([f\"{x}\" for x in numbers])      \n",
    "numbers_as_str"
   ]
  },
  {
   "cell_type": "code",
   "execution_count": 3,
   "id": "f077812a",
   "metadata": {},
   "outputs": [
    {
     "data": {
      "text/plain": [
       "'5553344357'"
      ]
     },
     "execution_count": 3,
     "metadata": {},
     "output_type": "execute_result"
    }
   ],
   "source": [
    "numbers_as_str2=my_phone_number.replace(\"-\",\"\")\n",
    "numbers_as_str2"
   ]
  },
  {
   "cell_type": "code",
   "execution_count": 4,
   "id": "3272fed8",
   "metadata": {},
   "outputs": [
    {
     "data": {
      "text/plain": [
       "'5553344357'"
      ]
     },
     "execution_count": 4,
     "metadata": {},
     "output_type": "execute_result"
    }
   ],
   "source": [
    "numbers_as_str3=\"\".join([f\"{x}\" for x in my_phone_number if x.isdigit()])   \n",
    "numbers_as_str3"
   ]
  },
  {
   "cell_type": "code",
   "execution_count": 5,
   "id": "da7fe0c7",
   "metadata": {},
   "outputs": [
    {
     "data": {
      "text/plain": [
       "['555', '334', '4357']"
      ]
     },
     "execution_count": 5,
     "metadata": {},
     "output_type": "execute_result"
    }
   ],
   "source": [
    "import re\n",
    "pattern=\"\\d+\"\n",
    "re.findall(pattern,my_phone_number)"
   ]
  },
  {
   "cell_type": "code",
   "execution_count": 6,
   "id": "2fa36234",
   "metadata": {},
   "outputs": [
    {
     "data": {
      "text/plain": [
       "['555', '334', '4357', '1', '555', '555', '5555']"
      ]
     },
     "execution_count": 6,
     "metadata": {},
     "output_type": "execute_result"
    }
   ],
   "source": [
    "my_other_phone_numbers=\"hi there, my old number is 555-334-4357 and my new number is +1-555-555-5555. \"\n",
    "pattern=\"\\d+\"\n",
    "re.findall(pattern,my_other_phone_numbers)"
   ]
  },
  {
   "cell_type": "code",
   "execution_count": 7,
   "id": "1a4b1610",
   "metadata": {},
   "outputs": [
    {
     "data": {
      "text/plain": [
       "['1', '5', '5', '5', '5', '5', '5', '5', '5', '5', '5']"
      ]
     },
     "execution_count": 7,
     "metadata": {},
     "output_type": "execute_result"
    }
   ],
   "source": [
    "meeting_str= \"hey,call me to the number +1-555-555-5555.\"\n",
    "pattern=\"\\d\"\n",
    "re.findall(pattern,meeting_str)\n"
   ]
  },
  {
   "cell_type": "code",
   "execution_count": 8,
   "id": "a560dc5a",
   "metadata": {},
   "outputs": [
    {
     "data": {
      "text/plain": [
       "[]"
      ]
     },
     "execution_count": 8,
     "metadata": {},
     "output_type": "execute_result"
    }
   ],
   "source": [
    "meeting_str= \"hey,call me to the number +1-555-555-5555.\"\n",
    "pattern=r\"\\+\\d{1}-\\d{3}-\\d{4}\"\n",
    "re.findall(pattern,meeting_str)\n"
   ]
  },
  {
   "cell_type": "code",
   "execution_count": 9,
   "id": "88bde44c",
   "metadata": {},
   "outputs": [
    {
     "data": {
      "text/plain": [
       "['+1-']"
      ]
     },
     "execution_count": 9,
     "metadata": {},
     "output_type": "execute_result"
    }
   ],
   "source": [
    "meeting_str= \"hey,call me to the number +1-555-555-5555.\"\n",
    "chunk_1=r\"\\+\\d{1}-\" #\"\\n\"\n",
    "re.findall(chunk_1,meeting_str)\n"
   ]
  },
  {
   "cell_type": "code",
   "execution_count": 10,
   "id": "37bd15d8",
   "metadata": {},
   "outputs": [
    {
     "data": {
      "text/plain": [
       "[]"
      ]
     },
     "execution_count": 10,
     "metadata": {},
     "output_type": "execute_result"
    }
   ],
   "source": [
    "chunk_1=\"\\?\" +\"\\d{1}\" + \"-?\"\n",
    "chunk_2=\"\\+\\d{3}\" +\"-?\"\n",
    "chunk_3=\"\\+\\d{3}-?\"\n",
    "chunk_4=\"\\+\\d{4}\"\n",
    "\n",
    "pattern =f\"{chunk_1}{chunk_2}{chunk_3}{chunk_4}\"\n",
    "\n",
    "meeting_str= \"hey,call me to the number +1-555-555-5555  1-222-333-4444 +15555533322.\"\n",
    "\n",
    "regex=re.compile(pattern)\n",
    "re.findall(pattern,meeting_str)"
   ]
  },
  {
   "cell_type": "code",
   "execution_count": 11,
   "id": "e6225119",
   "metadata": {},
   "outputs": [
    {
     "data": {
      "text/plain": [
       "[]"
      ]
     },
     "execution_count": 11,
     "metadata": {},
     "output_type": "execute_result"
    }
   ],
   "source": [
    "phone_number =\"+1(555)-553-3322\"\n",
    "\n",
    "chunk_1=\"\\?\" +\"\\d{1}\" + \"-?\"\n",
    "chunk_2=\"\\+\\d{3}\" +\"-?\"\n",
    "chunk_3=\"\\+\\d{3}-?\"\n",
    "chunk_4=\"\\+\\d{4}\"\n",
    "\n",
    "\n",
    "pattern =f\"{chunk_1}{chunk_2}{chunk_3}{chunk_4}\"\n",
    "\n",
    "regex = re.compile (pattern)\n",
    "\n",
    "re.findall(regex,phone_number)"
   ]
  },
  {
   "cell_type": "code",
   "execution_count": 12,
   "id": "cc088187",
   "metadata": {},
   "outputs": [
    {
     "data": {
      "text/plain": [
       "[]"
      ]
     },
     "execution_count": 12,
     "metadata": {},
     "output_type": "execute_result"
    }
   ],
   "source": [
    "meeting_str=\"hey,call me to the number +1-555-555-5555  1-222-333-4444 +15555533322.\"\n",
    "phone_number =\"+1(555)-553-3322\"\n",
    "\n",
    "chunk_1=\"\\?\" +\"\\d{1}\" + \"-?\"\n",
    "chunk_2=\"\\(?\"+\"\\d{3}\" +\"\\)?\"\"-?\"\n",
    "chunk_3=\"\\+\\d{3}-?\"\n",
    "chunk_4=\"\\+\\d{4}\"\n",
    "\n",
    "\n",
    "pattern =f\"{chunk_1}{chunk_2}{chunk_3}{chunk_4}\"\n",
    "\n",
    "regex = re.compile (pattern)\n",
    "\n",
    "re.findall(regex,meeting_str)"
   ]
  },
  {
   "cell_type": "code",
   "execution_count": 13,
   "id": "4bc66d3d",
   "metadata": {},
   "outputs": [
    {
     "data": {
      "text/plain": [
       "re.compile(r'\\?\\d{1}-?\\(?\\d{3}\\)?-?\\+\\d{3}-?\\+\\d{4}', re.UNICODE)"
      ]
     },
     "execution_count": 13,
     "metadata": {},
     "output_type": "execute_result"
    }
   ],
   "source": [
    " re.compile (pattern)"
   ]
  },
  {
   "cell_type": "markdown",
   "id": "4125b75d",
   "metadata": {},
   "source": [
    ". \\d ->[0-9]"
   ]
  },
  {
   "cell_type": "code",
   "execution_count": 14,
   "id": "f4825b08",
   "metadata": {},
   "outputs": [
    {
     "data": {
      "text/plain": [
       "[]"
      ]
     },
     "execution_count": 14,
     "metadata": {},
     "output_type": "execute_result"
    }
   ],
   "source": [
    "chunk_1=\"\\+?\" + \"[0-9]{1}\" + \"-?\"\n",
    "chunk_2=\"\\(?\"+\"[0-9]{3}\" +\"\\)?\"\"-?\"\n",
    "chunk_3=\"\\+[0-9]{3}-?\"\n",
    "chunk_4=\"\\+[0-9]{4}\"\n",
    "\n",
    "\n",
    "pattern =f\"{chunk_1}{chunk_2}{chunk_3}{chunk_4}\"\n",
    "\n",
    "regex = re.compile (pattern)\n",
    "\n",
    "re.findall(regex,meeting_str)"
   ]
  },
  {
   "cell_type": "code",
   "execution_count": 15,
   "id": "cc21b82b",
   "metadata": {},
   "outputs": [
    {
     "data": {
      "text/plain": [
       "re.compile(r'\\+?[0-9]{1}-?\\(?[0-9]{3}\\)?-?\\+[0-9]{3}-?\\+[0-9]{4}', re.UNICODE)"
      ]
     },
     "execution_count": 15,
     "metadata": {},
     "output_type": "execute_result"
    }
   ],
   "source": [
    "re.compile (pattern)"
   ]
  },
  {
   "cell_type": "code",
   "execution_count": 16,
   "id": "ab2dde53",
   "metadata": {},
   "outputs": [
    {
     "data": {
      "text/plain": [
       "[]"
      ]
     },
     "execution_count": 16,
     "metadata": {},
     "output_type": "execute_result"
    }
   ],
   "source": [
    "meeting_str=\"hey,call me to the number +1-555-555-5555  1-222-333-4444 +15555533322.\"\n",
    "phone_number =\"+1(555)-553-3322\"\n",
    "\n",
    "chunk_1=\"\\?\" +\"\\d{1}\" + \"-?\"\n",
    "# chunk_2=\"\\(?\"+\"[13579]{3}\" +\"\\)?\"\"-?\"\n",
    "chunk_2=\"\\(?\"+\"[1-4]{1}\" +\"\\)?\"\"-?\"\n",
    "chunk_3=\"\\+\\d{3}-?\"\n",
    "chunk_4=\"\\+\\d{4}\"\n",
    "\n",
    "\n",
    "pattern =f\"{chunk_1}{chunk_2}{chunk_3}{chunk_4}\"\n",
    "\n",
    "regex = re.compile (pattern)\n",
    "\n",
    "re.findall(regex,meeting_str)"
   ]
  },
  {
   "cell_type": "code",
   "execution_count": 17,
   "id": "09298e1e",
   "metadata": {},
   "outputs": [
    {
     "data": {
      "text/plain": [
       "[]"
      ]
     },
     "execution_count": 17,
     "metadata": {},
     "output_type": "execute_result"
    }
   ],
   "source": [
    "meeting_str=\"hey,call me to the number +1-555-555-5555  1-222-333-4444 +15555533322.\"\n",
    "phone_number =\"+1(555)-553-3322\"\n",
    "\n",
    "chunk_1=\"\\?\" +\"\\d{1}\" + \"-?\"\n",
    "# chunk_2=\"\\(?\"+\"[13579]{3}\" +\"\\)?\"\"-?\"\n",
    "chunk_2=\"\\(?\"+\"[0-2]{1}\" +\"[0-9]{2}\"+\"\\)?\"\"-?\"\n",
    "chunk_3=\"\\+\\d{3}-?\"\n",
    "chunk_4=\"\\+\\d{4}\"\n",
    "\n",
    "\n",
    "pattern =f\"{chunk_1}{chunk_2}{chunk_3}{chunk_4}\"\n",
    "\n",
    "regex = re.compile (pattern)\n",
    "\n",
    "re.findall(regex,meeting_str)"
   ]
  },
  {
   "cell_type": "code",
   "execution_count": 18,
   "id": "1207b7ab",
   "metadata": {},
   "outputs": [
    {
     "data": {
      "text/plain": [
       "re.compile(r'\\?\\d{1}-?\\(?[0-2]{1}[0-9]{2}\\)?-?\\+\\d{3}-?\\+\\d{4}', re.UNICODE)"
      ]
     },
     "execution_count": 18,
     "metadata": {},
     "output_type": "execute_result"
    }
   ],
   "source": [
    " re.compile (pattern)"
   ]
  },
  {
   "cell_type": "code",
   "execution_count": 19,
   "id": "43be8149",
   "metadata": {},
   "outputs": [
    {
     "data": {
      "text/plain": [
       "[]"
      ]
     },
     "execution_count": 19,
     "metadata": {},
     "output_type": "execute_result"
    }
   ],
   "source": [
    "meeting_str=\"hey,call me to the number +1-555-555-5555  1-222-333-4444 +15555533322.\"\n",
    "\n",
    "\n",
    "chunk_1=\"\\?\" +\"\\d{1}\" + \"-?\"\n",
    "chunk_2=\"\\(?\"+\"(?:222|213|555)\" +\"\\)?\"\"-?\"\n",
    "chunk_3=\"\\+\\d{3}-?\"\n",
    "chunk_4=\"\\+\\d{4}\"\n",
    "\n",
    "\n",
    "pattern =f\"{chunk_1}{chunk_2}{chunk_3}{chunk_4}\"\n",
    "\n",
    "regex = re.compile (pattern)\n",
    "\n",
    "re.findall(regex,meeting_str)"
   ]
  },
  {
   "cell_type": "code",
   "execution_count": 20,
   "id": "2377acf4",
   "metadata": {},
   "outputs": [
    {
     "data": {
      "text/plain": [
       "[]"
      ]
     },
     "execution_count": 20,
     "metadata": {},
     "output_type": "execute_result"
    }
   ],
   "source": [
    "meeting_str=\"hey,call me to the number +1-555-555-5555  1-222-333-4444 +15555533322.\"\n",
    "\n",
    "\n",
    "chunk_1=\"\\?\" +\"\\d{1}\" + \"-?\"\n",
    "chunk_2=\"\\(?\"+\"(?:3|2|5)\" + \"\\d{2}\"+\"\\)?\"\"-?\"\n",
    "chunk_3=\"\\+\\d{3}-?\"\n",
    "chunk_4=\"\\+\\d{4}\"\n",
    "\n",
    "\n",
    "pattern =f\"{chunk_1}{chunk_2}{chunk_3}{chunk_4}\"\n",
    "\n",
    "regex = re.compile (pattern)\n",
    "\n",
    "re.findall(regex,meeting_str)"
   ]
  },
  {
   "cell_type": "markdown",
   "id": "40905706",
   "metadata": {},
   "source": [
    "Groups"
   ]
  },
  {
   "cell_type": "code",
   "execution_count": 21,
   "id": "9d9809da",
   "metadata": {},
   "outputs": [
    {
     "name": "stdout",
     "output_type": "stream",
     "text": [
      "example ['1-212-555-5123']\n"
     ]
    }
   ],
   "source": [
    "chunk_1=\"\\d{1}-?\"\n",
    "chunk_2=\"\\d{3}-?\"\n",
    "chunk_3=\"\\d{3}-?\"\n",
    "chunk_4=\"\\d{4}\"\n",
    "\n",
    "example =\"1-212-555-5123\"\n",
    "\n",
    "pattern =f\"{chunk_1}{chunk_2}{chunk_3}{chunk_4}\"\n",
    "print('example',re.compile(pattern).findall(example))\n"
   ]
  },
  {
   "cell_type": "code",
   "execution_count": 22,
   "id": "1395b09f",
   "metadata": {},
   "outputs": [
    {
     "name": "stdout",
     "output_type": "stream",
     "text": [
      "group 1-212-555-5123\n",
      "groups ('1-', '212-', '555-', '5123')\n",
      "<re.Match object; span=(0, 14), match='1-212-555-5123'>\n"
     ]
    }
   ],
   "source": [
    "group_1=\"(\\d{1}-?)\"\n",
    "group_2=\"(\\d{3}-?)\"\n",
    "group_3=\"(\\d{3}-?)\"\n",
    "group_4=\"(\\d{4})\"\n",
    "\n",
    "example =\"1-212-555-5123 1-212-555-5123\"\n",
    "\n",
    "grouped_pattern =f\"{group_1}{group_2}{group_3}{group_4}\"\n",
    "matched = re.compile(grouped_pattern).match(example)\n",
    "if matched:\n",
    "    print('group',matched.group())\n",
    "    print('groups',matched.groups())\n",
    "    print(matched)\n",
    "    \n",
    "# print('example',re.compile(grouped_pattern).findall(example))    \n"
   ]
  },
  {
   "cell_type": "code",
   "execution_count": 23,
   "id": "a2695944",
   "metadata": {},
   "outputs": [
    {
     "name": "stdout",
     "output_type": "stream",
     "text": [
      "country_code 1-\n",
      "area_code 212-\n",
      "exchange_code 555-\n",
      "line_number 5123\n"
     ]
    }
   ],
   "source": [
    "group_1=\"(\\d{1}-?)\"\n",
    "group_2=\"(\\d{3}-?)\"\n",
    "group_3=\"(\\d{3}-?)\"\n",
    "group_4=\"(\\d{4})\"\n",
    "\n",
    "example =\"1-212-555-5123 \"\n",
    "\n",
    "grouped_pattern =f\"{group_1}{group_2}{group_3}{group_4}\"\n",
    "matched = re.compile(grouped_pattern).match(example)\n",
    "\n",
    "country_code=matched.group(1)\n",
    "print('country_code',country_code)\n",
    "\n",
    "area_code=matched.group(2)\n",
    "print('area_code',area_code)\n",
    "\n",
    "exchange_code=matched.group(3)\n",
    "print('exchange_code',exchange_code)\n",
    "\n",
    "line_number=matched.group(4)\n",
    "print('line_number',line_number)\n",
    "\n"
   ]
  },
  {
   "cell_type": "markdown",
   "id": "49352e48",
   "metadata": {},
   "source": [
    "Named Groups"
   ]
  },
  {
   "cell_type": "code",
   "execution_count": 24,
   "id": "c5aed430",
   "metadata": {},
   "outputs": [
    {
     "name": "stdout",
     "output_type": "stream",
     "text": [
      "1-(212)-555-5123\n",
      "{'country_code': '1', 'region_code': '212', 'exchange_code': '555', 'line_number': '5123'}\n",
      "1-(212)-555-5123\n",
      "{'country_code': '1', 'region_code': '212', 'exchange_code': '555', 'line_number': '5123'}\n",
      "1-(212)-555-5123\n",
      "{'country_code': '1', 'region_code': '212', 'exchange_code': '555', 'line_number': '5123'}\n",
      "1-(212)-555-5123\n",
      "{'country_code': '1', 'region_code': '212', 'exchange_code': '555', 'line_number': '5123'}\n"
     ]
    }
   ],
   "source": [
    "chunk_1=\"\\+?-?\" + \"(?P<country_code>\\d{1})\"+\"-?\"\n",
    "chunk_2=\"\\(\"+ \"(?P<region_code>\\d{3})\" \"\\)\" + \"-?\"\n",
    "chunk_3=\"(?P<exchange_code>\\d{3})-?\"\n",
    "chunk_4=\"(?P<line_number>\\d{4})\"\n",
    "\n",
    "example =\"1-(212)-555-5123 1-(212)-555-5123 1-(212)-555-5123 1-(212)-555-5123\"\n",
    "\n",
    "pattern =f\"{chunk_1}{chunk_2}{chunk_3}{chunk_4}\"\n",
    "\n",
    "for m in re.compile(pattern).finditer(example):\n",
    "    print(m.group(0))\n",
    "    print(m.groupdict())\n"
   ]
  },
  {
   "cell_type": "code",
   "execution_count": 25,
   "id": "0a74e79e",
   "metadata": {},
   "outputs": [
    {
     "name": "stdout",
     "output_type": "stream",
     "text": [
      "1-212-555-5123\n",
      "{}\n",
      "1-212-555-5123\n",
      "{}\n"
     ]
    }
   ],
   "source": [
    "group_1=\"(\\d{1}-?)\"\n",
    "group_2=\"(\\d{3}-?)\"\n",
    "group_3=\"(\\d{3}-?)\"\n",
    "group_4=\"(\\d{4})\"\n",
    "\n",
    "example =\"1-212-555-5123 1-212-555-5123\"\n",
    "\n",
    "grouped_pattern =f\"{group_1}{group_2}{group_3}{group_4}\"\n",
    "matched = re.compile(grouped_pattern).match(example)\n",
    "\n",
    "for m in re.compile(grouped_pattern).finditer(example):\n",
    "    print(m.group(0))\n",
    "    print(m.groupdict())\n"
   ]
  },
  {
   "cell_type": "code",
   "execution_count": 26,
   "id": "8977c6cd",
   "metadata": {},
   "outputs": [
    {
     "name": "stdout",
     "output_type": "stream",
     "text": [
      "{'country_code': '1', 'region_code': '212', 'exchange_code': '555', 'line_number': '5123', 'full_number': '1-(212)-555-5123'}\n",
      "{'country_code': '1', 'region_code': '212', 'exchange_code': '555', 'line_number': '5123', 'full_number': '1-(212)-555-5123'}\n",
      "{'country_code': '1', 'region_code': '212', 'exchange_code': '555', 'line_number': '5123', 'full_number': '1-(212)-555-5123'}\n",
      "{'country_code': '1', 'region_code': '212', 'exchange_code': '555', 'line_number': '5123', 'full_number': '1-(212)-555-5123'}\n"
     ]
    }
   ],
   "source": [
    "chunk_1=\"\\+?-?\" + \"(?P<country_code>\\d{1})\"+\"-?\"\n",
    "chunk_2=\"\\(\"+ \"(?P<region_code>\\d{3})\" \"\\)\" + \"-?\"\n",
    "chunk_3=\"(?P<exchange_code>\\d{3})-?\"\n",
    "chunk_4=\"(?P<line_number>\\d{4})\"\n",
    "\n",
    "example =\"1-(212)-555-5123 1-(212)-555-5123 1-(212)-555-5123 1-(212)-555-5123\"\n",
    "\n",
    "pattern =f\"{chunk_1}{chunk_2}{chunk_3}{chunk_4}\"\n",
    "datas=[]\n",
    "\n",
    "for m in re.compile(pattern).finditer(example):\n",
    "#     print(m.group(0))\n",
    "#     print(m.groupdict())\n",
    "    data=m.groupdict()\n",
    "    full_number=m.group(0)\n",
    "    data['full_number']=full_number\n",
    "    print(data)\n",
    "    datas.append(m.groupdict())\n"
   ]
  },
  {
   "cell_type": "code",
   "execution_count": 27,
   "id": "e7546177",
   "metadata": {},
   "outputs": [],
   "source": [
    "# pd.DataFrame(datas)"
   ]
  },
  {
   "cell_type": "markdown",
   "id": "2699b2b2",
   "metadata": {},
   "source": [
    "What about letters?"
   ]
  },
  {
   "cell_type": "code",
   "execution_count": 28,
   "id": "1f56ebe4",
   "metadata": {},
   "outputs": [
    {
     "data": {
      "text/plain": [
       "['Hello', 'world', 'am', 'i', 'happy', 'to', 'get']"
      ]
     },
     "execution_count": 28,
     "metadata": {},
     "output_type": "execute_result"
    }
   ],
   "source": [
    "my_text=\"Hello world.am i happy to get 100/100?\"\n",
    "\n",
    "pattern =\"[a-zA-Z]+\"\n",
    "\n",
    "re.findall(pattern,my_text)"
   ]
  },
  {
   "cell_type": "code",
   "execution_count": 29,
   "id": "a76725d6",
   "metadata": {},
   "outputs": [
    {
     "data": {
      "text/plain": [
       "['Hello', 'world', 'am', 'i', 'happy', 'to', 'get', '100', '100']"
      ]
     },
     "execution_count": 29,
     "metadata": {},
     "output_type": "execute_result"
    }
   ],
   "source": [
    "my_text=\"Hello world.am i happy to get 100/100?\"\n",
    "\n",
    "pattern =\"\\w+\"\n",
    "\n",
    "re.findall(pattern,my_text)"
   ]
  },
  {
   "cell_type": "code",
   "execution_count": 30,
   "id": "8553d1b7",
   "metadata": {},
   "outputs": [
    {
     "data": {
      "text/plain": [
       "'Hello world.am i happy to get 100100'"
      ]
     },
     "execution_count": 30,
     "metadata": {},
     "output_type": "execute_result"
    }
   ],
   "source": [
    "my_text=\"Hello world.am i happy to get 100/100?\"\n",
    "\n",
    "pattern =\"[0-9a-zA-Z .]\"\n",
    "\n",
    "\"\".join(re.findall(pattern,my_text))"
   ]
  },
  {
   "cell_type": "code",
   "execution_count": 31,
   "id": "3acc3bc3",
   "metadata": {},
   "outputs": [
    {
     "name": "stdout",
     "output_type": "stream",
     "text": [
      "Hello world.am i happy to get 100/100? \\backslash\n"
     ]
    }
   ],
   "source": [
    "my_text=\"Hello world.am i happy to get 100/100? \\\\backslash\"\n",
    "\n",
    "pattern =r\"[0-9a-zA-Z .\\/\\\\?]\"\n",
    "\n",
    "print(\"\".join(re.findall(pattern,my_text)))"
   ]
  },
  {
   "cell_type": "markdown",
   "id": "491611f8",
   "metadata": {},
   "source": [
    "Metacharacters"
   ]
  },
  {
   "cell_type": "code",
   "execution_count": 32,
   "id": "e6c21a21",
   "metadata": {},
   "outputs": [
    {
     "name": "stdout",
     "output_type": "stream",
     "text": [
      "['A']\n",
      "['Y']\n"
     ]
    }
   ],
   "source": [
    "pattern=r\"^[A-Z]\"\n",
    "print(re.findall(pattern,\"Another one here\"))\n",
    "print(re.findall(pattern,\"Yet another .One here\"))"
   ]
  },
  {
   "cell_type": "code",
   "execution_count": 33,
   "id": "f83a6e37",
   "metadata": {},
   "outputs": [
    {
     "data": {
      "text/plain": [
       "[',', '%', ':', '-', '.', '$', ' ', '&']"
      ]
     },
     "execution_count": 33,
     "metadata": {},
     "output_type": "execute_result"
    }
   ],
   "source": [
    "pattern =r\"[^0-9a-zA-Z]\"\n",
    "long_example =\"Hi ,&&$%$:123-444.\"\n",
    "\n",
    "list(set(re.findall(pattern,long_example)))"
   ]
  },
  {
   "cell_type": "code",
   "execution_count": 35,
   "id": "ccb1d806",
   "metadata": {},
   "outputs": [
    {
     "data": {
      "text/plain": [
       "[':$', '$$']"
      ]
     },
     "execution_count": 35,
     "metadata": {},
     "output_type": "execute_result"
    }
   ],
   "source": [
    "pattern =r\"[^0-9a-zA-Z]\\$\"\n",
    "long_example=\"hey,call me to the number :$$$+1-555-555-5555  1-222-333-4444 +15555533322.\"\n",
    "\n",
    "\n",
    "re.findall(pattern,long_example)"
   ]
  },
  {
   "cell_type": "code",
   "execution_count": 38,
   "id": "611b8034",
   "metadata": {},
   "outputs": [],
   "source": [
    "pattern =\"(?:abc|123)\""
   ]
  },
  {
   "cell_type": "code",
   "execution_count": 45,
   "id": "da526996",
   "metadata": {},
   "outputs": [
    {
     "data": {
      "text/plain": [
       "['T',\n",
       " 'h',\n",
       " 'i',\n",
       " 's',\n",
       " 'i',\n",
       " 's',\n",
       " 'g',\n",
       " 'o',\n",
       " 'i',\n",
       " 'n',\n",
       " 'g',\n",
       " 't',\n",
       " 'o',\n",
       " 'w',\n",
       " 'o',\n",
       " 'r',\n",
       " 'k']"
      ]
     },
     "execution_count": 45,
     "metadata": {},
     "output_type": "execute_result"
    }
   ],
   "source": [
    "pattern=\"\\w\"\n",
    "example=\"This is going to work!\"\n",
    "\n",
    "re.findall(pattern,example)\n",
    "\n",
    "\n"
   ]
  },
  {
   "cell_type": "code",
   "execution_count": 49,
   "id": "e097a74b",
   "metadata": {},
   "outputs": [
    {
     "data": {
      "text/plain": [
       "['AAA', 'AA', 'ccc']"
      ]
     },
     "execution_count": 49,
     "metadata": {},
     "output_type": "execute_result"
    }
   ],
   "source": [
    "pattern=\"[ABc]+\"\n",
    "example=\"AAA AA bbb ccc\"\n",
    "\n",
    "re.findall(pattern,example)\n",
    "\n"
   ]
  },
  {
   "cell_type": "markdown",
   "id": "cca8419f",
   "metadata": {},
   "source": [
    "- `\\d`\n",
    "- `\\D` ->`[^0-9]`"
   ]
  },
  {
   "cell_type": "code",
   "execution_count": null,
   "id": "8a7ce7d8",
   "metadata": {},
   "outputs": [],
   "source": []
  }
 ],
 "metadata": {
  "kernelspec": {
   "display_name": "Python 3",
   "language": "python",
   "name": "python3"
  },
  "language_info": {
   "codemirror_mode": {
    "name": "ipython",
    "version": 3
   },
   "file_extension": ".py",
   "mimetype": "text/x-python",
   "name": "python",
   "nbconvert_exporter": "python",
   "pygments_lexer": "ipython3",
   "version": "3.7.3"
  }
 },
 "nbformat": 4,
 "nbformat_minor": 5
}
