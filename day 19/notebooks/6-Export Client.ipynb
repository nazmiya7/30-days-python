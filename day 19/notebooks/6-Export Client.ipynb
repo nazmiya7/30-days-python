{
 "cells": [
  {
   "cell_type": "code",
   "execution_count": 3,
   "id": "5181679b",
   "metadata": {},
   "outputs": [
    {
     "name": "stdout",
     "output_type": "stream",
     "text": [
      "[NbConvertApp] Converting notebook spotify_client.ipynb to python\n",
      "[NbConvertApp] Writing 4117 bytes to ../client/spotify_client.py\n"
     ]
    }
   ],
   "source": [
    "!jupyter nbconvert --output-dir='../client' --to python spotify_client.ipynb "
   ]
  },
  {
   "cell_type": "code",
   "execution_count": null,
   "id": "3f1dd2a6",
   "metadata": {},
   "outputs": [],
   "source": []
  }
 ],
 "metadata": {
  "kernelspec": {
   "display_name": "Python 3",
   "language": "python",
   "name": "python3"
  },
  "language_info": {
   "codemirror_mode": {
    "name": "ipython",
    "version": 3
   },
   "file_extension": ".py",
   "mimetype": "text/x-python",
   "name": "python",
   "nbconvert_exporter": "python",
   "pygments_lexer": "ipython3",
   "version": "3.7.3"
  }
 },
 "nbformat": 4,
 "nbformat_minor": 5
}
