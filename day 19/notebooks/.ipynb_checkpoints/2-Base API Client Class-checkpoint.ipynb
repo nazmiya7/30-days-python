{
 "cells": [
  {
   "cell_type": "code",
   "execution_count": 9,
   "id": "0d17f3b9",
   "metadata": {},
   "outputs": [
    {
     "name": "stdout",
     "output_type": "stream",
     "text": [
      "Requirement already satisfied: requests in /home/nazmiya/.local/share/virtualenvs/day_19-uVrtgRdB/lib/python3.7/site-packages (2.25.1)\r\n",
      "Requirement already satisfied: chardet<5,>=3.0.2 in /home/nazmiya/.local/share/virtualenvs/day_19-uVrtgRdB/lib/python3.7/site-packages (from requests) (4.0.0)\r\n",
      "Requirement already satisfied: urllib3<1.27,>=1.21.1 in /home/nazmiya/.local/share/virtualenvs/day_19-uVrtgRdB/lib/python3.7/site-packages (from requests) (1.26.5)\r\n",
      "Requirement already satisfied: idna<3,>=2.5 in /home/nazmiya/.local/share/virtualenvs/day_19-uVrtgRdB/lib/python3.7/site-packages (from requests) (2.10)\r\n",
      "Requirement already satisfied: certifi>=2017.4.17 in /home/nazmiya/.local/share/virtualenvs/day_19-uVrtgRdB/lib/python3.7/site-packages (from requests) (2021.5.30)\r\n"
     ]
    }
   ],
   "source": [
    "!pip install requests"
   ]
  },
  {
   "cell_type": "code",
   "execution_count": 34,
   "id": "389dba27",
   "metadata": {},
   "outputs": [],
   "source": [
    "import requests\n",
    "import datetime"
   ]
  },
  {
   "cell_type": "code",
   "execution_count": 35,
   "id": "2de9d7c4",
   "metadata": {},
   "outputs": [],
   "source": [
    "import base64"
   ]
  },
  {
   "cell_type": "code",
   "execution_count": 36,
   "id": "31292364",
   "metadata": {},
   "outputs": [],
   "source": [
    "client_id=''\n",
    "client_secret=''"
   ]
  },
  {
   "cell_type": "code",
   "execution_count": 37,
   "id": "8cd60069",
   "metadata": {},
   "outputs": [],
   "source": [
    "class SpotifyAPI(object):\n",
    "    access_token=None\n",
    "    access_token_expires=datetime.datetime.now()\n",
    "    client_id=None\n",
    "    client_secret=None\n",
    "    token_url=\"https://accounts.spotify.com/api/token\"\n",
    "    \n",
    "    def __init__(self,client_id,client_secret,*args,**kwargs):\n",
    "        super().__init__(*args,**kwargs)\n",
    "        self.client_id=client_id\n",
    "        self.client_secret=client_secret\n",
    "        \n",
    "    def get_client_credentials(self):\n",
    "        \"\"\"\n",
    "        Returns a base64 encoded string\n",
    "        \"\"\"\n",
    "        client_id=self.client_id\n",
    "        client_secret=self.client_secret\n",
    "        if client_secret==None or client_id ==None:\n",
    "            raise Exception(\"You must set client_id and client_secret\")\n",
    "        client_creds=f\"{client_id}:{client_secret}\"\n",
    "        client_creds_b64=base64.b64encode(client_creds.encode())    \n",
    "        return client_creds_b64.decode()\n",
    "    \n",
    "    def get_token_headers(self):\n",
    "        client_creds_b64=self.get_client_credentials()\n",
    "        return {\n",
    "          \"Authorization\":f\"basic{client_creds_b64}\"  \n",
    "        }\n",
    "    def get_token_data(self):\n",
    "        return {\n",
    "        \"grant_type\":\"client_credentials\"\n",
    "        }\n",
    "    def perform_auth(self):\n",
    "        token_url=self.token_url\n",
    "        token_data=self.get_token_data()\n",
    "        token_headers=self.get_token_headers()\n",
    "        r=requests.post(token_url,data=token_data,headers=token_headers)\n",
    "        if r.status_code not in range(200,299):\n",
    "            return False\n",
    "        data= r.json()\n",
    "        now= datetime.datetime.now()\n",
    "        access_token= data['access_token']\n",
    "        expires_in=data['expires_in']\n",
    "        expires=now + datatime.timedelta(seconds=expires_in)\n",
    "        self.access_token_expires=expires\n",
    "        self.access_token_did_expires=expires < now\n",
    "        return True"
   ]
  },
  {
   "cell_type": "code",
   "execution_count": 38,
   "id": "a14978a9",
   "metadata": {},
   "outputs": [],
   "source": [
    "spotify=SpotifyAPI(client_id,client_secret)"
   ]
  },
  {
   "cell_type": "code",
   "execution_count": 39,
   "id": "4ca5b512",
   "metadata": {},
   "outputs": [
    {
     "data": {
      "text/plain": [
       "False"
      ]
     },
     "execution_count": 39,
     "metadata": {},
     "output_type": "execute_result"
    }
   ],
   "source": [
    "spotify.perform_auth()"
   ]
  },
  {
   "cell_type": "code",
   "execution_count": 32,
   "id": "101a4192",
   "metadata": {},
   "outputs": [],
   "source": [
    "spotify.access_token"
   ]
  },
  {
   "cell_type": "code",
   "execution_count": null,
   "id": "f3ec9464",
   "metadata": {},
   "outputs": [],
   "source": []
  }
 ],
 "metadata": {
  "kernelspec": {
   "display_name": "Python 3",
   "language": "python",
   "name": "python3"
  },
  "language_info": {
   "codemirror_mode": {
    "name": "ipython",
    "version": 3
   },
   "file_extension": ".py",
   "mimetype": "text/x-python",
   "name": "python",
   "nbconvert_exporter": "python",
   "pygments_lexer": "ipython3",
   "version": "3.7.3"
  }
 },
 "nbformat": 4,
 "nbformat_minor": 5
}