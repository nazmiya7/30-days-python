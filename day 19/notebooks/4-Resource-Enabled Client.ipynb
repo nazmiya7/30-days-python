{
 "cells": [
  {
   "cell_type": "code",
   "execution_count": 12,
   "id": "0d17f3b9",
   "metadata": {},
   "outputs": [
    {
     "name": "stdout",
     "output_type": "stream",
     "text": [
      "Requirement already satisfied: requests in /home/nazmiya/.local/share/virtualenvs/day_19-uVrtgRdB/lib/python3.7/site-packages (2.25.1)\n",
      "Requirement already satisfied: certifi>=2017.4.17 in /home/nazmiya/.local/share/virtualenvs/day_19-uVrtgRdB/lib/python3.7/site-packages (from requests) (2021.5.30)\n",
      "Requirement already satisfied: chardet<5,>=3.0.2 in /home/nazmiya/.local/share/virtualenvs/day_19-uVrtgRdB/lib/python3.7/site-packages (from requests) (4.0.0)\n",
      "Requirement already satisfied: urllib3<1.27,>=1.21.1 in /home/nazmiya/.local/share/virtualenvs/day_19-uVrtgRdB/lib/python3.7/site-packages (from requests) (1.26.5)\n",
      "Requirement already satisfied: idna<3,>=2.5 in /home/nazmiya/.local/share/virtualenvs/day_19-uVrtgRdB/lib/python3.7/site-packages (from requests) (2.10)\n"
     ]
    }
   ],
   "source": [
    "!pip install requests"
   ]
  },
  {
   "cell_type": "code",
   "execution_count": 27,
   "id": "389dba27",
   "metadata": {},
   "outputs": [],
   "source": [
    "import requests\n",
    "import datetime\n",
    "from urllib.parse import urlencode\n",
    "import urllib.request"
   ]
  },
  {
   "cell_type": "code",
   "execution_count": 28,
   "id": "2de9d7c4",
   "metadata": {},
   "outputs": [],
   "source": [
    "import base64"
   ]
  },
  {
   "cell_type": "code",
   "execution_count": 29,
   "id": "31292364",
   "metadata": {},
   "outputs": [],
   "source": [
    "client_id=''\n",
    "client_secret=''"
   ]
  },
  {
   "cell_type": "code",
   "execution_count": 31,
   "id": "8cd60069",
   "metadata": {},
   "outputs": [
    {
     "ename": "SyntaxError",
     "evalue": "invalid syntax (<ipython-input-31-10393ce0017b>, line 86)",
     "output_type": "error",
     "traceback": [
      "\u001b[0;36m  File \u001b[0;32m\"<ipython-input-31-10393ce0017b>\"\u001b[0;36m, line \u001b[0;32m86\u001b[0m\n\u001b[0;31m    lookup_url= f\"{endpoint}?{data}\"\u001b[0m\n\u001b[0m             ^\u001b[0m\n\u001b[0;31mSyntaxError\u001b[0m\u001b[0;31m:\u001b[0m invalid syntax\n"
     ]
    }
   ],
   "source": [
    "class SpotifyAPI(object):\n",
    "    access_token=None\n",
    "    access_token_expires=datetime.datetime.now()\n",
    "    client_id=None\n",
    "    client_secret=None\n",
    "    token_url=\"https://accounts.spotify.com/api/token\"\n",
    "    \n",
    "    def __init__(self,client_id,client_secret,*args,**kwargs):\n",
    "        super().__init__(*args,**kwargs)\n",
    "        self.client_id=client_id\n",
    "        self.client_secret=client_secret\n",
    "        \n",
    "    def get_client_credentials(self):\n",
    "        \"\"\"\n",
    "        Returns a base64 encoded string\n",
    "        \"\"\"\n",
    "        client_id=self.client_id\n",
    "        client_secret=self.client_secret\n",
    "        if client_secret==None or client_id ==None:\n",
    "            raise Exception(\"You must set client_id and client_secret\")\n",
    "        client_creds=f\"{client_id}:{client_secret}\"\n",
    "        client_creds_b64=base64.b64encode(client_creds.encode())    \n",
    "        return client_creds_b64.decode()\n",
    "    \n",
    "    def get_token_headers(self):\n",
    "        client_creds_b64=self.get_client_credentials()\n",
    "        return {\n",
    "          \"Authorization\":f\"basic{client_creds_b64}\"  \n",
    "        }\n",
    "    def get_token_data(self):\n",
    "        return {\n",
    "        \"grant_type\":\"client_credentials\"\n",
    "        }\n",
    "    def perform_auth(self):\n",
    "        token_url=self.token_url\n",
    "        token_data=self.get_token_data()\n",
    "        token_headers=self.get_token_headers()\n",
    "        r=requests.post(token_url,data=token_data,headers=token_headers)\n",
    "        if r.status_code not in range(200,299):\n",
    "            raise Exception(\"Could not authenticate client.\")\n",
    "            #return False\n",
    "        data= r.json()\n",
    "        now= datetime.datetime.now()\n",
    "        access_token= data['access_token']\n",
    "        expires_in=data['expires_in']\n",
    "        expires=now + datatime.timedelta(seconds=expires_in)\n",
    "        self.access_token=access_token\n",
    "        self.access_token_expires=expires\n",
    "        self.access_token_did_expires=expires < now\n",
    "        return True\n",
    "    \n",
    "    def get_access_token(self):\n",
    "        token=self.access_token\n",
    "        expires=self.access_token_expires\n",
    "        now=datatime.datatime.now()\n",
    "        if expires < now:\n",
    "            self.perform_auth()\n",
    "            return self.get_access_token()\n",
    "        elif token == None:\n",
    "            self.perform_auth()\n",
    "            return self.get_access_token()\n",
    "        return token\n",
    "    def get_resource_header(self):\n",
    "        access_token=self.get_access_token()\n",
    "        headers ={\n",
    "            \"Authorization\":f\"Bearer {access_token}\"\n",
    "        }\n",
    "        return headers\n",
    "        \n",
    "    def get_resource(self,lookup_id,resource_type='albums',version='v1'):\n",
    "        endpoint=f\"https://api.spotify.com/{version}/{resource_type}/{lookup_id}\"\n",
    "        headers=self.get_resource_header()\n",
    "        r=requests.get(endpoint,headers=headers)\n",
    "        if r.status_code  not in range(200,299):\n",
    "            return {}\n",
    "        return r.json()\n",
    "    \n",
    "    def get_album(self,_id):\n",
    "        return self.get_resource(_id,resource_type='albums')\n",
    "    def get_artist(self,_id):\n",
    "        return self.get_resource(_id,resource_type='artists')\n",
    "    def search(self,query,search_type='artist'):\n",
    "        headers =self.get_resource_header()\n",
    "        endpoint=\"https://api.spotify.com/v1/search\"\n",
    "        data=urlencode({\"q\":query,\"type\":search_type.lower()}\n",
    "        lookup_url= f\"{endpoint}?{data}\"\n",
    "        r=requests.get(lookup_url,headers=headers)\n",
    "        if r.status_code not in range(200,299):\n",
    "            return {}\n",
    "        return r.json()               "
   ]
  },
  {
   "cell_type": "code",
   "execution_count": 32,
   "id": "a14978a9",
   "metadata": {},
   "outputs": [
    {
     "ename": "NameError",
     "evalue": "name 'SpotifyAPI' is not defined",
     "output_type": "error",
     "traceback": [
      "\u001b[0;31m---------------------------------------------------------------------------\u001b[0m",
      "\u001b[0;31mNameError\u001b[0m                                 Traceback (most recent call last)",
      "\u001b[0;32m<ipython-input-32-de0223561c7a>\u001b[0m in \u001b[0;36m<module>\u001b[0;34m\u001b[0m\n\u001b[0;32m----> 1\u001b[0;31m \u001b[0mspotify\u001b[0m\u001b[0;34m=\u001b[0m\u001b[0mSpotifyAPI\u001b[0m\u001b[0;34m(\u001b[0m\u001b[0mclient_id\u001b[0m\u001b[0;34m,\u001b[0m\u001b[0mclient_secret\u001b[0m\u001b[0;34m)\u001b[0m\u001b[0;34m\u001b[0m\u001b[0;34m\u001b[0m\u001b[0m\n\u001b[0m",
      "\u001b[0;31mNameError\u001b[0m: name 'SpotifyAPI' is not defined"
     ]
    }
   ],
   "source": [
    "spotify=SpotifyAPI(client_id,client_secret)"
   ]
  },
  {
   "cell_type": "code",
   "execution_count": 33,
   "id": "4ca5b512",
   "metadata": {},
   "outputs": [
    {
     "ename": "NameError",
     "evalue": "name 'spotify' is not defined",
     "output_type": "error",
     "traceback": [
      "\u001b[0;31m---------------------------------------------------------------------------\u001b[0m",
      "\u001b[0;31mNameError\u001b[0m                                 Traceback (most recent call last)",
      "\u001b[0;32m<ipython-input-33-3db72531e623>\u001b[0m in \u001b[0;36m<module>\u001b[0;34m\u001b[0m\n\u001b[0;32m----> 1\u001b[0;31m \u001b[0mspotify\u001b[0m\u001b[0;34m.\u001b[0m\u001b[0msearch\u001b[0m\u001b[0;34m(\u001b[0m\u001b[0;34m\"Time\"\u001b[0m\u001b[0;34m,\u001b[0m\u001b[0msearch_type\u001b[0m\u001b[0;34m=\u001b[0m\u001b[0;34m\"Track\"\u001b[0m\u001b[0;34m)\u001b[0m\u001b[0;34m\u001b[0m\u001b[0;34m\u001b[0m\u001b[0m\n\u001b[0m",
      "\u001b[0;31mNameError\u001b[0m: name 'spotify' is not defined"
     ]
    }
   ],
   "source": [
    "spotify.search(\"Time\",search_type=\"Track\")"
   ]
  },
  {
   "cell_type": "code",
   "execution_count": null,
   "id": "788b1abb",
   "metadata": {},
   "outputs": [],
   "source": [
    "spotify.get_artist(\"  s\")"
   ]
  }
 ],
 "metadata": {
  "kernelspec": {
   "display_name": "Python 3",
   "language": "python",
   "name": "python3"
  },
  "language_info": {
   "codemirror_mode": {
    "name": "ipython",
    "version": 3
   },
   "file_extension": ".py",
   "mimetype": "text/x-python",
   "name": "python",
   "nbconvert_exporter": "python",
   "pygments_lexer": "ipython3",
   "version": "3.7.3"
  }
 },
 "nbformat": 4,
 "nbformat_minor": 5
}
