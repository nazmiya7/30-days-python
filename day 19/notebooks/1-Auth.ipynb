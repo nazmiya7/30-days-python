{
 "cells": [
  {
   "cell_type": "code",
   "execution_count": 3,
   "id": "0d17f3b9",
   "metadata": {},
   "outputs": [
    {
     "name": "stdout",
     "output_type": "stream",
     "text": [
      "Requirement already satisfied: requests in /home/nazmiya/.local/share/virtualenvs/day_19-uVrtgRdB/lib/python3.7/site-packages (2.25.1)\n",
      "Requirement already satisfied: idna<3,>=2.5 in /home/nazmiya/.local/share/virtualenvs/day_19-uVrtgRdB/lib/python3.7/site-packages (from requests) (2.10)\n",
      "Requirement already satisfied: urllib3<1.27,>=1.21.1 in /home/nazmiya/.local/share/virtualenvs/day_19-uVrtgRdB/lib/python3.7/site-packages (from requests) (1.26.5)\n",
      "Requirement already satisfied: chardet<5,>=3.0.2 in /home/nazmiya/.local/share/virtualenvs/day_19-uVrtgRdB/lib/python3.7/site-packages (from requests) (4.0.0)\n",
      "Requirement already satisfied: certifi>=2017.4.17 in /home/nazmiya/.local/share/virtualenvs/day_19-uVrtgRdB/lib/python3.7/site-packages (from requests) (2021.5.30)\n"
     ]
    }
   ],
   "source": [
    "!pip install requests"
   ]
  },
  {
   "cell_type": "code",
   "execution_count": 4,
   "id": "389dba27",
   "metadata": {},
   "outputs": [],
   "source": [
    "import requests\n",
    "import datetime"
   ]
  },
  {
   "cell_type": "code",
   "execution_count": 5,
   "id": "2de9d7c4",
   "metadata": {},
   "outputs": [],
   "source": [
    "import base64"
   ]
  },
  {
   "cell_type": "code",
   "execution_count": 6,
   "id": "31292364",
   "metadata": {},
   "outputs": [],
   "source": [
    "client_id=''\n",
    "client_secret=''"
   ]
  },
  {
   "cell_type": "code",
   "execution_count": 7,
   "id": "8cd60069",
   "metadata": {},
   "outputs": [],
   "source": [
    "#lookup for "
   ]
  },
  {
   "cell_type": "code",
   "execution_count": 8,
   "id": "56e90b69",
   "metadata": {},
   "outputs": [
    {
     "data": {
      "text/plain": [
       "str"
      ]
     },
     "execution_count": 8,
     "metadata": {},
     "output_type": "execute_result"
    }
   ],
   "source": [
    "client_creds=f\"{client_id}:{client_secret}\"\n",
    "type(client_creds)    "
   ]
  },
  {
   "cell_type": "code",
   "execution_count": 9,
   "id": "60530d35",
   "metadata": {},
   "outputs": [
    {
     "data": {
      "text/plain": [
       "bytes"
      ]
     },
     "execution_count": 9,
     "metadata": {},
     "output_type": "execute_result"
    }
   ],
   "source": [
    "client_creds_b64=base64.b64encode(client_creds.encode())\n",
    "type(client_creds_b64)"
   ]
  },
  {
   "cell_type": "code",
   "execution_count": 10,
   "id": "9aeb4e41",
   "metadata": {},
   "outputs": [],
   "source": [
    "token_url=\"https://accounts.spotify.com/api/token\"\n",
    "method=\"POST\"\n",
    "token_data={\n",
    "    \"grant_type\":\"client_credentials\"\n",
    "}\n",
    "token_headers={\n",
    "    \"Authorization\":f\"basic{client_creds_b64.decode()}\"  #<base64 encoded client_id:client_secret>\n",
    "}"
   ]
  },
  {
   "cell_type": "code",
   "execution_count": 11,
   "id": "a1a9ebc7",
   "metadata": {},
   "outputs": [
    {
     "name": "stdout",
     "output_type": "stream",
     "text": [
      "{'error': 'invalid_client'}\n"
     ]
    }
   ],
   "source": [
    "r=requests.post(token_url,data=token_data,headers=token_headers)\n",
    "print(r.json())\n",
    "valid_request=r.status_code in range (200,299)\n"
   ]
  },
  {
   "cell_type": "code",
   "execution_count": 12,
   "id": "7f0d16b3",
   "metadata": {},
   "outputs": [],
   "source": [
    "if valid_request:\n",
    "    token_response_data=r.json()\n",
    "    now=datetime.datetime.now()\n",
    "    access_token=token_response_data['access_token']\n",
    "    expires=token_response_data['expires_in']\n",
    "    expires=now +datatime.timedelta(seconds=expires_in)\n",
    "    did_expire=expire< now\n"
   ]
  },
  {
   "cell_type": "code",
   "execution_count": null,
   "id": "ae7a30cf",
   "metadata": {},
   "outputs": [],
   "source": []
  }
 ],
 "metadata": {
  "kernelspec": {
   "display_name": "Python 3",
   "language": "python",
   "name": "python3"
  },
  "language_info": {
   "codemirror_mode": {
    "name": "ipython",
    "version": 3
   },
   "file_extension": ".py",
   "mimetype": "text/x-python",
   "name": "python",
   "nbconvert_exporter": "python",
   "pygments_lexer": "ipython3",
   "version": "3.7.3"
  }
 },
 "nbformat": 4,
 "nbformat_minor": 5
}
