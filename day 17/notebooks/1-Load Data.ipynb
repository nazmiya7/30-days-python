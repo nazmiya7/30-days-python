{
 "cells": [
  {
   "cell_type": "code",
   "execution_count": 5,
   "id": "6b7b7881",
   "metadata": {},
   "outputs": [
    {
     "name": "stdout",
     "output_type": "stream",
     "text": [
      "Requirement already satisfied: pandas in /home/nazmiya/.local/share/virtualenvs/day_17-mSMS3vtH/lib/python3.7/site-packages (1.2.4)\n",
      "Requirement already satisfied: python-dateutil>=2.7.3 in /home/nazmiya/.local/share/virtualenvs/day_17-mSMS3vtH/lib/python3.7/site-packages (from pandas) (2.8.1)\n",
      "Requirement already satisfied: pytz>=2017.3 in /home/nazmiya/.local/share/virtualenvs/day_17-mSMS3vtH/lib/python3.7/site-packages (from pandas) (2021.1)\n",
      "Requirement already satisfied: numpy>=1.16.5 in /home/nazmiya/.local/share/virtualenvs/day_17-mSMS3vtH/lib/python3.7/site-packages (from pandas) (1.20.3)\n",
      "Requirement already satisfied: six>=1.5 in /home/nazmiya/.local/share/virtualenvs/day_17-mSMS3vtH/lib/python3.7/site-packages (from python-dateutil>=2.7.3->pandas) (1.16.0)\n"
     ]
    }
   ],
   "source": [
    "!pip install pandas"
   ]
  },
  {
   "cell_type": "code",
   "execution_count": 6,
   "id": "5f502b1e",
   "metadata": {},
   "outputs": [],
   "source": [
    "import os\n",
    "import pandas as pd"
   ]
  },
  {
   "cell_type": "code",
   "execution_count": 7,
   "id": "3c1ad56b",
   "metadata": {},
   "outputs": [],
   "source": [
    "cwd=os.getcwd() # dirname(abspath(__file__))\n",
    "BASE_DIR=os.path.dirname(cwd)\n",
    "DATA_DIR=os.path.join(BASE_DIR,'data')"
   ]
  },
  {
   "cell_type": "code",
   "execution_count": 9,
   "id": "97e1764e",
   "metadata": {},
   "outputs": [
    {
     "data": {
      "text/plain": [
       "['2012.csv',\n",
       " '2001.csv',\n",
       " '2002.csv',\n",
       " '2000.csv',\n",
       " '2013.csv',\n",
       " '2003.csv',\n",
       " '2018.csv',\n",
       " '2004.csv',\n",
       " '2015.csv',\n",
       " '2021.csv',\n",
       " '2016.csv',\n",
       " '2020.csv',\n",
       " '2014.csv',\n",
       " '2019.csv',\n",
       " '2005.csv',\n",
       " '2011.csv',\n",
       " '2017.csv']"
      ]
     },
     "execution_count": 9,
     "metadata": {},
     "output_type": "execute_result"
    }
   ],
   "source": [
    "os.listdir(DATA_DIR)"
   ]
  },
  {
   "cell_type": "code",
   "execution_count": 8,
   "id": "6a5b2456",
   "metadata": {},
   "outputs": [],
   "source": [
    "my_items=[{\"category\":\"Action\",\"title\":\"my awesome movie\"},{\"category\":\"comedy\",\"title\":\"Data Jokes Us\"}]\n",
    "df =pd.DataFrame(my_items)"
   ]
  },
  {
   "cell_type": "code",
   "execution_count": 10,
   "id": "5cc62e9b",
   "metadata": {},
   "outputs": [
    {
     "data": {
      "text/html": [
       "<div>\n",
       "<style scoped>\n",
       "    .dataframe tbody tr th:only-of-type {\n",
       "        vertical-align: middle;\n",
       "    }\n",
       "\n",
       "    .dataframe tbody tr th {\n",
       "        vertical-align: top;\n",
       "    }\n",
       "\n",
       "    .dataframe thead th {\n",
       "        text-align: right;\n",
       "    }\n",
       "</style>\n",
       "<table border=\"1\" class=\"dataframe\">\n",
       "  <thead>\n",
       "    <tr style=\"text-align: right;\">\n",
       "      <th></th>\n",
       "      <th>category</th>\n",
       "      <th>title</th>\n",
       "    </tr>\n",
       "  </thead>\n",
       "  <tbody>\n",
       "    <tr>\n",
       "      <th>0</th>\n",
       "      <td>Action</td>\n",
       "      <td>my awesome movie</td>\n",
       "    </tr>\n",
       "    <tr>\n",
       "      <th>1</th>\n",
       "      <td>comedy</td>\n",
       "      <td>Data Jokes Us</td>\n",
       "    </tr>\n",
       "  </tbody>\n",
       "</table>\n",
       "</div>"
      ],
      "text/plain": [
       "  category             title\n",
       "0   Action  my awesome movie\n",
       "1   comedy     Data Jokes Us"
      ]
     },
     "execution_count": 10,
     "metadata": {},
     "output_type": "execute_result"
    }
   ],
   "source": [
    "df.head()"
   ]
  },
  {
   "cell_type": "code",
   "execution_count": 11,
   "id": "123f7387",
   "metadata": {},
   "outputs": [
    {
     "data": {
      "text/plain": [
       "0    Action\n",
       "1    comedy\n",
       "Name: category, dtype: object"
      ]
     },
     "execution_count": 11,
     "metadata": {},
     "output_type": "execute_result"
    }
   ],
   "source": [
    "df['category']"
   ]
  },
  {
   "cell_type": "code",
   "execution_count": 13,
   "id": "94f572a7",
   "metadata": {},
   "outputs": [
    {
     "data": {
      "text/plain": [
       "0    my awesome movie\n",
       "1       Data Jokes Us\n",
       "Name: title, dtype: object"
      ]
     },
     "execution_count": 13,
     "metadata": {},
     "output_type": "execute_result"
    }
   ],
   "source": [
    "df['title']"
   ]
  },
  {
   "cell_type": "code",
   "execution_count": 14,
   "id": "a5b044c6",
   "metadata": {},
   "outputs": [
    {
     "data": {
      "text/plain": [
       "category              Action\n",
       "title       my awesome movie\n",
       "Name: 0, dtype: object"
      ]
     },
     "execution_count": 14,
     "metadata": {},
     "output_type": "execute_result"
    }
   ],
   "source": [
    "df.iloc[0]"
   ]
  },
  {
   "cell_type": "code",
   "execution_count": 15,
   "id": "8b26aa04",
   "metadata": {},
   "outputs": [
    {
     "data": {
      "text/plain": [
       "category           comedy\n",
       "title       Data Jokes Us\n",
       "Name: 1, dtype: object"
      ]
     },
     "execution_count": 15,
     "metadata": {},
     "output_type": "execute_result"
    }
   ],
   "source": [
    "df.iloc[1]"
   ]
  },
  {
   "cell_type": "code",
   "execution_count": 17,
   "id": "93fa49f9",
   "metadata": {},
   "outputs": [
    {
     "name": "stdout",
     "output_type": "stream",
     "text": [
      "True\n"
     ]
    }
   ],
   "source": [
    "my_data=os.path.join(DATA_DIR,'2019.csv')\n",
    "print(os.path.exists(my_data))"
   ]
  },
  {
   "cell_type": "code",
   "execution_count": 18,
   "id": "e064c292",
   "metadata": {},
   "outputs": [],
   "source": [
    "df2=pd.read_csv(my_data) #"
   ]
  },
  {
   "cell_type": "code",
   "execution_count": 19,
   "id": "fb1ca2b8",
   "metadata": {},
   "outputs": [
    {
     "data": {
      "text/html": [
       "<div>\n",
       "<style scoped>\n",
       "    .dataframe tbody tr th:only-of-type {\n",
       "        vertical-align: middle;\n",
       "    }\n",
       "\n",
       "    .dataframe tbody tr th {\n",
       "        vertical-align: top;\n",
       "    }\n",
       "\n",
       "    .dataframe thead th {\n",
       "        text-align: right;\n",
       "    }\n",
       "</style>\n",
       "<table border=\"1\" class=\"dataframe\">\n",
       "  <thead>\n",
       "    <tr style=\"text-align: right;\">\n",
       "      <th></th>\n",
       "      <th>Rank</th>\n",
       "      <th>Release Group</th>\n",
       "      <th>Worldwide</th>\n",
       "      <th>Domestic</th>\n",
       "      <th>%</th>\n",
       "      <th>Foreign</th>\n",
       "      <th>%.1</th>\n",
       "    </tr>\n",
       "  </thead>\n",
       "  <tbody>\n",
       "    <tr>\n",
       "      <th>0</th>\n",
       "      <td>1</td>\n",
       "      <td>Avengers: Endgame</td>\n",
       "      <td>$2,797,501,328</td>\n",
       "      <td>$858,373,000</td>\n",
       "      <td>30.7%</td>\n",
       "      <td>$1,939,128,328</td>\n",
       "      <td>69.3%</td>\n",
       "    </tr>\n",
       "    <tr>\n",
       "      <th>1</th>\n",
       "      <td>2</td>\n",
       "      <td>The Lion King</td>\n",
       "      <td>$1,656,943,394</td>\n",
       "      <td>$543,638,043</td>\n",
       "      <td>32.8%</td>\n",
       "      <td>$1,113,305,351</td>\n",
       "      <td>67.2%</td>\n",
       "    </tr>\n",
       "    <tr>\n",
       "      <th>2</th>\n",
       "      <td>3</td>\n",
       "      <td>Frozen II</td>\n",
       "      <td>$1,450,026,933</td>\n",
       "      <td>$477,373,578</td>\n",
       "      <td>32.9%</td>\n",
       "      <td>$972,653,355</td>\n",
       "      <td>67.1%</td>\n",
       "    </tr>\n",
       "    <tr>\n",
       "      <th>3</th>\n",
       "      <td>4</td>\n",
       "      <td>Spider-Man: Far from Home</td>\n",
       "      <td>$1,131,927,996</td>\n",
       "      <td>$390,532,085</td>\n",
       "      <td>34.5%</td>\n",
       "      <td>$741,395,911</td>\n",
       "      <td>65.5%</td>\n",
       "    </tr>\n",
       "    <tr>\n",
       "      <th>4</th>\n",
       "      <td>5</td>\n",
       "      <td>Captain Marvel</td>\n",
       "      <td>$1,128,274,794</td>\n",
       "      <td>$426,829,839</td>\n",
       "      <td>37.8%</td>\n",
       "      <td>$701,444,955</td>\n",
       "      <td>62.2%</td>\n",
       "    </tr>\n",
       "    <tr>\n",
       "      <th>5</th>\n",
       "      <td>6</td>\n",
       "      <td>Joker</td>\n",
       "      <td>$1,074,251,311</td>\n",
       "      <td>$335,451,311</td>\n",
       "      <td>31.2%</td>\n",
       "      <td>$738,800,000</td>\n",
       "      <td>68.8%</td>\n",
       "    </tr>\n",
       "    <tr>\n",
       "      <th>6</th>\n",
       "      <td>7</td>\n",
       "      <td>Star Wars: Episode IX - The Rise of Skywalker</td>\n",
       "      <td>$1,074,144,248</td>\n",
       "      <td>$515,202,542</td>\n",
       "      <td>48%</td>\n",
       "      <td>$558,941,706</td>\n",
       "      <td>52%</td>\n",
       "    </tr>\n",
       "    <tr>\n",
       "      <th>7</th>\n",
       "      <td>8</td>\n",
       "      <td>Toy Story 4</td>\n",
       "      <td>$1,073,394,593</td>\n",
       "      <td>$434,038,008</td>\n",
       "      <td>40.4%</td>\n",
       "      <td>$639,356,585</td>\n",
       "      <td>59.6%</td>\n",
       "    </tr>\n",
       "    <tr>\n",
       "      <th>8</th>\n",
       "      <td>9</td>\n",
       "      <td>Aladdin</td>\n",
       "      <td>$1,050,693,953</td>\n",
       "      <td>$355,559,216</td>\n",
       "      <td>33.8%</td>\n",
       "      <td>$695,134,737</td>\n",
       "      <td>66.2%</td>\n",
       "    </tr>\n",
       "    <tr>\n",
       "      <th>9</th>\n",
       "      <td>10</td>\n",
       "      <td>Jumanji: The Next Level</td>\n",
       "      <td>$800,059,707</td>\n",
       "      <td>$320,314,960</td>\n",
       "      <td>40%</td>\n",
       "      <td>$479,744,747</td>\n",
       "      <td>60%</td>\n",
       "    </tr>\n",
       "  </tbody>\n",
       "</table>\n",
       "</div>"
      ],
      "text/plain": [
       "   Rank                                  Release Group       Worldwide  \\\n",
       "0     1                              Avengers: Endgame  $2,797,501,328   \n",
       "1     2                                  The Lion King  $1,656,943,394   \n",
       "2     3                                      Frozen II  $1,450,026,933   \n",
       "3     4                      Spider-Man: Far from Home  $1,131,927,996   \n",
       "4     5                                 Captain Marvel  $1,128,274,794   \n",
       "5     6                                          Joker  $1,074,251,311   \n",
       "6     7  Star Wars: Episode IX - The Rise of Skywalker  $1,074,144,248   \n",
       "7     8                                    Toy Story 4  $1,073,394,593   \n",
       "8     9                                        Aladdin  $1,050,693,953   \n",
       "9    10                        Jumanji: The Next Level    $800,059,707   \n",
       "\n",
       "       Domestic      %         Foreign    %.1  \n",
       "0  $858,373,000  30.7%  $1,939,128,328  69.3%  \n",
       "1  $543,638,043  32.8%  $1,113,305,351  67.2%  \n",
       "2  $477,373,578  32.9%    $972,653,355  67.1%  \n",
       "3  $390,532,085  34.5%    $741,395,911  65.5%  \n",
       "4  $426,829,839  37.8%    $701,444,955  62.2%  \n",
       "5  $335,451,311  31.2%    $738,800,000  68.8%  \n",
       "6  $515,202,542    48%    $558,941,706    52%  \n",
       "7  $434,038,008  40.4%    $639,356,585  59.6%  \n",
       "8  $355,559,216  33.8%    $695,134,737  66.2%  \n",
       "9  $320,314,960    40%    $479,744,747    60%  "
      ]
     },
     "execution_count": 19,
     "metadata": {},
     "output_type": "execute_result"
    }
   ],
   "source": [
    "df2.head(n=10)"
   ]
  },
  {
   "cell_type": "code",
   "execution_count": 20,
   "id": "5a7b79c7",
   "metadata": {},
   "outputs": [
    {
     "data": {
      "text/html": [
       "<div>\n",
       "<style scoped>\n",
       "    .dataframe tbody tr th:only-of-type {\n",
       "        vertical-align: middle;\n",
       "    }\n",
       "\n",
       "    .dataframe tbody tr th {\n",
       "        vertical-align: top;\n",
       "    }\n",
       "\n",
       "    .dataframe thead th {\n",
       "        text-align: right;\n",
       "    }\n",
       "</style>\n",
       "<table border=\"1\" class=\"dataframe\">\n",
       "  <thead>\n",
       "    <tr style=\"text-align: right;\">\n",
       "      <th></th>\n",
       "      <th>Rank</th>\n",
       "      <th>Release Group</th>\n",
       "      <th>Worldwide</th>\n",
       "      <th>Domestic</th>\n",
       "      <th>%</th>\n",
       "      <th>Foreign</th>\n",
       "      <th>%.1</th>\n",
       "    </tr>\n",
       "  </thead>\n",
       "  <tbody>\n",
       "    <tr>\n",
       "      <th>190</th>\n",
       "      <td>191</td>\n",
       "      <td>Integrity</td>\n",
       "      <td>$21,290,004</td>\n",
       "      <td>-</td>\n",
       "      <td>-</td>\n",
       "      <td>$21,290,004</td>\n",
       "      <td>100%</td>\n",
       "    </tr>\n",
       "    <tr>\n",
       "      <th>191</th>\n",
       "      <td>192</td>\n",
       "      <td>The Secret Mission</td>\n",
       "      <td>$21,083,522</td>\n",
       "      <td>-</td>\n",
       "      <td>-</td>\n",
       "      <td>$21,083,522</td>\n",
       "      <td>100%</td>\n",
       "    </tr>\n",
       "    <tr>\n",
       "      <th>192</th>\n",
       "      <td>193</td>\n",
       "      <td>This Is Tomas</td>\n",
       "      <td>$20,084,169</td>\n",
       "      <td>-</td>\n",
       "      <td>-</td>\n",
       "      <td>$20,084,169</td>\n",
       "      <td>100%</td>\n",
       "    </tr>\n",
       "    <tr>\n",
       "      <th>193</th>\n",
       "      <td>194</td>\n",
       "      <td>The Specials</td>\n",
       "      <td>$19,363,826</td>\n",
       "      <td>-</td>\n",
       "      <td>-</td>\n",
       "      <td>$19,363,826</td>\n",
       "      <td>100%</td>\n",
       "    </tr>\n",
       "    <tr>\n",
       "      <th>194</th>\n",
       "      <td>195</td>\n",
       "      <td>Always Miss You</td>\n",
       "      <td>$19,015,465</td>\n",
       "      <td>$91,884</td>\n",
       "      <td>0.5%</td>\n",
       "      <td>$18,923,581</td>\n",
       "      <td>99.5%</td>\n",
       "    </tr>\n",
       "    <tr>\n",
       "      <th>195</th>\n",
       "      <td>196</td>\n",
       "      <td>An Officer and a Spy</td>\n",
       "      <td>$18,878,658</td>\n",
       "      <td>-</td>\n",
       "      <td>-</td>\n",
       "      <td>$18,878,658</td>\n",
       "      <td>100%</td>\n",
       "    </tr>\n",
       "    <tr>\n",
       "      <th>196</th>\n",
       "      <td>197</td>\n",
       "      <td>Crayon Shin-chan: Honeymoon Hurricane - The Lo...</td>\n",
       "      <td>$18,738,951</td>\n",
       "      <td>-</td>\n",
       "      <td>-</td>\n",
       "      <td>$18,738,951</td>\n",
       "      <td>100%</td>\n",
       "    </tr>\n",
       "    <tr>\n",
       "      <th>197</th>\n",
       "      <td>198</td>\n",
       "      <td>Greta</td>\n",
       "      <td>$18,653,107</td>\n",
       "      <td>$10,532,219</td>\n",
       "      <td>56.5%</td>\n",
       "      <td>$8,120,888</td>\n",
       "      <td>43.5%</td>\n",
       "    </tr>\n",
       "    <tr>\n",
       "      <th>198</th>\n",
       "      <td>199</td>\n",
       "      <td>Peppa Celebrates Chinese New Year</td>\n",
       "      <td>$18,653,040</td>\n",
       "      <td>$131,225</td>\n",
       "      <td>0.7%</td>\n",
       "      <td>$18,521,815</td>\n",
       "      <td>99.3%</td>\n",
       "    </tr>\n",
       "    <tr>\n",
       "      <th>199</th>\n",
       "      <td>200</td>\n",
       "      <td>Black Christmas</td>\n",
       "      <td>$18,529,730</td>\n",
       "      <td>$10,429,730</td>\n",
       "      <td>56.3%</td>\n",
       "      <td>$8,100,000</td>\n",
       "      <td>43.7%</td>\n",
       "    </tr>\n",
       "  </tbody>\n",
       "</table>\n",
       "</div>"
      ],
      "text/plain": [
       "     Rank                                      Release Group    Worldwide  \\\n",
       "190   191                                          Integrity  $21,290,004   \n",
       "191   192                                 The Secret Mission  $21,083,522   \n",
       "192   193                                      This Is Tomas  $20,084,169   \n",
       "193   194                                       The Specials  $19,363,826   \n",
       "194   195                                    Always Miss You  $19,015,465   \n",
       "195   196                               An Officer and a Spy  $18,878,658   \n",
       "196   197  Crayon Shin-chan: Honeymoon Hurricane - The Lo...  $18,738,951   \n",
       "197   198                                              Greta  $18,653,107   \n",
       "198   199                  Peppa Celebrates Chinese New Year  $18,653,040   \n",
       "199   200                                    Black Christmas  $18,529,730   \n",
       "\n",
       "        Domestic      %      Foreign    %.1  \n",
       "190            -      -  $21,290,004   100%  \n",
       "191            -      -  $21,083,522   100%  \n",
       "192            -      -  $20,084,169   100%  \n",
       "193            -      -  $19,363,826   100%  \n",
       "194      $91,884   0.5%  $18,923,581  99.5%  \n",
       "195            -      -  $18,878,658   100%  \n",
       "196            -      -  $18,738,951   100%  \n",
       "197  $10,532,219  56.5%   $8,120,888  43.5%  \n",
       "198     $131,225   0.7%  $18,521,815  99.3%  \n",
       "199  $10,429,730  56.3%   $8,100,000  43.7%  "
      ]
     },
     "execution_count": 20,
     "metadata": {},
     "output_type": "execute_result"
    }
   ],
   "source": [
    "df2.tail(n=10)"
   ]
  },
  {
   "cell_type": "code",
   "execution_count": null,
   "id": "1b5a66b1",
   "metadata": {},
   "outputs": [],
   "source": []
  }
 ],
 "metadata": {
  "kernelspec": {
   "display_name": "Python 3",
   "language": "python",
   "name": "python3"
  },
  "language_info": {
   "codemirror_mode": {
    "name": "ipython",
    "version": 3
   },
   "file_extension": ".py",
   "mimetype": "text/x-python",
   "name": "python",
   "nbconvert_exporter": "python",
   "pygments_lexer": "ipython3",
   "version": "3.7.3"
  }
 },
 "nbformat": 4,
 "nbformat_minor": 5
}
