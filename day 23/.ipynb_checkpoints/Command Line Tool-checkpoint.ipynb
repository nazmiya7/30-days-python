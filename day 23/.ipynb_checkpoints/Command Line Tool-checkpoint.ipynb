{
 "cells": [
  {
   "cell_type": "code",
   "execution_count": 1,
   "id": "138eb189",
   "metadata": {},
   "outputs": [
    {
     "name": "stdout",
     "output_type": "stream",
     "text": [
      "what's tour name?\n",
      "\n",
      "what's tour name?\n",
      "\n",
      "what's tour name?\n",
      "nazmi\n"
     ]
    }
   ],
   "source": [
    "tries=0\n",
    "while True:\n",
    "    name=input(\"what's tour name?\\n\")\n",
    "    if name !=None and name !=\"\":\n",
    "        break\n",
    "    else:\n",
    "        tries+=1\n",
    "    if tries>10:\n",
    "        break\n",
    "    else:\n",
    "        continue"
   ]
  },
  {
   "cell_type": "code",
   "execution_count": 2,
   "id": "5ce0343b",
   "metadata": {},
   "outputs": [
    {
     "name": "stdout",
     "output_type": "stream",
     "text": [
      "hello nazmi\n"
     ]
    }
   ],
   "source": [
    "print(\"hello\",name)"
   ]
  },
  {
   "cell_type": "code",
   "execution_count": 3,
   "id": "160dfc5f",
   "metadata": {},
   "outputs": [
    {
     "name": "stdout",
     "output_type": "stream",
     "text": [
      "what's your password?\n",
      "········\n"
     ]
    }
   ],
   "source": [
    "from getpass import getpass\n",
    "pw=getpass(\"what's your password?\\n\")"
   ]
  },
  {
   "cell_type": "code",
   "execution_count": 4,
   "id": "08a06898",
   "metadata": {},
   "outputs": [
    {
     "name": "stdout",
     "output_type": "stream",
     "text": [
      "123\n"
     ]
    }
   ],
   "source": [
    "print(pw)"
   ]
  },
  {
   "cell_type": "code",
   "execution_count": 8,
   "id": "4ce6a7f1",
   "metadata": {},
   "outputs": [
    {
     "name": "stdout",
     "output_type": "stream",
     "text": [
      "Overwriting raw_input.py\n"
     ]
    }
   ],
   "source": [
    "%%writefile raw_input.py\n",
    "from getpass import getpass\n",
    "name=input(\"what's your name?\\n\")\n",
    "pw=(\"what's your password?\\n\")\n",
    "\n",
    "print(name,pw)\n"
   ]
  },
  {
   "cell_type": "code",
   "execution_count": 13,
   "id": "be4414c2",
   "metadata": {},
   "outputs": [
    {
     "name": "stdout",
     "output_type": "stream",
     "text": [
      "Overwriting cli_sys.py\n"
     ]
    }
   ],
   "source": [
    "%%writefile cli_sys.py\n",
    "import sys\n",
    "\n",
    "if __name__ == \"__main__\":\n",
    "    try:\n",
    "        name=sys,argv[1]\n",
    "    except:\n",
    "        name=input(\"what's your name?\\n\")\n",
    "    from getpass import getpass\n",
    "    pw=(\"what's your password?\\n\")\n",
    "    print(name,pw)\n",
    "    "
   ]
  },
  {
   "cell_type": "code",
   "execution_count": 21,
   "id": "0a225e33",
   "metadata": {},
   "outputs": [
    {
     "name": "stdout",
     "output_type": "stream",
     "text": [
      "Overwriting cli_argparse.py\n"
     ]
    }
   ],
   "source": [
    "%%writefile cli_argparse.py\n",
    "import argparse\n",
    "\n",
    "def my_const_fun(*args,**kwargs):\n",
    "    print('consta',args,kwargs)\n",
    "def my_default_fun(*args,**kwargs):\n",
    "    print('default',args,kwargs)    \n",
    "\n",
    "if __name__ == \"__main__\":\n",
    "    parser=argparse.ArgumentParser()\n",
    "    parser.add_argument(\"integers\",type=int,nargs=\"+\")\n",
    "    parser.add_argument(\"--sum\",dest='accumulate',action='store_const',const=sum,default=max) \n",
    "    parser.add_argument(\"--math\",dest='math_is_fun',action='store_const',const=my_const_fun,default=my_default_fun) \n",
    "    args=parser.parse_args()\n",
    "    print(args.accumulate(args.integers))\n",
    "    #print(args.math_is_fun(args.integers))"
   ]
  },
  {
   "cell_type": "code",
   "execution_count": 22,
   "id": "a630588b",
   "metadata": {},
   "outputs": [
    {
     "name": "stdout",
     "output_type": "stream",
     "text": [
      "Collecting fire\n",
      "  Downloading fire-0.4.0.tar.gz (87 kB)\n",
      "\u001b[K     |████████████████████████████████| 87 kB 2.7 MB/s eta 0:00:01\n",
      "\u001b[?25hRequirement already satisfied: six in /home/nazmiya/.local/share/virtualenvs/day_23-5RZpnpJQ/lib/python3.7/site-packages (from fire) (1.16.0)\n",
      "Collecting termcolor\n",
      "  Downloading termcolor-1.1.0.tar.gz (3.9 kB)\n",
      "Building wheels for collected packages: fire, termcolor\n",
      "  Building wheel for fire (setup.py) ... \u001b[?25ldone\n",
      "\u001b[?25h  Created wheel for fire: filename=fire-0.4.0-py2.py3-none-any.whl size=115943 sha256=9381c8fc9b1afffa856ad6f4e0432a66c635683c5db91cca3ab2e95ea5e773de\n",
      "  Stored in directory: /home/nazmiya/.cache/pip/wheels/8a/67/fb/2e8a12fa16661b9d5af1f654bd199366799740a85c64981226\n",
      "  Building wheel for termcolor (setup.py) ... \u001b[?25ldone\n",
      "\u001b[?25h  Created wheel for termcolor: filename=termcolor-1.1.0-py3-none-any.whl size=4847 sha256=1df9c3de036233106b10f1169e5c3d9a676a1c7e924741826b7dfdefd46b717a\n",
      "  Stored in directory: /home/nazmiya/.cache/pip/wheels/3f/e3/ec/8a8336ff196023622fbcb36de0c5a5c218cbb24111d1d4c7f2\n",
      "Successfully built fire termcolor\n",
      "Installing collected packages: termcolor, fire\n",
      "Successfully installed fire-0.4.0 termcolor-1.1.0\n"
     ]
    }
   ],
   "source": [
    "!pip install fire"
   ]
  },
  {
   "cell_type": "code",
   "execution_count": 23,
   "id": "7027e636",
   "metadata": {},
   "outputs": [
    {
     "name": "stdout",
     "output_type": "stream",
     "text": [
      "Writing cli_fire.py\n"
     ]
    }
   ],
   "source": [
    "%%writefile cli_fire.py\n",
    "import fire\n",
    "\n",
    "def hello(name='World'):\n",
    "    return f\"Hello {name}\"\n",
    "\n",
    "if __name__ =='__main__':\n",
    "    fire.Fire(hello)"
   ]
  },
  {
   "cell_type": "code",
   "execution_count": 24,
   "id": "5e837416",
   "metadata": {},
   "outputs": [
    {
     "name": "stdout",
     "output_type": "stream",
     "text": [
      "Writing cli_fire_inputs.py\n"
     ]
    }
   ],
   "source": [
    "%%writefile cli_fire_inputs.py\n",
    "from getpass import getpass\n",
    "import fire\n",
    "\n",
    "def login(name=None):\n",
    "    if name==None:\n",
    "        name=input(\"what's your name?\\n\")\n",
    "    pw=getpass(\"what's your password?\\n\")    \n",
    "    return name,pw\n",
    "\n",
    "if __name__ =='__main__':\n",
    "    fire.Fire(login)"
   ]
  },
  {
   "cell_type": "code",
   "execution_count": 31,
   "id": "2734198d",
   "metadata": {},
   "outputs": [
    {
     "name": "stdout",
     "output_type": "stream",
     "text": [
      "Overwriting cli_fire_pipeline.py\n"
     ]
    }
   ],
   "source": [
    "%%writefile cli_fire_pipeline.py\n",
    "import fire\n",
    "\n",
    "from getpass import getpass\n",
    "\n",
    "class Auth(object):\n",
    "    def login(self,username=None):\n",
    "        if username==None:\n",
    "            username=input(\"Username: \")\n",
    "        if username==None:\n",
    "            print(\"A username is required\")\n",
    "            return\n",
    "        pw=getpass(\"password: \")\n",
    "        return username,pw\n",
    "\n",
    "def login(username=None):\n",
    "    if username==None:\n",
    "        username=input(\"Username: \")\n",
    "    if username==None:\n",
    "        print(\"A username is required\")\n",
    "        return\n",
    "    pw=getpass(\"password: \")\n",
    "    return username,pw\n",
    "\n",
    "def scrape_tag(tag=\"javascript\",query_filter=\"Votes\",max_pages=50,pagesize=25):\n",
    "    base_url='https://stackoverflow.com/questions/tagged/'\n",
    "    datas=[]\n",
    "    for p in range(max_pages):\n",
    "        page_num=p+1\n",
    "        url=f\"{base_url}{tag}?tab={query_filter}&page={page_num}&pagesize={pagesize}\"\n",
    "        datas.append(url)\n",
    "    return datas\n",
    "\n",
    "class Pipeline(object):\n",
    "    def __init__(self):\n",
    "        self.scrape=scrape_tag\n",
    "        self.auth=Auth()\n",
    "        self.login=login\n",
    "if __name__ =='__main__':\n",
    "    fire.Fire(Pipeline)        "
   ]
  },
  {
   "cell_type": "markdown",
   "id": "5ecf5c19",
   "metadata": {},
   "source": [
    "###Bonus"
   ]
  },
  {
   "cell_type": "code",
   "execution_count": 1,
   "id": "d5a6ae95",
   "metadata": {},
   "outputs": [],
   "source": [
    "\n",
    "import inspect\n",
    "from collections import OrderedDict"
   ]
  },
  {
   "cell_type": "code",
   "execution_count": 2,
   "id": "5ea9d9af",
   "metadata": {},
   "outputs": [],
   "source": [
    "def rando_fn(abc,df=\"123\"):\n",
    "    print(abc,df)"
   ]
  },
  {
   "cell_type": "code",
   "execution_count": 3,
   "id": "28ca84dc",
   "metadata": {},
   "outputs": [
    {
     "name": "stdout",
     "output_type": "stream",
     "text": [
      "abc 123\n",
      "abc 123\n"
     ]
    }
   ],
   "source": [
    "rando_fn(\"abc\",\"123\")\n",
    "rando_fn(\"abc\",df=\"123\")"
   ]
  },
  {
   "cell_type": "code",
   "execution_count": 4,
   "id": "f3eac6ff",
   "metadata": {},
   "outputs": [
    {
     "name": "stdout",
     "output_type": "stream",
     "text": [
      "odict_items([('abc', <Parameter \"abc\">), ('df', <Parameter \"df='123'\">)])\n"
     ]
    }
   ],
   "source": [
    "sig= inspect.signature(rando_fn)\n",
    "print(sig.parameters.items())"
   ]
  },
  {
   "cell_type": "code",
   "execution_count": 5,
   "id": "3f71f135",
   "metadata": {},
   "outputs": [],
   "source": [
    "def get_signature(fn):\n",
    "    params=inspect.signature(fn).parameters\n",
    "    args=[]\n",
    "    kwargs=OrderedDict()\n",
    "    for p in params.values():\n",
    "        if p.default is p.empty:\n",
    "            args.append(p.name)\n",
    "        else:\n",
    "            kwargs[p.name]=p.default\n",
    "    return {\"args\":args,\"kwargs\":kwargs}        \n",
    "            "
   ]
  },
  {
   "cell_type": "code",
   "execution_count": 6,
   "id": "23282c3f",
   "metadata": {},
   "outputs": [
    {
     "data": {
      "text/plain": [
       "{'args': ['abc'], 'kwargs': OrderedDict([('df', '123')])}"
      ]
     },
     "execution_count": 6,
     "metadata": {},
     "output_type": "execute_result"
    }
   ],
   "source": [
    "get_signature(rando_fn)"
   ]
  },
  {
   "cell_type": "code",
   "execution_count": null,
   "id": "b139a814",
   "metadata": {},
   "outputs": [],
   "source": []
  }
 ],
 "metadata": {
  "kernelspec": {
   "display_name": "Python 3",
   "language": "python",
   "name": "python3"
  },
  "language_info": {
   "codemirror_mode": {
    "name": "ipython",
    "version": 3
   },
   "file_extension": ".py",
   "mimetype": "text/x-python",
   "name": "python",
   "nbconvert_exporter": "python",
   "pygments_lexer": "ipython3",
   "version": "3.7.3"
  }
 },
 "nbformat": 4,
 "nbformat_minor": 5
}
